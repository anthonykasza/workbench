{
 "metadata": {
  "name": "",
  "signature": "sha256:35d50040cde1b7f1d74105a84884b13ba0e9fb67f36c115be14507c2caadce1d"
 },
 "nbformat": 3,
 "nbformat_minor": 0,
 "worksheets": [
  {
   "cells": [
    {
     "cell_type": "markdown",
     "metadata": {},
     "source": [
      "<div style=\"float: right; margin: 0px 0px 0px 30px\"><img src=\"files/images/workbench.jpg\" width=\"400px\"></div>\n",
      "# Workbench: \n",
      "A light-weight and flexible approach to task management, execution and pipelining.\n",
      "## Adoption of Workbench:\n",
      "Open source tools have 3 primary components that are critical for adoption:\n",
      "\n",
      "  - ### How easy is it to get the system up and running?\n",
      "    - git clone https://github.com/SuperCowPowers/workbench.git\n",
      "    - Go through the 'Workbench Dependencies' section in the readme and about an hour later you should be done... \n",
      "    - So not great but not horrible either\n",
      " \n",
      "  - ### How easy is it to use?\n",
      "    - ZeroRPC has Python, Node.js, or CLI interfaces.See [ZeroRPC](http://zerorpc.dotcloud.com/).\n",
      "    <pre>\n",
      "    import zerorpc\n",
      "    c = zerorpc.Client()\n",
      "    c.connect(\"tcp://127.0.0.1:4242\")\n",
      "    with open('evil.pcap','rb') as f:\n",
      "        md5 = c.store_sample('evil.pcap', f.read())\n",
      "    print c.work_request('pcap_meta', md5)\n",
      "    </pre>\n",
      "    - Output from above 'client':\n",
      "    <pre>\n",
      "    {'pcap_meta': {'encoding': 'binary',\n",
      "     'file_size': 54339570,\n",
      "     'file_type': 'tcpdump (little-endian) - version 2.4 (Ethernet, 65535)',\n",
      "     'filename': 'evil.pcap',\n",
      "     'import_time': '2014-02-08T22:15:50.282000Z',\n",
      "     'md5': 'bba97e16d7f92240196dc0caef9c457a',\n",
      "     'mime_type': 'application/vnd.tcpdump.pcap'}}\n",
      "    </pre>\n",
      "  - ### How easy is it for me to put my own code into it?\n",
      "    - Below is the listing of the code for the 'strings' worker: Each worker needs to provide:\n",
      "        - dependencies (which other workers do you want as input)\n",
      "        - An execute method that takes a python dictionary as input and returns a python dictionary as output.\n",
      "        - That's it...\n",
      "<img src=\"files/images/strings_worker.png\" width=\"800px\" align=\"center\">\n",
      "\n",
      "# On with the demo, lets start up the workbench server...\n",
      "Run the workbench server (from somewhere, for the demo we're just going to start a local one)\n",
      "<pre>\n",
      "> cd workbench/server\n",
      "> python workbench.py\n",
      "</pre>\n",
      "\n",
      "#### Okay so when the server starts up, it autoloads any worker plugins in the server/worker directory and dynamically monitors the directory, if a new python file shows up, it's validated as a properly formed plugin and if it passes is added to the list of workers."
     ]
    },
    {
     "cell_type": "code",
     "collapsed": false,
     "input": [
      "# Lets start to interact with workbench, please note there is NO specific client to workbench,\n",
      "# Just use the ZeroRPC Python, Node.js, or CLI interfaces.\n",
      "import zerorpc\n",
      "c = zerorpc.Client()\n",
      "c.connect(\"tcp://127.0.0.1:4242\")"
     ],
     "language": "python",
     "metadata": {},
     "outputs": [
      {
       "metadata": {},
       "output_type": "pyout",
       "prompt_number": 21,
       "text": [
        "[None]"
       ]
      }
     ],
     "prompt_number": 21
    },
    {
     "cell_type": "markdown",
     "metadata": {},
     "source": [
      "<div style=\"float: left; margin: 0px 0px 0px 0px\"><img src=\"files/images/confused.jpg\" width=\"350px\"></div>\n",
      "\n",
      "## So I'm confused what am I suppose to do with workbench? \n",
      "<br>\n",
      "<font size=4> Workbench is often confusing for new users (we're trying to work on that). Please see our github repository https://github.com/SuperCowPowers/workbench for the latest documentation and notebooks examples (the notebook examples can really help). New users can start by typing **c.help()** after they connect to workbench.</font>"
     ]
    },
    {
     "cell_type": "code",
     "collapsed": false,
     "input": [
      "# I forgot what stuff I can do with workbench\n",
      "print c.help()"
     ],
     "language": "python",
     "metadata": {},
     "outputs": [
      {
       "output_type": "stream",
       "stream": "stdout",
       "text": [
        "\n",
        "Welcome to Workbench: Here's a list of help commands:\n",
        "\t - Run c.help_basic() for beginner help\n",
        "\t - Run c.help_commands() for command help\n",
        "\t - Run c.help_workers() for a list of workers\n",
        "\t - Run c.help_advanced() for advanced help\n",
        "\n",
        "See https://github.com/SuperCowPowers/workbench for more information\n"
       ]
      }
     ],
     "prompt_number": 22
    },
    {
     "cell_type": "code",
     "collapsed": false,
     "input": [
      "print c.help_basic()"
     ],
     "language": "python",
     "metadata": {},
     "outputs": [
      {
       "output_type": "stream",
       "stream": "stdout",
       "text": [
        "\n",
        "Workbench: Getting started...\n",
        "\t - 1) $ c.help_commands() for a list of commands\n",
        "\t - 2) $ print c.help_commands()['store_sample']\n",
        "\t - 3) $ c.help_workers() for a list a workers\n",
        "\t - 4) $ print c.help_commands()['meta']\n",
        "\t - 5) $ my_md5 = c.store_sample(...)\n",
        "\t - 6) $ output = c.work_request('meta', my_md5)\n"
       ]
      }
     ],
     "prompt_number": 23
    },
    {
     "cell_type": "code",
     "collapsed": false,
     "input": [
      "# STEP 1:\n",
      "# Okay get the list of commands from workbench\n",
      "c.help_commands()\n",
      "# The output below is a bit ugly but it's a dictionary so we can\n",
      "# get just the information about the command we want to use"
     ],
     "language": "python",
     "metadata": {},
     "outputs": [
      {
       "metadata": {},
       "output_type": "pyout",
       "prompt_number": 24,
       "text": [
        "{'add_node': ' Add the node with name and labels ',\n",
        " 'add_rel': \" Add a relationship: source, target must already exist (see add_node)\\n            'rel' is the name of the relationship 'contains' or whatever. \",\n",
        " 'clear_graph_db': ' Clear the Graph Database of all nodes and edges ',\n",
        " 'get_datastore_uri': ' Gives you the current datastore URL ',\n",
        " 'get_sample': \" Get a sample from the DataStore.\\n            Args:\\n                md5: the md5 of the sample\\n            Returns:\\n                A dictionary of meta data about the sample which includes\\n                a ['raw_bytes'] key that contains the raw bytes.\\n        \",\n",
        " 'get_sample_set': None,\n",
        " 'has_node': ' Does the DB have this node ',\n",
        " 'have_sample': ' Do we have this sample in the DataStore.\\n            Args:\\n                md5: the md5 of the sample\\n            Returns:\\n                True or False\\n        ',\n",
        " 'help': ' Returns Workbench help commands ',\n",
        " 'help_advanced': None,\n",
        " 'help_basic': None,\n",
        " 'help_commands': ' Returns the Workbench commands and docstrings ',\n",
        " 'help_workers': ' List the current worker plugins. ',\n",
        " 'index_sample': ' Index a stored sample with the Indexer ',\n",
        " 'index_worker_output': ' Index worker output with Indexer',\n",
        " 'search': ' Search an index',\n",
        " 'store_sample': \" Store a sample into the DataStore.\\n            Args:\\n                filename: name of the file (used purely as meta data not for lookup)\\n                input_bytes: the actual bytes of the sample e.g. f.read()\\n                type_tag: ('pe','pcap','pdf','json','swf', or ...)\\n            Returns:\\n                the md5 of the sample\\n        \",\n",
        " 'store_sample_set': ' Store a sample set (which is just a list of md5s).\\n            Note: All md5s must already be in the data store. ',\n",
        " 'work_request': ' Make a work request for an existing stored sample '}"
       ]
      }
     ],
     "prompt_number": 24
    },
    {
     "cell_type": "code",
     "collapsed": false,
     "input": [
      "# STEP 2:\n",
      "# Lets gets the infomation on store_sample\n",
      "print c.help_commands()['store_sample']"
     ],
     "language": "python",
     "metadata": {},
     "outputs": [
      {
       "output_type": "stream",
       "stream": "stdout",
       "text": [
        " Store a sample into the DataStore.\n",
        "            Args:\n",
        "                filename: name of the file (used purely as meta data not for lookup)\n",
        "                input_bytes: the actual bytes of the sample e.g. f.read()\n",
        "                type_tag: ('pe','pcap','pdf','json','swf', or ...)\n",
        "            Returns:\n",
        "                the md5 of the sample\n",
        "        \n"
       ]
      }
     ],
     "prompt_number": 25
    },
    {
     "cell_type": "code",
     "collapsed": false,
     "input": [
      "# STEP 3:\n",
      "# Now lets get infomation about the dynamically loaded workers (your site may have many more!)\n",
      "c.help_workers()\n",
      "# Ahh.. I'm getting this.. it's also a dictionary so we can\n",
      "# get just the information about the worker we want to use"
     ],
     "language": "python",
     "metadata": {},
     "outputs": [
      {
       "metadata": {},
       "output_type": "pyout",
       "prompt_number": 20,
       "text": [
        "{'json_meta': ' This worker computes a meta-data for json files. ',\n",
        " 'log_meta': ' This worker computes a meta-data for log files. ',\n",
        " 'meta': ' This worker computes meta data for any file type. ',\n",
        " 'meta_deep': ' This worker computes deeper meta-data ',\n",
        " 'pcap_bro': ' This worker runs Bro scripts on a pcap file ',\n",
        " 'pcap_graph': ' This worker generates a graph from a PCAP (depends on Bro) ',\n",
        " 'pe_classifier': ' This worker classifies PEFiles as Evil or Benign  (TOY not a real classifier at this point)',\n",
        " 'pe_deep_sim': ' This worker computes fuzzy matches between samples with ssdeep ',\n",
        " 'pe_features': ' Create instance of PEFileWorker class. This class pulls static\\n        features out of a PE file using the python pefile module.\\n    ',\n",
        " 'pe_indicators': \" Create instance of Indicators class. This class uses the\\n        static features from the pefile module to look for weird stuff.\\n        Note: All methods that start with 'check_' will be automatically\\n              included as part of the checks that happen when 'execute'\\n              is called.\\n    \",\n",
        " 'pe_peid': ' Create instance of PEIDWorker class. This class looks up signature for a PE file. ',\n",
        " 'strings': ' This worker extracts all the strings from any type of file ',\n",
        " 'swf_meta': ' This worker computes a bunch of meta-data about a SWF file ',\n",
        " 'unzip': ' This worker unzips a zipped file ',\n",
        " 'url': ' This worker looks for url patterns in strings output ',\n",
        " 'view': ' View: Generates a view for any file type ',\n",
        " 'view_customer': ' ViewCustomer: Generates a customer usage view. ',\n",
        " 'view_log_meta': ' ViewLogMeta: Generates a view for meta data on the sample ',\n",
        " 'view_meta': ' ViewMetaData: Generates a view for meta data on the sample ',\n",
        " 'view_pcap': ' ViewPcap: Generates a view for a pcap sample (depends on Bro)',\n",
        " 'view_pcap_details': ' ViewPcapDetails: Generates a view for a pcap sample (depends on Bro)',\n",
        " 'view_pdf': ' ViewPDFFile: Generates a view for PDF files ',\n",
        " 'view_pe': ' ViewPEFile: Generates a view for PE files ',\n",
        " 'view_zip': ' ViewZip: Generates a view for Zip files ',\n",
        " 'vt_query': ' This worker query Virus Total, an apikey needs to be provided ',\n",
        " 'yara_sigs': ' This worker check for matches against yara sigs. \\n        Output keys: [matches:list of matches] '}"
       ]
      }
     ],
     "prompt_number": 20
    },
    {
     "cell_type": "code",
     "collapsed": false,
     "input": [
      "# STEP 4:\n",
      "# Lets gets the infomation about the meta worker\n",
      "print c.help_workers()['meta']"
     ],
     "language": "python",
     "metadata": {},
     "outputs": [
      {
       "output_type": "stream",
       "stream": "stdout",
       "text": [
        " This worker computes meta data for any file type. \n"
       ]
      }
     ],
     "prompt_number": 26
    },
    {
     "cell_type": "markdown",
     "metadata": {},
     "source": [
      "<div style=\"float: right; margin: 0px 30px 0px 0px\"><img src=\"files/images/feeling_awesome.jpg\" width=\"300px\"></div>\n",
      "# Alright, are we feeling awesome yet? \n",
      "## Let do some stuff\n",
      "<font size=4> Workbench has lots of samples that you can try out (some of them are malicious, be careful!). So you can grab a PE file, a PCAP, or a PDF file and throw it in!\n",
      "</font>"
     ]
    },
    {
     "cell_type": "code",
     "collapsed": false,
     "input": [
      "# STEP 5:\n",
      "# Okay when we load up a file, we get the md5 back\n",
      "filename = '../data/pe/bad/0cb9aa6fb9c4aa3afad7a303e21ac0f3'\n",
      "with open(filename,'rb') as f:\n",
      "    my_md5 = c.store_sample(filename, f.read(),'pe')\n",
      "print my_md5"
     ],
     "language": "python",
     "metadata": {},
     "outputs": [
      {
       "output_type": "stream",
       "stream": "stdout",
       "text": [
        "0cb9aa6fb9c4aa3afad7a303e21ac0f3\n"
       ]
      }
     ],
     "prompt_number": 27
    },
    {
     "cell_type": "code",
     "collapsed": false,
     "input": [
      "# STEP 6:\n",
      "# Run a worker on my sample\n",
      "output = c.work_request('meta', my_md5)\n",
      "output"
     ],
     "language": "python",
     "metadata": {},
     "outputs": [
      {
       "metadata": {},
       "output_type": "pyout",
       "prompt_number": 30,
       "text": [
        "{'meta': {'customer': 'Mega Corp',\n",
        "  'encoding': 'binary',\n",
        "  'file_size': 20480,\n",
        "  'file_type': 'PE32 executable (GUI) Intel 80386, for MS Windows',\n",
        "  'filename': '../data/pe/bad/0cb9aa6fb9c4aa3afad7a303e21ac0f3',\n",
        "  'import_time': '2014-05-24T00:11:13.770000Z',\n",
        "  'length': 20480,\n",
        "  'md5': '0cb9aa6fb9c4aa3afad7a303e21ac0f3',\n",
        "  'mime_type': 'application/x-dosexec',\n",
        "  'type_tag': 'pe'}}"
       ]
      }
     ],
     "prompt_number": 30
    },
    {
     "cell_type": "markdown",
     "metadata": {},
     "source": [
      "<div style=\"float: left; margin: 0px 30px 0px 0px\"><img src=\"files/images/feeling_more_awesome.jpg\" width=\"350px\"></div>\n",
      "# Alright, now it's time to get fabulous!\n",
      "### Let check out some of the other workers\n",
      "<font size=4> We saw a bunch of workers for PE Files, so lets look at the help for those and start taking it up a notch!\n",
      "</font>"
     ]
    },
    {
     "cell_type": "code",
     "collapsed": false,
     "input": [
      "# Lets see what view_pe does\n",
      "print c.help_workers()['view_pe']"
     ],
     "language": "python",
     "metadata": {},
     "outputs": [
      {
       "output_type": "stream",
       "stream": "stdout",
       "text": [
        " Generates a high level summary view for PE files that incorporates a large set of workers \n"
       ]
      }
     ],
     "prompt_number": 35
    },
    {
     "cell_type": "code",
     "collapsed": false,
     "input": [
      "# Okay lets give it a try\n",
      "c.work_request('view_pe', my_md5)"
     ],
     "language": "python",
     "metadata": {},
     "outputs": [
      {
       "metadata": {},
       "output_type": "pyout",
       "prompt_number": 31,
       "text": [
        "{'view_pe': {'classification': 'Evil!',\n",
        "  'customer': 'Mega Corp',\n",
        "  'disass': 'plugin_failed',\n",
        "  'encoding': 'binary',\n",
        "  'file_size': 20480,\n",
        "  'file_type': 'PE32 executable (GUI) Intel 80386, for MS Windows',\n",
        "  'filename': '../data/pe/bad/0cb9aa6fb9c4aa3afad7a303e21ac0f3',\n",
        "  'import_time': '2014-05-24T00:11:13.770000Z',\n",
        "  'indicators': [{'attributes': ['findwindowexa', 'findwindowa'],\n",
        "    'category': 'ANTI_DEBUG',\n",
        "    'description': 'Imported symbols related to anti-debugging',\n",
        "    'severity': 3},\n",
        "   {'category': 'MALFORMED', 'description': 'Checksum of Zero', 'severity': 1},\n",
        "   {'category': 'MALFORMED',\n",
        "    'description': 'Reported Checksum does not match actual checksum',\n",
        "    'severity': 2},\n",
        "   {'attributes': ['sendmessagea'],\n",
        "    'category': 'COMMUNICATION',\n",
        "    'description': 'Imported symbols related to network communication',\n",
        "    'severity': 1},\n",
        "   {'attributes': ['getmodulehandlea', 'getstartupinfoa'],\n",
        "    'category': 'PROCESS_MANIPULATION',\n",
        "    'description': 'Imported symbols related to process manipulation/injection',\n",
        "    'severity': 3},\n",
        "   {'attributes': ['getsystemmetrics'],\n",
        "    'category': 'PROCESS_SPAWN',\n",
        "    'description': 'Imported symbols related to spawning a new process',\n",
        "    'severity': 2}],\n",
        "  'length': 20480,\n",
        "  'md5': '0cb9aa6fb9c4aa3afad7a303e21ac0f3',\n",
        "  'mime_type': 'application/x-dosexec',\n",
        "  'peid_Matches': ['Microsoft Visual C++ v6.0'],\n",
        "  'type_tag': 'pe'}}"
       ]
      }
     ],
     "prompt_number": 31
    },
    {
     "cell_type": "markdown",
     "metadata": {},
     "source": [
      "# The Workbench framework is client/server so here's what just happened...\n",
      "<br>\n",
      "<div style=\"margin: 0px 30px 0px 0px\"><img src=\"files/images/client_server.png\" width=\"900px\"></div>"
     ]
    },
    {
     "cell_type": "code",
     "collapsed": false,
     "input": [
      "# Okay, that worker needed the output of pe_features and pe_indicators\n",
      "# so what happened? The worker has a dependency list and workbench\n",
      "# recursively satisfies that dependency list.. this is powerful because\n",
      "# when we're interested in one particular analysis we just want to get\n",
      "# the darn thing without having to worry about a bunch of details\n",
      "\n",
      "# Well lets do this for a bunch of files!\n",
      "import os\n",
      "file_list = [os.path.join('../data/pe/bad', child) for child in os.listdir('../data/pe/bad')]\n",
      "working_set = []\n",
      "for filename in file_list:\n",
      "    with open(filename,'rb') as f:\n",
      "        md5 = c.store_sample(filename, f.read(), 'pe')\n",
      "        results = c.work_request('pe_classifier', md5)\n",
      "        working_set.append(md5)\n",
      "        print 'Results: %s' % (results)"
     ],
     "language": "python",
     "metadata": {},
     "outputs": [
      {
       "output_type": "stream",
       "stream": "stdout",
       "text": [
        "Results: {'pe_classifier': {'classification': 'Evil!', 'md5': '033d91aae8ad29ed9fbb858179271232'}}\n",
        "Results: {'pe_classifier': {'classification': 'Evil!', 'md5': '0cb9aa6fb9c4aa3afad7a303e21ac0f3'}}\n",
        "Results: {'pe_classifier': {'classification': 'Evil!', 'md5': '0e882ec9b485979ea84c7843d41ba36f'}}"
       ]
      },
      {
       "output_type": "stream",
       "stream": "stdout",
       "text": [
        "\n",
        "Results: {'pe_classifier': {'classification': 'Benign', 'md5': '0e8b030fb6ae48ffd29e520fc16b5641'}}"
       ]
      },
      {
       "output_type": "stream",
       "stream": "stdout",
       "text": [
        "\n",
        "Results: {'pe_classifier': {'classification': 'Benign', 'md5': '0eb9e990c521b30428a379700ec5ab3e'}}"
       ]
      },
      {
       "output_type": "stream",
       "stream": "stdout",
       "text": [
        "\n",
        "Results: {'pe_classifier': {'classification': 'Evil!', 'md5': '127f2bade752445b3dbf2cf2ea75c201'}}"
       ]
      },
      {
       "output_type": "stream",
       "stream": "stdout",
       "text": [
        "\n",
        "Results: {'pe_classifier': {'classification': 'Evil!', 'md5': '139385a91b9bca0833bdc1fa77e42b91'}}"
       ]
      },
      {
       "output_type": "stream",
       "stream": "stdout",
       "text": [
        "\n",
        "Results: {'pe_classifier': {'classification': 'Evil!', 'md5': '13dcc5b4570180118eb65529b77f6d89'}}"
       ]
      },
      {
       "output_type": "stream",
       "stream": "stdout",
       "text": [
        "\n",
        "Results: {'pe_classifier': {'classification': 'Evil!', 'md5': '1cac80a2147cd8f3860547e43edcaa00'}}"
       ]
      },
      {
       "output_type": "stream",
       "stream": "stdout",
       "text": [
        "\n",
        "Results: {'pe_classifier': {'classification': 'Evil!', 'md5': '1cea13cf888cd8ce4f869029f1dbb601'}}"
       ]
      },
      {
       "output_type": "stream",
       "stream": "stdout",
       "text": [
        "\n",
        "Results: {'pe_classifier': {'classification': 'Evil!', 'md5': '1d733a9e3e571ce5f5f633a0cfd3d5f0'}}"
       ]
      },
      {
       "output_type": "stream",
       "stream": "stdout",
       "text": [
        "\n",
        "Results: {'pe_classifier': {'classification': 'Evil!', 'md5': '2058c50de5976c67a09dfa5e0e1c7eb5'}}"
       ]
      },
      {
       "output_type": "stream",
       "stream": "stdout",
       "text": [
        "\n",
        "Results: {'pe_classifier': {'classification': 'Evil!', 'md5': '2d012cba541c22fb7250975d5ad0d065'}}"
       ]
      },
      {
       "output_type": "stream",
       "stream": "stdout",
       "text": [
        "\n",
        "Results: {'pe_classifier': {'classification': 'Evil!', 'md5': '2d015553c7388e4d78f05b24aba0819c'}}\n",
        "Results: {'pe_classifier': {'classification': 'Evil!', 'md5': '2d017ff228c39a0a727586b33f8168b0'}}"
       ]
      },
      {
       "output_type": "stream",
       "stream": "stdout",
       "text": [
        "\n",
        "Results: {'pe_classifier': {'classification': 'Evil!', 'md5': '2d09133abb48e1c7f3f5c8f8ced8fef4'}}"
       ]
      },
      {
       "output_type": "stream",
       "stream": "stdout",
       "text": [
        "\n",
        "Results: {'pe_classifier': {'classification': 'Evil!', 'md5': '2d094b6c69020091b68d1bcf5d11fa4b'}}"
       ]
      },
      {
       "output_type": "stream",
       "stream": "stdout",
       "text": [
        "\n",
        "Results: {'pe_classifier': {'classification': 'Evil!', 'md5': '2d095091983dd0bf6ab7c0bb6dd695f9'}}"
       ]
      },
      {
       "output_type": "stream",
       "stream": "stdout",
       "text": [
        "\n",
        "Results: {'pe_classifier': {'classification': 'Evil!', 'md5': '2d09546831b17d2cc0583362b6d312ae'}}"
       ]
      },
      {
       "output_type": "stream",
       "stream": "stdout",
       "text": [
        "\n",
        "Results: {'pe_classifier': {'classification': 'Evil!', 'md5': '2d099171876f7301c155bd775fff2b6a'}}"
       ]
      },
      {
       "output_type": "stream",
       "stream": "stdout",
       "text": [
        "\n",
        "Results: {'pe_classifier': {'classification': 'Benign', 'md5': '2d09a573b0e9d02a9fa47b16e9c01a48'}}"
       ]
      },
      {
       "output_type": "stream",
       "stream": "stdout",
       "text": [
        "\n",
        "Results: {'pe_classifier': {'classification': 'Evil!', 'md5': '2d09b5768e3617523d8afa110361919c'}}"
       ]
      },
      {
       "output_type": "stream",
       "stream": "stdout",
       "text": [
        "\n",
        "Results: {'pe_classifier': {'classification': 'Evil!', 'md5': '2d09b8d9852c3176259915e3509bcbd1'}}"
       ]
      },
      {
       "output_type": "stream",
       "stream": "stdout",
       "text": [
        "\n",
        "Results: {'pe_classifier': {'classification': 'Evil!', 'md5': '2d09ca902990545fec9ac190b0338b50'}}"
       ]
      },
      {
       "output_type": "stream",
       "stream": "stdout",
       "text": [
        "\n",
        "Results: {'pe_classifier': {'classification': 'Evil!', 'md5': '2d09cb38c268aa9297e5a7f27e677267'}}"
       ]
      },
      {
       "output_type": "stream",
       "stream": "stdout",
       "text": [
        "\n",
        "Results: {'pe_classifier': {'classification': 'Evil!', 'md5': '2d09cc92bbe29d96bb3a91b350d1725f'}}"
       ]
      },
      {
       "output_type": "stream",
       "stream": "stdout",
       "text": [
        "\n",
        "Results: {'pe_classifier': {'classification': 'Evil!', 'md5': '2d09e4aff42aebac87ae2fd737aba94f'}}"
       ]
      },
      {
       "output_type": "stream",
       "stream": "stdout",
       "text": [
        "\n",
        "Results: {'pe_classifier': {'classification': 'Evil!', 'md5': '32b24e73cfc3ac4c43f1926f8935e438'}}"
       ]
      },
      {
       "output_type": "stream",
       "stream": "stdout",
       "text": [
        "\n",
        "Results: {'pe_classifier': {'classification': 'Evil!', 'md5': '4ed28b6207560f127d267de639a4e1bf'}}"
       ]
      },
      {
       "output_type": "stream",
       "stream": "stdout",
       "text": [
        "\n",
        "Results: {'pe_classifier': {'classification': 'Evil!', 'md5': '505804ec7c7212a52ec85e075b91ed84'}}"
       ]
      },
      {
       "output_type": "stream",
       "stream": "stdout",
       "text": [
        "\n",
        "Results: {'pe_classifier': {'classification': 'Evil!', 'md5': '60a83c049e135cc199138c1f8861437c'}}"
       ]
      },
      {
       "output_type": "stream",
       "stream": "stdout",
       "text": [
        "\n",
        "Results: {'pe_classifier': {'classification': 'Evil!', 'md5': '69f9633fa6fd5dc1fd917cb435bba8ad'}}"
       ]
      },
      {
       "output_type": "stream",
       "stream": "stdout",
       "text": [
        "\n",
        "Results: {'pe_classifier': {'classification': 'Evil!', 'md5': '79f5e1af9fdb92476045989bda7515c7'}}"
       ]
      },
      {
       "output_type": "stream",
       "stream": "stdout",
       "text": [
        "\n",
        "Results: {'pe_classifier': {'classification': 'Evil!', 'md5': '7f313447b887b078215617fbed1a34a1'}}"
       ]
      },
      {
       "output_type": "stream",
       "stream": "stdout",
       "text": [
        "\n",
        "Results: {'pe_classifier': {'classification': 'Evil!', 'md5': '8006782bdf703e2f3fdf1d1650f45ffd'}}"
       ]
      },
      {
       "output_type": "stream",
       "stream": "stdout",
       "text": [
        "\n",
        "Results: {'pe_classifier': {'classification': 'Evil!', 'md5': '86714940f491bc38c2e842e80c7f778e'}}\n",
        "Results: {'pe_classifier': {'classification': 'Evil!', 'md5': '987bd46899b2a9493e6dec051edcb66c'}}"
       ]
      },
      {
       "output_type": "stream",
       "stream": "stdout",
       "text": [
        "\n",
        "Results: {'pe_classifier': {'classification': 'Evil!', 'md5': '9cd3d7b1b0f2aea5950cbf7d97776f2f'}}"
       ]
      },
      {
       "output_type": "stream",
       "stream": "stdout",
       "text": [
        "\n",
        "Results: {'pe_classifier': {'classification': 'Evil!', 'md5': '9ceccd9f32cb2ad0b140b6d15d8993b6'}}"
       ]
      },
      {
       "output_type": "stream",
       "stream": "stdout",
       "text": [
        "\n",
        "Results: {'pe_classifier': {'classification': 'Evil!', 'md5': '9e42ff1e6f75ae3e60b24e48367c8f26'}}"
       ]
      },
      {
       "output_type": "stream",
       "stream": "stdout",
       "text": [
        "\n",
        "Results: {'pe_classifier': {'classification': 'Evil!', 'md5': 'a7b0a9067d8292b252d741e6fae17cd9'}}\n",
        "Results: {'pe_classifier': {'classification': 'Benign', 'md5': 'afddc552b31a8f2438768c73674bf29e'}}"
       ]
      },
      {
       "output_type": "stream",
       "stream": "stdout",
       "text": [
        "\n",
        "Results: {'pe_classifier': {'classification': 'Evil!', 'md5': 'b681485cb9e0cad73ee85b9274c0d3c2'}}"
       ]
      },
      {
       "output_type": "stream",
       "stream": "stdout",
       "text": [
        "\n",
        "Results: {'pe_classifier': {'classification': 'Evil!', 'md5': 'bf1249a258cbcccec0f1b4ea1e9451a1'}}"
       ]
      },
      {
       "output_type": "stream",
       "stream": "stdout",
       "text": [
        "\n",
        "Results: {'pe_classifier': {'classification': 'Evil!', 'md5': 'c8c54ac7e827056174762c68db84534f'}}"
       ]
      },
      {
       "output_type": "stream",
       "stream": "stdout",
       "text": [
        "\n",
        "Results: {'pe_classifier': {'classification': 'Evil!', 'md5': 'cc113aa59c04b17e7cb832fc417f104d'}}"
       ]
      },
      {
       "output_type": "stream",
       "stream": "stdout",
       "text": [
        "\n",
        "Results: {'pe_classifier': {'classification': 'Benign', 'md5': 'd94da41e7e809f7366971b3b50f8ef68'}}"
       ]
      },
      {
       "output_type": "stream",
       "stream": "stdout",
       "text": [
        "\n",
        "Results: {'pe_classifier': {'classification': 'Evil!', 'md5': 'e9a6c83826deacfbc2281b6c7e401694'}}"
       ]
      },
      {
       "output_type": "stream",
       "stream": "stdout",
       "text": [
        "\n",
        "Results: {'pe_classifier': {'classification': 'Evil!', 'md5': 'ea5d95c96a23b21b9038f03b91955c18'}}"
       ]
      },
      {
       "output_type": "stream",
       "stream": "stdout",
       "text": [
        "\n",
        "Results: {'pe_classifier': {'classification': 'Evil!', 'md5': 'f6190648c2efb764ae1d73b0e9a4fd13'}}\n"
       ]
      }
     ],
     "prompt_number": 34
    },
    {
     "cell_type": "code",
     "collapsed": false,
     "input": [
      "# We just ran the classifer on 50 files and you'll note that we ONLY got back the\n",
      "# information we ask for. On a large amount of files (100k or greater) if you don't\n",
      "# have a granular system, something this easy WILL NOT BE POSSIBLE! (dramatic enough?)\n",
      "\n",
      "# So lets look at the features going into the classifier (btw the classifier is currently a TOY EXAMPLE)\n",
      "c.work_request('pe_features', md5)"
     ],
     "language": "python",
     "metadata": {},
     "outputs": [
      {
       "metadata": {},
       "output_type": "pyout",
       "prompt_number": 88,
       "text": [
        "{'pe_features': {'dense_features': {'check_sum': 0,\n",
        "   'compile_date': 1074901182,\n",
        "   'datadir_IMAGE_DIRECTORY_ENTRY_BASERELOC_size': 2348796035,\n",
        "   'datadir_IMAGE_DIRECTORY_ENTRY_EXPORT_size': 0,\n",
        "   'datadir_IMAGE_DIRECTORY_ENTRY_IAT_size': 0,\n",
        "   'datadir_IMAGE_DIRECTORY_ENTRY_IMPORT_size': 20,\n",
        "   'datadir_IMAGE_DIRECTORY_ENTRY_RESOURCE_size': 262,\n",
        "   'debug_size': 0,\n",
        "   'export_size': 0,\n",
        "   'generated_check_sum': 62500,\n",
        "   'iat_rva': 86510,\n",
        "   'major_version': 0,\n",
        "   'minor_version': 57,\n",
        "   'number_of_bound_import_symbols': 0,\n",
        "   'number_of_bound_imports': 0,\n",
        "   'number_of_export_symbols': 0,\n",
        "   'number_of_import_symbols': 0,\n",
        "   'number_of_imports': 0,\n",
        "   'number_of_rva_and_sizes': 10,\n",
        "   'number_of_sections': 3,\n",
        "   'pe_char': 33167,\n",
        "   'pe_dll': 0,\n",
        "   'pe_driver': 0,\n",
        "   'pe_exe': 1,\n",
        "   'pe_i386': 1,\n",
        "   'pe_majorlink': 76,\n",
        "   'pe_minorlink': 111,\n",
        "   'pe_warnings': 1,\n",
        "   'sec_entropy_': 7.876937179741062,\n",
        "   'sec_entropy_@': 5.388003199139927,\n",
        "   'sec_entropy_data': 0,\n",
        "   'sec_entropy_ps': 5.388003199139927,\n",
        "   'sec_entropy_rdata': 0,\n",
        "   'sec_entropy_reloc': 0,\n",
        "   'sec_entropy_rsrc': 0,\n",
        "   'sec_entropy_text': 0,\n",
        "   'sec_raw_execsize': 6984,\n",
        "   'sec_rawptr_': 512,\n",
        "   'sec_rawptr_@': 16,\n",
        "   'sec_rawptr_data': 0,\n",
        "   'sec_rawptr_ps': 16,\n",
        "   'sec_rawptr_rsrc': 0,\n",
        "   'sec_rawptr_text': 0,\n",
        "   'sec_rawsize_': 5992,\n",
        "   'sec_rawsize_@': 496,\n",
        "   'sec_rawsize_data': 0,\n",
        "   'sec_rawsize_ps': 496,\n",
        "   'sec_rawsize_rsrc': 0,\n",
        "   'sec_rawsize_text': 0,\n",
        "   'sec_va_execsize': 86016,\n",
        "   'sec_vasize_': 36864,\n",
        "   'sec_vasize_@': 4096,\n",
        "   'sec_vasize_data': 0,\n",
        "   'sec_vasize_ps': 45056,\n",
        "   'sec_vasize_rsrc': 0,\n",
        "   'sec_vasize_text': 0,\n",
        "   'size_code': 1766614113,\n",
        "   'size_image': 90112,\n",
        "   'size_initdata': 1918988898,\n",
        "   'size_uninit': 16761,\n",
        "   'std_section_names': 0,\n",
        "   'total_size_pe': 6504,\n",
        "   'virtual_address': 4096,\n",
        "   'virtual_size': 45056,\n",
        "   'virtual_size_2': 36864},\n",
        "  'md5': 'f6190648c2efb764ae1d73b0e9a4fd13',\n",
        "  'sparse_features': {'imp_hash': 'Not found: Install pefile 1.2.10-139 or later',\n",
        "   'imported_symbols': [],\n",
        "   'pe_warning_strings': ['Error parsing section 0. PointerToRawData should normally be a multiple of FileAlignment, this might imply the file is trying to confuse tools which parse this incorrectly',\n",
        "    'Suspicious flags set for section 0. Both IMAGE_SCN_MEM_WRITE and IMAGE_SCN_MEM_EXECUTE are set. This might indicate a packed executable.',\n",
        "    'Suspicious flags set for section 1. Both IMAGE_SCN_MEM_WRITE and IMAGE_SCN_MEM_EXECUTE are set. This might indicate a packed executable.',\n",
        "    'Error parsing section 2. PointerToRawData should normally be a multiple of FileAlignment, this might imply the file is trying to confuse tools which parse this incorrectly',\n",
        "    'Suspicious flags set for section 2. Both IMAGE_SCN_MEM_WRITE and IMAGE_SCN_MEM_EXECUTE are set. This might indicate a packed executable.',\n",
        "    'Corrupt header \"IMAGE_IMPORT_DESCRIPTOR\" at file offset 494. Exception: \\'Data length less than expected header length.\\'',\n",
        "    \"Invalid relocation information. Can't read data at RVA: 0x476ffa5\"],\n",
        "   'section_names': ['ps', '', '@']}}}"
       ]
      }
     ],
     "prompt_number": 88
    },
    {
     "cell_type": "code",
     "collapsed": false,
     "input": [
      "c.work_request('pe_indicators', md5)"
     ],
     "language": "python",
     "metadata": {},
     "outputs": [
      {
       "metadata": {},
       "output_type": "pyout",
       "prompt_number": 89,
       "text": [
        "{'pe_indicators': {'indicator_list': [{'category': 'PE_WARN',\n",
        "    'description': 'Error parsing section 0. PointerToRawData should normally be a multiple of FileAlignment, this might imply the file is trying to confuse tools which parse this incorrectly',\n",
        "    'severity': 2},\n",
        "   {'category': 'PE_WARN',\n",
        "    'description': 'Suspicious flags set for section 0. Both IMAGE_SCN_MEM_WRITE and IMAGE_SCN_MEM_EXECUTE are set. This might indicate a packed executable.',\n",
        "    'severity': 2},\n",
        "   {'category': 'PE_WARN',\n",
        "    'description': 'Suspicious flags set for section 1. Both IMAGE_SCN_MEM_WRITE and IMAGE_SCN_MEM_EXECUTE are set. This might indicate a packed executable.',\n",
        "    'severity': 2},\n",
        "   {'category': 'PE_WARN',\n",
        "    'description': 'Error parsing section 2. PointerToRawData should normally be a multiple of FileAlignment, this might imply the file is trying to confuse tools which parse this incorrectly',\n",
        "    'severity': 2},\n",
        "   {'category': 'PE_WARN',\n",
        "    'description': 'Suspicious flags set for section 2. Both IMAGE_SCN_MEM_WRITE and IMAGE_SCN_MEM_EXECUTE are set. This might indicate a packed executable.',\n",
        "    'severity': 2},\n",
        "   {'category': 'PE_WARN',\n",
        "    'description': 'Corrupt header \"IMAGE_IMPORT_DESCRIPTOR\" at file offset 494. Exception: \\'Data length less than expected header length.\\'',\n",
        "    'severity': 2},\n",
        "   {'category': 'PE_WARN',\n",
        "    'description': \"Invalid relocation information. Can't read data at RVA: 0x476ffa5\",\n",
        "    'severity': 2},\n",
        "   {'category': 'MALFORMED', 'description': 'Checksum of Zero', 'severity': 1},\n",
        "   {'category': 'MALFORMED',\n",
        "    'description': 'Reported Checksum does not match actual checksum',\n",
        "    'severity': 2},\n",
        "   {'category': 'MALFORMED',\n",
        "    'description': 'Image size does not match reported size',\n",
        "    'severity': 3},\n",
        "   {'attributes': ['ps', '', '@'],\n",
        "    'category': 'MALFORMED',\n",
        "    'description': 'Section(s) with a non-standard name, tamper indication',\n",
        "    'severity': 3},\n",
        "   {'attributes': ['PS', '@\\x00\\x0f@\\x00'],\n",
        "    'category': 'MALFORMED',\n",
        "    'description': 'Unaligned section, tamper indication',\n",
        "    'severity': 3}],\n",
        "  'md5': 'f6190648c2efb764ae1d73b0e9a4fd13'}}"
       ]
      }
     ],
     "prompt_number": 89
    },
    {
     "cell_type": "markdown",
     "metadata": {},
     "source": [
      "## Wow, that's a lot of features... Good thing I can ask for just what I want and minimize network traffic.\n",
      "\n",
      "On another note, did we just waste some time there? Did workbench have to recompute the features? No everything done by workbench is pushed into the MongoDB backend and then if the work results for that md5 are already in the datastore the a very lightweight call is made to get the results. In fact results are never directly returned, the worker pushes into Mongo and then we pull them out and hand them to the client, that way we ^ensure^ that the bits in the datastore and the bits that you get are the exact same 'gold bits' (seems like overkill but it's important).\n",
      "## Your data - Transparent, Organized, Accessible\n",
      "<div style=\"margin: 50px 0px 0px 30px\"><img src=\"files/images/mongo_data.png\" width=\"800px\"></div>\n"
     ]
    },
    {
     "cell_type": "code",
     "collapsed": false,
     "input": [
      "# Another example.. I want to look at strings for different types of files (not just pe_files)\n",
      "# So we can load up a few pdfs (the pe's are already in the datastore)\n",
      "file_list = [os.path.join('../data/pdf/bad', child) for child in os.listdir('../data/pdf/bad')]\n",
      "for filename in file_list:\n",
      "    with open(filename,'rb') as f:\n",
      "        md5 = c.store_sample(filename, f.read(), 'pdf')\n",
      "        working_set.append(md5)"
     ],
     "language": "python",
     "metadata": {},
     "outputs": [],
     "prompt_number": 90
    },
    {
     "cell_type": "code",
     "collapsed": false,
     "input": [
      "# Now we rip the strings worker on them all\n",
      "for md5 in working_set:\n",
      "    result = c.work_request('strings', md5)\n",
      "    print 'results: %s' % (result['strings']['string_list'][:5]) # strings output is large so just showing the first 5"
     ],
     "language": "python",
     "metadata": {},
     "outputs": [
      {
       "output_type": "stream",
       "stream": "stdout",
       "text": [
        "results: ['    ', '!This program cannot be run in DOS mode.', 'Rich', '.text', '.rdata']\n",
        "results: ['!This program cannot be run in DOS mode.', 'Rich3', '.text', '`.rdata', '@.data']\n",
        "results: ['!This program cannot be run in DOS mode.', 'Rich', '.text', '`.data', '.rsrc']\n",
        "results: ['This program must be run under Win32', 'CODE', '`DATA', '.idata', '.tls']\n",
        "results: ['!This program cannot be run in DOS mode.', 'Rich', '.text', '`.rdata', '@DATA']\n",
        "results: ['!This program cannot be run in DOS mode.', 'kRich', '.text', '`.rdata', '@.data']\n",
        "results: ['!This program cannot be run in DOS mode.', '.text', '.code', '`.data', '.data3']\n",
        "results: ['!This program cannot be run in DOS mode.', 'YRich', '.text', '`.rdata', '@.data']"
       ]
      },
      {
       "output_type": "stream",
       "stream": "stdout",
       "text": [
        "\n",
        "results: ['!This program cannot be run in DOS mode.', '.text', '`.data', '.rsrc', 'blenkxr']\n",
        "results: ['!This program cannot be run in DOS mode.', 'Rich', '.text', '`.rdata', '@.data']\n",
        "results: ['!This program cannot be run in DOS mode.', '.text', '.data', '.rsrc', 'aitrfvl']\n",
        "results: ['This program must be run under Win32', 'ATSEC0', '`ATSEC1', '@ATSEC2', '@idata']\n",
        "results: ['This program must be run under Win32', 'CODE', '`DATA', '.idata', '.reloc']\n",
        "results: ['yrf<[LordPE]', '.text', '.text', 'ExitProcess', 'KERNEL32.dll']"
       ]
      },
      {
       "output_type": "stream",
       "stream": "stdout",
       "text": [
        "\n",
        "results: ['!This program cannot be run in DOS mode.', 'Rich', '.text', '`rdata', '.data']\n",
        "results: ['!This program cannot be run in DOS mode.', '6Rich#', '^\"+M', 'UPX0', 'UPX1']\n",
        "results: ['!This program cannot be run in DOS mode.', 'Rich\"', '.text', '@.code', '`.data']\n",
        "results: ['yrf<[LordPE]', '.text', '.text', 'ExitProcess', 'KERNEL32.dll']"
       ]
      },
      {
       "output_type": "stream",
       "stream": "stdout",
       "text": [
        "\n",
        "results: ['!This program cannot be run in DOS mode.', 'Riche', '.text', '.data', '.rsrc']\n",
        "results: ['!This program cannot be run in DOS mode.', 'Rich', '.text', '`rdata', '.data']\n",
        "results: ['!This program cannot be run in DOS mode.', 'Rich', '.data', '`.data', '`.data']\n",
        "results: ['!This program cannot be run in DOS mode.', '.text', '`.data', '.idata', '@.rsrc']\n",
        "results: ['!This program cannot be run in DOS mode.', \">O'X_!tX_!tX_!t\", '@+tN_!t', 'C/tR_!t:@2tS_!tX_ t', '@*t[_!t']"
       ]
      },
      {
       "output_type": "stream",
       "stream": "stdout",
       "text": [
        "\n",
        "results: ['!This program cannot be run in DOS mode.', 'RichX', 'E0TK', '.text', '`.rdata']\n",
        "results: ['!This program cannot be run in DOS mode.', 'Rich', '.text', '`rdata', '.data']\n",
        "results: ['!This program cannot be run in DOS mode.', 'Rich', '.text', '`.rdata', '@.data']\n",
        "results: ['!This program cannot be run in DOS mode.', 'UPX0', 'UPX1', '.rsrc', '3.03']\n",
        "results: ['    ', '!This program cannot be run in DOS mode.', 'Rich', '.text', '.rdata']"
       ]
      },
      {
       "output_type": "stream",
       "stream": "stdout",
       "text": [
        "\n",
        "results: ['!This program cannot be run in DOS mode.', 'Rich', '.data', '.pdata', '.ex_cod']\n",
        "results: ['This program must be run under Win32', 'CODE', '`DATA', '.idata', '.tls']\n",
        "results: ['!This program cannot be run in DOS mode.', '.text', '`.rdata', '@.data', '_TEXT2']\n",
        "results: ['!This program cannot be run in DOS mode.', 'ERich', 'UPX0', 'UPX1', 'UPX2']\n",
        "results: ['This program must be run under Win32', 'mnYD', 'CODE', '`DATA', '.idata']\n",
        "results: ['!This program cannot be run in DOS mode.', '.text', '`.rdata', '@.data', '_TEXT2']"
       ]
      },
      {
       "output_type": "stream",
       "stream": "stdout",
       "text": [
        "\n",
        "results: ['!This program cannot be run in DOS mode.', 'Rich', '.PEX', '`.PEX', 'Bome']\n",
        "results: ['!This program cannot be run in DOS mode.', '|Richv', 'UPX0', 'UPX1', '.rsrc']\n",
        "results: ['!This program cannot be run in DOS mode.', 'Rich', '.text', '`.rdata', '@.data']\n",
        "results: ['!This program cannot be run in DOS mode.', 'sIPE', '.text', '.data', '.rsrc']\n",
        "results: ['!This program cannot be run in DOS mode.', '.text', '.data', '.rsrc', 'mzphdwa']\n",
        "results: ['!This program cannot be run in DOS mode.', '.text', '.data', '.rsrc', 'lsicbkg']"
       ]
      },
      {
       "output_type": "stream",
       "stream": "stdout",
       "text": [
        "\n",
        "results: ['!This program cannot be run in DOS mode.', 'Rich', '.packed', '`.RLPack', 'a?/u']\n",
        "results: ['!This program cannot be run in DOS mode.', 'Rich', '.text', 'h.rdata', 'H.reloc']\n",
        "results: ['This program must be run under Win32', 'CODE', '`DATA', '.idata', '.tls']\n",
        "results: ['    ', '!This program cannot be run in DOS mode.', 'Rich', '.text', '.rdata']\n",
        "results: ['!This program cannot be run in DOS mode.', '.text', '.data', '.rdata', '@.bss']\n",
        "results: ['!This program cannot be run in DOS mode.', 'ssaR', \"'#K'\", '.data', '.text']\n",
        "results: ['!This program cannot be run in DOS mode.', 'BZ.`', 'Richy', 'J!NH', '.text']"
       ]
      },
      {
       "output_type": "stream",
       "stream": "stdout",
       "text": [
        "\n",
        "results: ['!This program cannot be run in DOS mode.', 'RichW', '.text', '.data', '.rsrc']\n",
        "results: ['.text', 'KERNEL32.DLL', 'MSVCRT.DLL', 'USER32.DLL', 'ADVAPI32.DLL']\n",
        "results: ['MZKERNEL32.DLL', 'LoadLibraryA', 'GetProcAddress', '^]YF', 'W8mu']\n",
        "results: ['%PDF-1.6', '52 0 obj<</Length 51252212/Root 1 0 R/Info 3 0 R%/F/W[1 2 1]/Index[5 1 7 1 9 4 23 4 50 3]>>stream', '/Filter/FlateDecode/W[1 2 1]/Index[5 1 7 1 9 4 23 4 50 3]>>stream', 'bbb0b`b```', '310Z']\n",
        "results: ['%PDF-1.1', '1 0 obj', ' /Type /Catalog', ' /Outlines 2 0 R', ' /Pages 3 0 R']\n",
        "results: ['%PDF-1.3', '2 0 obj', '/OpenAction << /JS 9 0 R /S /JavaScript >>', '/Type /Catalog', '/Pages 3 0 R']\n",
        "results: ['%PDF-1.4', '1 0 obj', '/Type /Catalog', '/Outlines 3 0 R', '/Pages 4 0 R']\n",
        "results: ['%PDF-1.6', '11 0 obj', '<</Filter/FlateDecode /Length 2523>>', 'stream', 's--e']\n",
        "results: ['%PDF-1.4', '1 0 obj', '<</Pages 2 0 R  /OpenAction <<', '/JS 4 0 R /S /JavaScript /Type /Catalog>>>>', 'endobj']\n",
        "results: ['%PDF-1.0', '1 0 obj<</Type/Catalog/Pages 2 0 R /Names 3 0 R >>endobj', '2 0 obj<</Type/Pages/Count 1/Kids[ 4 0 R ]>>endobj', '3 0 obj<</JavaScript 5 0 R >>endobj', '4 0 obj<</Type/Page/Parent 2 0 R /Contents 12 0 R>>endobj']\n",
        "results: ['%PDF-1.6', '7 0 obj', '<</Count 1/Type/Pages/Kids[28 0 R]>>', 'endobj', '21 0 obj']"
       ]
      },
      {
       "output_type": "stream",
       "stream": "stdout",
       "text": [
        "\n",
        "results: ['%PDF-1.3', '4 0 obj', 'endobj', '5 0 obj', '/Producer (substr)']\n",
        "results: ['%PDF-1.5', '1 0 obj<</#54ype/#43atal#6fg/Outlin#65#73 2 0 R/#50ages 3 0 R/Ope#6e#41ctio#6e 5 0 R>>endobj', '2 0 obj<</T#79#70#65/#4fu#74li#6e#65s/C#6funt 0>>endobj', '3 0 obj<</Ty#70#65/Pa#67#65s/K#69ds[4 0 R]/#43o#75nt 1>>endobj', '4 0 obj<</#54#79pe/P#61g#65/#50a#72#65#6et 3 0 R/#4d#65#64i#61B#6f#78[0 0 612 792]>>endobj']\n",
        "results: ['%PDF-1.3', '4 0 obj', '<< /Length 5 0 R /Filter /FlateDecode >>', 'stream', '}b%~T\\\\']\n",
        "results: ['%PDF-1.7', '3 0 obj', '<</Type /Page', '/Parent 1 0 R', '/MediaBox [0 0 595.28 841.89]']\n",
        "results: ['%PDF-1.3', '%&#1074;&#1075;&#1055;&#1059;', '1 0 obj', '/Outlines 2 0 R', '/OpenAction 3 0 R']\n",
        "results: ['%PDF-1.6', '10 0 obj', '<</Filter/FlateDecode /Length 1563>>', 'stream', '}V]o']\n",
        "results: ['%PDF-1.3', '3 0 obj', '<</Type /Page', '/Parent 1 0 R', '/Resources 2 0 R']\n",
        "results: ['%PDF-1.6', '12 0 obj', '<</Filter/FlateDecode /Length 2063>>', 'stream', 'W1OOO']\n",
        "results: ['%PDF-1.4', '1 0 obj', '/Type /Catalog', '/Outlines 3 0 R', '/Pages 4 0 R']"
       ]
      },
      {
       "output_type": "stream",
       "stream": "stdout",
       "text": [
        "\n",
        "results: ['%PDF-1.0', '1 0 obj<</Type/Catalog/Pages 2 0 R /Names 3 0 R >>endobj', '2 0 obj<</Type/Pages/Count 1/Kids[ 4 0 R ]>>endobj', '3 0 obj<</JavaScript 5 0 R >>endobj', '4 0 obj<</Type/Page/Parent 2 0 R /Contents 12 0 R>>endobj']\n",
        "results: ['%PDF-1.6', '7 0 obj', '<</Length 2307 /Filter/FlateDecode>>', 'stream', '&^:_']\n",
        "results: ['%PDF-1.0', '1 0 obj<</Type/Catalog/Pages 2 0 R /Names 3 0 R >>endobj', '2 0 obj<</Type/Pages/Count 1/Kids[ 4 0 R ]>>endobj', '3 0 obj<</JavaScript 5 0 R >>endobj', '4 0 obj<</Type/Page/Parent 2 0 R /Contents 12 0 R>>endobj']\n",
        "results: ['%PDF-1.6', '9 0 obj', '<</Filter/FlateDecode /Length 2278>>', 'stream', '$z(R']\n",
        "results: ['%PDF-1.6', '1 0 obj', '<</MediaBox [0 0 1 1] /Type/Page /Contents 3 0 R /Parent 5 0 R>>', 'endobj', '5 0 obj']\n",
        "results: ['%PDF-1.3', '1 0 obj', '/Kids [ 4 0 R ]', '/Type /Pages', '/Count 1']\n",
        "results: ['%PDF-1.6', '7 0 obj', '<</Count 1/Type/Pages/Kids[28 0 R]>>', 'endobj', '21 0 obj']\n",
        "results: ['%PDF-1.6', '3 0 obj', '<</Filter/FlateDecode /Length 1905>>', 'stream', \"z]%'\"]\n"
       ]
      }
     ],
     "prompt_number": 91
    },
    {
     "cell_type": "markdown",
     "metadata": {},
     "source": [
      "<div style=\"float: right; margin: 50px 0px 0px 30px\"><img src=\"files/images/eyeball_2.jpg\" width=\"300px\"></div>\n",
      "# Views\n",
      "Views exemplify the true power of the workbench. They are meta workers in the broadest sense, they can call any set of workers (and other views, which are just workers of course). All of the previous notebook code focused on demonstrating the level of control and granularity you can use with workbench, here the example we're going to show for views will be for those who don't care about granularity and really just want a big 'GO' button.\n",
      "\n",
      "Views can also be precise or general (example shows the latter):\n",
      "\n",
      "    - Customer billing View\n",
      "    - Sample volume over time View\n",
      "    - All samples that use communications calls View\n",
      "    - DO_EVERYTHING_BECAUSE_I_WANT_TO_PUNCH_GRANULARITY_IN_THE_NUTS! View\n",
      "    \n",
      "So lets look at the last kind .. it's called 'view' and like many of the other workers it's 20 lines of code.\n",
      "\n",
      "But it's deceptively simple, if you think about what must be happening below... over a dozen workers are getting orchestrated and run only when it makes sense for that MIME type. So with a few  'pull' calls the recursive dependency chains are invoked; work is done if/when it's needed and the whole thing is fantastically elegant and efficient. If your mind isn't a little bit blown by what happens below then you might not be paying attention."
     ]
    },
    {
     "cell_type": "code",
     "collapsed": false,
     "input": [
      "# This just grabs all the file_paths recursively\n",
      "def tag_type(path):\n",
      "    types = ['bro','json','logs','pcap','pdf','pe','swf','zip']\n",
      "    for try_type in types:\n",
      "        if try_type in os.path.dirname(path):\n",
      "            return try_type\n",
      "\n",
      "file_list = []\n",
      "for p,d,f_list in os.walk('../data'):\n",
      "    file_list += [os.path.join(p, f) for f in f_list]"
     ],
     "language": "python",
     "metadata": {},
     "outputs": [],
     "prompt_number": 92
    },
    {
     "cell_type": "markdown",
     "metadata": {},
     "source": [
      "<div style=\"float: left; margin: 0px 0px 0px 50px\"><img src=\"files/images/anxious.jpg\" width=\"150px\"></div>\n",
      "### Please note the next cell takes several minutes to complete\n",
      "#### The repository has hundreds of test files and the next few lines of python runs them all through 4-5 workers each, yes 'view' is like a magic pony it will figure out what workers to run on which file types (peid is the big time hog in case you're wondering)."
     ]
    },
    {
     "cell_type": "code",
     "collapsed": false,
     "input": [
      "# We're going to load in all the files which include PE files, PCAPS, PDFs, and ZIPs and run 'view' on them.\n",
      "# Note: This takes a while :)\n",
      "import pprint\n",
      "results = []\n",
      "for filename in file_list:\n",
      "    with open(filename,'rb') as f:\n",
      "        md5 = c.store_sample(os.path.basename(filename), f.read(), tag_type(filename))\n",
      "        results.append(c.work_request('view', md5))\n",
      "pprint.pprint(results[:5])"
     ],
     "language": "python",
     "metadata": {},
     "outputs": [
      {
       "output_type": "stream",
       "stream": "stdout",
       "text": [
        "[{'view': {'md5': '9e80752f0e287dabd6b0c195552073d1',\n",
        "           'meta': {'customer': 'Dorseys Mom',\n",
        "                    'encoding': 'binary',\n",
        "                    'file_size': 6148,\n",
        "                    'file_type': 'Apple Desktop Services Store',\n",
        "                    'filename': '.DS_Store',\n",
        "                    'import_time': '2014-05-09T17:32:17.522000Z',\n",
        "                    'length': 6148,\n",
        "                    'md5': '9e80752f0e287dabd6b0c195552073d1',\n",
        "                    'mime_type': 'binary',\n",
        "                    'type_tag': None}}},\n",
        " {'view': {'md5': 'f12f0237be84a8e353477e55ec43589b',\n",
        "           'meta': {'customer': 'Mega Corp',\n",
        "                    'encoding': 'us-ascii',\n",
        "                    'file_size': 25218,\n",
        "                    'file_type': 'ASCII text',\n",
        "                    'filename': 'conn.log',\n",
        "                    'import_time': '2014-05-09T17:32:17.534000Z',\n",
        "                    'length': 25218,\n",
        "                    'md5': 'f12f0237be84a8e353477e55ec43589b',\n",
        "                    'mime_type': 'text/plain',\n",
        "                    'type_tag': 'bro'}}},\n",
        " {'view': {'md5': 'a62fd3c72c1d688ff8041e0be87d07aa',\n",
        "           'meta': {'customer': 'Mega Corp',\n",
        "                    'encoding': 'us-ascii',\n",
        "                    'file_size': 541,\n",
        "                    'file_type': 'ASCII text',\n",
        "                    'filename': 'dhcp.log',\n",
        "                    'import_time': '2014-05-09T17:32:17.553000Z',\n",
        "                    'length': 541,\n",
        "                    'md5': 'a62fd3c72c1d688ff8041e0be87d07aa',\n",
        "                    'mime_type': 'text/plain',\n",
        "                    'type_tag': 'bro'}}},\n",
        " {'view': {'md5': '438022b94b10cada18414314b0c8584b',\n",
        "           'meta': {'customer': 'BearTron',\n",
        "                    'encoding': 'us-ascii',\n",
        "                    'file_size': 23896,\n",
        "                    'file_type': 'ASCII text',\n",
        "                    'filename': 'dns.log',\n",
        "                    'import_time': '2014-05-09T17:32:17.571000Z',\n",
        "                    'length': 23896,\n",
        "                    'md5': '438022b94b10cada18414314b0c8584b',\n",
        "                    'mime_type': 'text/plain',\n",
        "                    'type_tag': 'bro'}}},\n",
        " {'view': {'md5': 'f57da114f0f1e07b93f374d68c65c583',\n",
        "           'meta': {'customer': 'Huge Inc',\n",
        "                    'encoding': 'us-ascii',\n",
        "                    'file_size': 40283,\n",
        "                    'file_type': 'ASCII text',\n",
        "                    'filename': 'files.log',\n",
        "                    'import_time': '2014-05-09T17:32:17.594000Z',\n",
        "                    'length': 40283,\n",
        "                    'md5': 'f57da114f0f1e07b93f374d68c65c583',\n",
        "                    'mime_type': 'text/plain',\n",
        "                    'type_tag': 'bro'}}}]\n"
       ]
      }
     ],
     "prompt_number": 93
    },
    {
     "cell_type": "code",
     "collapsed": false,
     "input": [
      "# Okay so views can either aggregate results from multiple workers or they\n",
      "# can subset to just want you want (webpage presentation for instance)\n",
      "results = c.batch_work_request('view_customer', {})\n",
      "print results"
     ],
     "language": "python",
     "metadata": {},
     "outputs": [
      {
       "output_type": "stream",
       "stream": "stdout",
       "text": [
        "<generator object iterator at 0x10be53d20>\n"
       ]
      }
     ],
     "prompt_number": 94
    },
    {
     "cell_type": "markdown",
     "metadata": {},
     "source": [
      "<div style=\"float: left; margin: 0px 0px 0px 30px\"><img src=\"files/images/head_explode.jpg\" width=\"350px\"></div>\n",
      "## Holy s#@&! The server batch request returned a generator?\n",
      "#### Yes generators are awesome but getting one from a server request! Are u serious?!  Yes, dead serious.. like chopping off your head and kicking your body into a shallow grave and putting your head on a stick... serious.\n",
      "\n",
      "#### For more on client/server generators and client-contructed/server-executed generator pipelines see our super spiffy [Generator Pipelines](http://nbviewer.ipython.org/url/raw.github.com/SuperCowPowers/workbench/master/notebooks/Generator_Pipelines.ipynb) notebook."
     ]
    },
    {
     "cell_type": "code",
     "collapsed": false,
     "input": [
      "# At this granularity it opens up a new world\n",
      "import pandas as pd\n",
      "df = pd.DataFrame.from_records(results)\n",
      "df.head(10)"
     ],
     "language": "python",
     "metadata": {},
     "outputs": [
      {
       "html": [
        "<div style=\"max-height:1000px;max-width:1500px;overflow:auto;\">\n",
        "<table border=\"1\" class=\"dataframe\">\n",
        "  <thead>\n",
        "    <tr style=\"text-align: right;\">\n",
        "      <th></th>\n",
        "      <th>customer</th>\n",
        "      <th>filename</th>\n",
        "      <th>import_time</th>\n",
        "      <th>length</th>\n",
        "      <th>md5</th>\n",
        "      <th>type_tag</th>\n",
        "    </tr>\n",
        "  </thead>\n",
        "  <tbody>\n",
        "    <tr>\n",
        "      <th>0</th>\n",
        "      <td>    BearTron</td>\n",
        "      <td> ../data/pe/bad/0cb9aa6fb9c4aa3afad7a303e21ac0f3</td>\n",
        "      <td> 2014-05-09T17:31:56.578000Z</td>\n",
        "      <td> 20480</td>\n",
        "      <td> 0cb9aa6fb9c4aa3afad7a303e21ac0f3</td>\n",
        "      <td> pe</td>\n",
        "    </tr>\n",
        "    <tr>\n",
        "      <th>1</th>\n",
        "      <td>    Huge Inc</td>\n",
        "      <td> ../data/pe/bad/033d91aae8ad29ed9fbb858179271232</td>\n",
        "      <td> 2014-05-09T17:31:59.094000Z</td>\n",
        "      <td> 85504</td>\n",
        "      <td> 033d91aae8ad29ed9fbb858179271232</td>\n",
        "      <td> pe</td>\n",
        "    </tr>\n",
        "    <tr>\n",
        "      <th>2</th>\n",
        "      <td>    BearTron</td>\n",
        "      <td> ../data/pe/bad/0e882ec9b485979ea84c7843d41ba36f</td>\n",
        "      <td> 2014-05-09T17:31:59.212000Z</td>\n",
        "      <td> 64512</td>\n",
        "      <td> 0e882ec9b485979ea84c7843d41ba36f</td>\n",
        "      <td> pe</td>\n",
        "    </tr>\n",
        "    <tr>\n",
        "      <th>3</th>\n",
        "      <td>   Mega Corp</td>\n",
        "      <td> ../data/pe/bad/0e8b030fb6ae48ffd29e520fc16b5641</td>\n",
        "      <td> 2014-05-09T17:31:59.323000Z</td>\n",
        "      <td> 81920</td>\n",
        "      <td> 0e8b030fb6ae48ffd29e520fc16b5641</td>\n",
        "      <td> pe</td>\n",
        "    </tr>\n",
        "    <tr>\n",
        "      <th>4</th>\n",
        "      <td> Dorseys Mom</td>\n",
        "      <td> ../data/pe/bad/0eb9e990c521b30428a379700ec5ab3e</td>\n",
        "      <td> 2014-05-09T17:31:59.582000Z</td>\n",
        "      <td> 97280</td>\n",
        "      <td> 0eb9e990c521b30428a379700ec5ab3e</td>\n",
        "      <td> pe</td>\n",
        "    </tr>\n",
        "    <tr>\n",
        "      <th>5</th>\n",
        "      <td> Dorseys Mom</td>\n",
        "      <td> ../data/pe/bad/127f2bade752445b3dbf2cf2ea75c201</td>\n",
        "      <td> 2014-05-09T17:31:59.751000Z</td>\n",
        "      <td> 66560</td>\n",
        "      <td> 127f2bade752445b3dbf2cf2ea75c201</td>\n",
        "      <td> pe</td>\n",
        "    </tr>\n",
        "    <tr>\n",
        "      <th>6</th>\n",
        "      <td>    Huge Inc</td>\n",
        "      <td> ../data/pe/bad/139385a91b9bca0833bdc1fa77e42b91</td>\n",
        "      <td> 2014-05-09T17:31:59.865000Z</td>\n",
        "      <td> 22510</td>\n",
        "      <td> 139385a91b9bca0833bdc1fa77e42b91</td>\n",
        "      <td> pe</td>\n",
        "    </tr>\n",
        "    <tr>\n",
        "      <th>7</th>\n",
        "      <td>   Mega Corp</td>\n",
        "      <td> ../data/pe/bad/13dcc5b4570180118eb65529b77f6d89</td>\n",
        "      <td> 2014-05-09T17:31:59.944000Z</td>\n",
        "      <td> 29184</td>\n",
        "      <td> 13dcc5b4570180118eb65529b77f6d89</td>\n",
        "      <td> pe</td>\n",
        "    </tr>\n",
        "    <tr>\n",
        "      <th>8</th>\n",
        "      <td>   Mega Corp</td>\n",
        "      <td> ../data/pe/bad/1cac80a2147cd8f3860547e43edcaa00</td>\n",
        "      <td> 2014-05-09T17:32:00.054000Z</td>\n",
        "      <td> 72704</td>\n",
        "      <td> 1cac80a2147cd8f3860547e43edcaa00</td>\n",
        "      <td> pe</td>\n",
        "    </tr>\n",
        "    <tr>\n",
        "      <th>9</th>\n",
        "      <td> Dorseys Mom</td>\n",
        "      <td> ../data/pe/bad/1cea13cf888cd8ce4f869029f1dbb601</td>\n",
        "      <td> 2014-05-09T17:32:00.212000Z</td>\n",
        "      <td> 53248</td>\n",
        "      <td> 1cea13cf888cd8ce4f869029f1dbb601</td>\n",
        "      <td> pe</td>\n",
        "    </tr>\n",
        "  </tbody>\n",
        "</table>\n",
        "<p>10 rows \u00d7 6 columns</p>\n",
        "</div>"
       ],
       "metadata": {},
       "output_type": "pyout",
       "prompt_number": 95,
       "text": [
        "      customer                                         filename  \\\n",
        "0     BearTron  ../data/pe/bad/0cb9aa6fb9c4aa3afad7a303e21ac0f3   \n",
        "1     Huge Inc  ../data/pe/bad/033d91aae8ad29ed9fbb858179271232   \n",
        "2     BearTron  ../data/pe/bad/0e882ec9b485979ea84c7843d41ba36f   \n",
        "3    Mega Corp  ../data/pe/bad/0e8b030fb6ae48ffd29e520fc16b5641   \n",
        "4  Dorseys Mom  ../data/pe/bad/0eb9e990c521b30428a379700ec5ab3e   \n",
        "5  Dorseys Mom  ../data/pe/bad/127f2bade752445b3dbf2cf2ea75c201   \n",
        "6     Huge Inc  ../data/pe/bad/139385a91b9bca0833bdc1fa77e42b91   \n",
        "7    Mega Corp  ../data/pe/bad/13dcc5b4570180118eb65529b77f6d89   \n",
        "8    Mega Corp  ../data/pe/bad/1cac80a2147cd8f3860547e43edcaa00   \n",
        "9  Dorseys Mom  ../data/pe/bad/1cea13cf888cd8ce4f869029f1dbb601   \n",
        "\n",
        "                   import_time  length                               md5  \\\n",
        "0  2014-05-09T17:31:56.578000Z   20480  0cb9aa6fb9c4aa3afad7a303e21ac0f3   \n",
        "1  2014-05-09T17:31:59.094000Z   85504  033d91aae8ad29ed9fbb858179271232   \n",
        "2  2014-05-09T17:31:59.212000Z   64512  0e882ec9b485979ea84c7843d41ba36f   \n",
        "3  2014-05-09T17:31:59.323000Z   81920  0e8b030fb6ae48ffd29e520fc16b5641   \n",
        "4  2014-05-09T17:31:59.582000Z   97280  0eb9e990c521b30428a379700ec5ab3e   \n",
        "5  2014-05-09T17:31:59.751000Z   66560  127f2bade752445b3dbf2cf2ea75c201   \n",
        "6  2014-05-09T17:31:59.865000Z   22510  139385a91b9bca0833bdc1fa77e42b91   \n",
        "7  2014-05-09T17:31:59.944000Z   29184  13dcc5b4570180118eb65529b77f6d89   \n",
        "8  2014-05-09T17:32:00.054000Z   72704  1cac80a2147cd8f3860547e43edcaa00   \n",
        "9  2014-05-09T17:32:00.212000Z   53248  1cea13cf888cd8ce4f869029f1dbb601   \n",
        "\n",
        "  type_tag  \n",
        "0       pe  \n",
        "1       pe  \n",
        "2       pe  \n",
        "3       pe  \n",
        "4       pe  \n",
        "5       pe  \n",
        "6       pe  \n",
        "7       pe  \n",
        "8       pe  \n",
        "9       pe  \n",
        "\n",
        "[10 rows x 6 columns]"
       ]
      }
     ],
     "prompt_number": 95
    },
    {
     "cell_type": "code",
     "collapsed": false,
     "input": [
      "# Lets look at the file submission types broken down by customer\n",
      "df['count'] = 1\n",
      "df.groupby(['customer','type_tag']).sum()"
     ],
     "language": "python",
     "metadata": {},
     "outputs": [
      {
       "html": [
        "<div style=\"max-height:1000px;max-width:1500px;overflow:auto;\">\n",
        "<table border=\"1\" class=\"dataframe\">\n",
        "  <thead>\n",
        "    <tr style=\"text-align: right;\">\n",
        "      <th></th>\n",
        "      <th></th>\n",
        "      <th>length</th>\n",
        "      <th>count</th>\n",
        "    </tr>\n",
        "    <tr>\n",
        "      <th>customer</th>\n",
        "      <th>type_tag</th>\n",
        "      <th></th>\n",
        "      <th></th>\n",
        "    </tr>\n",
        "  </thead>\n",
        "  <tbody>\n",
        "    <tr>\n",
        "      <th rowspan=\"6\" valign=\"top\">BearTron</th>\n",
        "      <th>bro</th>\n",
        "      <td>   23896</td>\n",
        "      <td>  1</td>\n",
        "    </tr>\n",
        "    <tr>\n",
        "      <th>json</th>\n",
        "      <td>  288312</td>\n",
        "      <td>  1</td>\n",
        "    </tr>\n",
        "    <tr>\n",
        "      <th>pcap</th>\n",
        "      <td> 1824934</td>\n",
        "      <td>  2</td>\n",
        "    </tr>\n",
        "    <tr>\n",
        "      <th>pdf</th>\n",
        "      <td>  352010</td>\n",
        "      <td> 13</td>\n",
        "    </tr>\n",
        "    <tr>\n",
        "      <th>pe</th>\n",
        "      <td> 1431805</td>\n",
        "      <td> 25</td>\n",
        "    </tr>\n",
        "    <tr>\n",
        "      <th>zip</th>\n",
        "      <td>   73275</td>\n",
        "      <td>  1</td>\n",
        "    </tr>\n",
        "    <tr>\n",
        "      <th rowspan=\"5\" valign=\"top\">Dorseys Mom</th>\n",
        "      <th>bro</th>\n",
        "      <td>     253</td>\n",
        "      <td>  1</td>\n",
        "    </tr>\n",
        "    <tr>\n",
        "      <th>pcap</th>\n",
        "      <td>   11792</td>\n",
        "      <td>  1</td>\n",
        "    </tr>\n",
        "    <tr>\n",
        "      <th>pdf</th>\n",
        "      <td>  264592</td>\n",
        "      <td> 11</td>\n",
        "    </tr>\n",
        "    <tr>\n",
        "      <th>pe</th>\n",
        "      <td> 1663347</td>\n",
        "      <td> 31</td>\n",
        "    </tr>\n",
        "    <tr>\n",
        "      <th>zip</th>\n",
        "      <td>   77993</td>\n",
        "      <td>  1</td>\n",
        "    </tr>\n",
        "    <tr>\n",
        "      <th rowspan=\"4\" valign=\"top\">Huge Inc</th>\n",
        "      <th>bro</th>\n",
        "      <td>  175583</td>\n",
        "      <td>  3</td>\n",
        "    </tr>\n",
        "    <tr>\n",
        "      <th>pcap</th>\n",
        "      <td>  703116</td>\n",
        "      <td>  3</td>\n",
        "    </tr>\n",
        "    <tr>\n",
        "      <th>pdf</th>\n",
        "      <td>  442794</td>\n",
        "      <td> 13</td>\n",
        "    </tr>\n",
        "    <tr>\n",
        "      <th>pe</th>\n",
        "      <td>  991086</td>\n",
        "      <td> 19</td>\n",
        "    </tr>\n",
        "    <tr>\n",
        "      <th rowspan=\"5\" valign=\"top\">Mega Corp</th>\n",
        "      <th>bro</th>\n",
        "      <td>   26943</td>\n",
        "      <td>  3</td>\n",
        "    </tr>\n",
        "    <tr>\n",
        "      <th>pcap</th>\n",
        "      <td> 2611115</td>\n",
        "      <td>  1</td>\n",
        "    </tr>\n",
        "    <tr>\n",
        "      <th>pdf</th>\n",
        "      <td>  443636</td>\n",
        "      <td> 13</td>\n",
        "    </tr>\n",
        "    <tr>\n",
        "      <th>pe</th>\n",
        "      <td> 1066001</td>\n",
        "      <td> 25</td>\n",
        "    </tr>\n",
        "    <tr>\n",
        "      <th>swf</th>\n",
        "      <td>    7724</td>\n",
        "      <td>  1</td>\n",
        "    </tr>\n",
        "  </tbody>\n",
        "</table>\n",
        "<p>20 rows \u00d7 2 columns</p>\n",
        "</div>"
       ],
       "metadata": {},
       "output_type": "pyout",
       "prompt_number": 96,
       "text": [
        "                       length  count\n",
        "customer    type_tag                \n",
        "BearTron    bro         23896      1\n",
        "            json       288312      1\n",
        "            pcap      1824934      2\n",
        "            pdf        352010     13\n",
        "            pe        1431805     25\n",
        "            zip         73275      1\n",
        "Dorseys Mom bro           253      1\n",
        "            pcap        11792      1\n",
        "            pdf        264592     11\n",
        "            pe        1663347     31\n",
        "            zip         77993      1\n",
        "Huge Inc    bro        175583      3\n",
        "            pcap       703116      3\n",
        "            pdf        442794     13\n",
        "            pe         991086     19\n",
        "Mega Corp   bro         26943      3\n",
        "            pcap      2611115      1\n",
        "            pdf        443636     13\n",
        "            pe        1066001     25\n",
        "            swf          7724      1\n",
        "\n",
        "[20 rows x 2 columns]"
       ]
      }
     ],
     "prompt_number": 96
    },
    {
     "cell_type": "code",
     "collapsed": false,
     "input": [
      "# Plotting defaults\n",
      "import matplotlib.pyplot as plt\n",
      "%matplotlib inline\n",
      "plt.rcParams['font.size'] = 12.0\n",
      "plt.rcParams['figure.figsize'] = 18.0, 8.0"
     ],
     "language": "python",
     "metadata": {},
     "outputs": [],
     "prompt_number": 97
    },
    {
     "cell_type": "code",
     "collapsed": false,
     "input": [
      "# Plot box plots based on customer (PDFs)\n",
      "df[df['type_tag']=='pdf'].boxplot('length','customer')\n",
      "plt.xlabel('Customer')\n",
      "plt.ylabel('File Size')\n",
      "plt.title('File Length (PDF) by Customer')\n",
      "plt.suptitle('')"
     ],
     "language": "python",
     "metadata": {},
     "outputs": [
      {
       "metadata": {},
       "output_type": "pyout",
       "prompt_number": 105,
       "text": [
        "<matplotlib.text.Text at 0x10c892050>"
       ]
      },
      {
       "metadata": {},
       "output_type": "display_data",
       "png": "[encoded data removed]",
       "text": [
        "<matplotlib.figure.Figure at 0x10c864210>"
       ]
      }
     ],
     "prompt_number": 105
    },
    {
     "cell_type": "code",
     "collapsed": false,
     "input": [
      "# Plot box plots based on customer (PEs)\n",
      "df[df['type_tag']=='pe'].boxplot('length','customer')\n",
      "plt.xlabel('Customer')\n",
      "plt.ylabel('File Size')\n",
      "plt.title('File Length (PE) by Customer')\n",
      "plt.suptitle('')"
     ],
     "language": "python",
     "metadata": {},
     "outputs": [
      {
       "metadata": {},
       "output_type": "pyout",
       "prompt_number": 106,
       "text": [
        "<matplotlib.text.Text at 0x10c8ebdd0>"
       ]
      },
      {
       "metadata": {},
       "output_type": "display_data",
       "png": "[encoded data removed]",
       "text": [
        "<matplotlib.figure.Figure at 0x10c7f44d0>"
       ]
      }
     ],
     "prompt_number": 106
    },
    {
     "cell_type": "code",
     "collapsed": false,
     "input": [
      "# Okay now lets do some plots on the file meta-data\n",
      "results = c.batch_work_request('meta_deep', {})"
     ],
     "language": "python",
     "metadata": {},
     "outputs": [],
     "prompt_number": 100
    },
    {
     "cell_type": "code",
     "collapsed": false,
     "input": [
      "df_meta = pd.DataFrame.from_records(results)\n",
      "df_meta.head()"
     ],
     "language": "python",
     "metadata": {},
     "outputs": [
      {
       "html": [
        "<div style=\"max-height:1000px;max-width:1500px;overflow:auto;\">\n",
        "<table border=\"1\" class=\"dataframe\">\n",
        "  <thead>\n",
        "    <tr style=\"text-align: right;\">\n",
        "      <th></th>\n",
        "      <th>customer</th>\n",
        "      <th>encoding</th>\n",
        "      <th>entropy</th>\n",
        "      <th>file_size</th>\n",
        "      <th>file_type</th>\n",
        "      <th>filename</th>\n",
        "      <th>import_time</th>\n",
        "      <th>length</th>\n",
        "      <th>md5</th>\n",
        "      <th>mime_type</th>\n",
        "      <th>sha1</th>\n",
        "      <th>sha256</th>\n",
        "      <th>ssdeep</th>\n",
        "      <th>type_tag</th>\n",
        "    </tr>\n",
        "  </thead>\n",
        "  <tbody>\n",
        "    <tr>\n",
        "      <th>0</th>\n",
        "      <td>    BearTron</td>\n",
        "      <td> binary</td>\n",
        "      <td> 2.440069</td>\n",
        "      <td> 20480</td>\n",
        "      <td> PE32 executable (GUI) Intel 80386, for MS Windows</td>\n",
        "      <td> ../data/pe/bad/0cb9aa6fb9c4aa3afad7a303e21ac0f3</td>\n",
        "      <td> 2014-05-09T17:31:56.578000Z</td>\n",
        "      <td> 20480</td>\n",
        "      <td> 0cb9aa6fb9c4aa3afad7a303e21ac0f3</td>\n",
        "      <td> application/x-dosexec</td>\n",
        "      <td> 96e85768a12b2f319f2a4f0c048460e1b73aa573</td>\n",
        "      <td> 4ecf79302ba0439f62e15d0526a297975e6bb32ea25c8c...</td>\n",
        "      <td> 192:a8jJIFYrq9ATskBTp2jLDL3P1oynldvSo71nF:oFpN...</td>\n",
        "      <td> pe</td>\n",
        "    </tr>\n",
        "    <tr>\n",
        "      <th>1</th>\n",
        "      <td>    Huge Inc</td>\n",
        "      <td> binary</td>\n",
        "      <td> 7.894680</td>\n",
        "      <td> 85504</td>\n",
        "      <td> PE32 executable (GUI) Intel 80386, for MS Windows</td>\n",
        "      <td> ../data/pe/bad/033d91aae8ad29ed9fbb858179271232</td>\n",
        "      <td> 2014-05-09T17:31:59.094000Z</td>\n",
        "      <td> 85504</td>\n",
        "      <td> 033d91aae8ad29ed9fbb858179271232</td>\n",
        "      <td> application/x-dosexec</td>\n",
        "      <td> 83ab10907b254752f312c89125957f10d35cb9d4</td>\n",
        "      <td> eb107c004e6e1bbd3b32ad7961661bbe28a577b0cb5dac...</td>\n",
        "      <td> 1536:h6+LbfPbI5dzmJu9Tgj5aOItvEqRCHW9pjVrs2ryr...</td>\n",
        "      <td> pe</td>\n",
        "    </tr>\n",
        "    <tr>\n",
        "      <th>2</th>\n",
        "      <td>    BearTron</td>\n",
        "      <td> binary</td>\n",
        "      <td> 5.125292</td>\n",
        "      <td> 64512</td>\n",
        "      <td> PE32 executable (GUI) Intel 80386, for MS Windows</td>\n",
        "      <td> ../data/pe/bad/0e882ec9b485979ea84c7843d41ba36f</td>\n",
        "      <td> 2014-05-09T17:31:59.212000Z</td>\n",
        "      <td> 64512</td>\n",
        "      <td> 0e882ec9b485979ea84c7843d41ba36f</td>\n",
        "      <td> application/x-dosexec</td>\n",
        "      <td> 12fb0a1b7d9c2b2a41f4da9ce5bbfb140fb16939</td>\n",
        "      <td> 616cf9e729c883d979212eb55178b7aac80dd9f58cb449...</td>\n",
        "      <td> 768:5HyLMqtEM1Htz8kDmP9l+nZZYp41oj7EZmJxl/N9j6...</td>\n",
        "      <td> pe</td>\n",
        "    </tr>\n",
        "    <tr>\n",
        "      <th>3</th>\n",
        "      <td>   Mega Corp</td>\n",
        "      <td> binary</td>\n",
        "      <td> 6.303055</td>\n",
        "      <td> 81920</td>\n",
        "      <td> PE32 executable (GUI) Intel 80386, for MS Windows</td>\n",
        "      <td> ../data/pe/bad/0e8b030fb6ae48ffd29e520fc16b5641</td>\n",
        "      <td> 2014-05-09T17:31:59.323000Z</td>\n",
        "      <td> 81920</td>\n",
        "      <td> 0e8b030fb6ae48ffd29e520fc16b5641</td>\n",
        "      <td> application/x-dosexec</td>\n",
        "      <td> 82d57b8302b7497b2f6943f18e2d2687b9b0f5eb</td>\n",
        "      <td> feaf72bdad035e198d297bfb0b8d891645f1dacd78f0db...</td>\n",
        "      <td> 1536:1uNqjqzs1hQHhInEeJMzcmGqyF7Jwe9pvUo+5TDU4...</td>\n",
        "      <td> pe</td>\n",
        "    </tr>\n",
        "    <tr>\n",
        "      <th>4</th>\n",
        "      <td> Dorseys Mom</td>\n",
        "      <td> binary</td>\n",
        "      <td> 7.593283</td>\n",
        "      <td> 97280</td>\n",
        "      <td> PE32 executable (GUI) Intel 80386, for MS Windows</td>\n",
        "      <td> ../data/pe/bad/0eb9e990c521b30428a379700ec5ab3e</td>\n",
        "      <td> 2014-05-09T17:31:59.582000Z</td>\n",
        "      <td> 97280</td>\n",
        "      <td> 0eb9e990c521b30428a379700ec5ab3e</td>\n",
        "      <td> application/x-dosexec</td>\n",
        "      <td> b778fc55f0538de865d4853099a3faa0b29f311d</td>\n",
        "      <td> dc5e8176a5f012ebdb4835f9b570a12c045d059f6f5bdc...</td>\n",
        "      <td> 1536:KcE4iMgXjTJpdGaaJG6Mhawv7r9ZaobsLBq+h5ttB...</td>\n",
        "      <td> pe</td>\n",
        "    </tr>\n",
        "  </tbody>\n",
        "</table>\n",
        "<p>5 rows \u00d7 14 columns</p>\n",
        "</div>"
       ],
       "metadata": {},
       "output_type": "pyout",
       "prompt_number": 101,
       "text": [
        "      customer encoding   entropy  file_size  \\\n",
        "0     BearTron   binary  2.440069      20480   \n",
        "1     Huge Inc   binary  7.894680      85504   \n",
        "2     BearTron   binary  5.125292      64512   \n",
        "3    Mega Corp   binary  6.303055      81920   \n",
        "4  Dorseys Mom   binary  7.593283      97280   \n",
        "\n",
        "                                           file_type  \\\n",
        "0  PE32 executable (GUI) Intel 80386, for MS Windows   \n",
        "1  PE32 executable (GUI) Intel 80386, for MS Windows   \n",
        "2  PE32 executable (GUI) Intel 80386, for MS Windows   \n",
        "3  PE32 executable (GUI) Intel 80386, for MS Windows   \n",
        "4  PE32 executable (GUI) Intel 80386, for MS Windows   \n",
        "\n",
        "                                          filename  \\\n",
        "0  ../data/pe/bad/0cb9aa6fb9c4aa3afad7a303e21ac0f3   \n",
        "1  ../data/pe/bad/033d91aae8ad29ed9fbb858179271232   \n",
        "2  ../data/pe/bad/0e882ec9b485979ea84c7843d41ba36f   \n",
        "3  ../data/pe/bad/0e8b030fb6ae48ffd29e520fc16b5641   \n",
        "4  ../data/pe/bad/0eb9e990c521b30428a379700ec5ab3e   \n",
        "\n",
        "                   import_time  length                               md5  \\\n",
        "0  2014-05-09T17:31:56.578000Z   20480  0cb9aa6fb9c4aa3afad7a303e21ac0f3   \n",
        "1  2014-05-09T17:31:59.094000Z   85504  033d91aae8ad29ed9fbb858179271232   \n",
        "2  2014-05-09T17:31:59.212000Z   64512  0e882ec9b485979ea84c7843d41ba36f   \n",
        "3  2014-05-09T17:31:59.323000Z   81920  0e8b030fb6ae48ffd29e520fc16b5641   \n",
        "4  2014-05-09T17:31:59.582000Z   97280  0eb9e990c521b30428a379700ec5ab3e   \n",
        "\n",
        "               mime_type                                      sha1  \\\n",
        "0  application/x-dosexec  96e85768a12b2f319f2a4f0c048460e1b73aa573   \n",
        "1  application/x-dosexec  83ab10907b254752f312c89125957f10d35cb9d4   \n",
        "2  application/x-dosexec  12fb0a1b7d9c2b2a41f4da9ce5bbfb140fb16939   \n",
        "3  application/x-dosexec  82d57b8302b7497b2f6943f18e2d2687b9b0f5eb   \n",
        "4  application/x-dosexec  b778fc55f0538de865d4853099a3faa0b29f311d   \n",
        "\n",
        "                                              sha256  \\\n",
        "0  4ecf79302ba0439f62e15d0526a297975e6bb32ea25c8c...   \n",
        "1  eb107c004e6e1bbd3b32ad7961661bbe28a577b0cb5dac...   \n",
        "2  616cf9e729c883d979212eb55178b7aac80dd9f58cb449...   \n",
        "3  feaf72bdad035e198d297bfb0b8d891645f1dacd78f0db...   \n",
        "4  dc5e8176a5f012ebdb4835f9b570a12c045d059f6f5bdc...   \n",
        "\n",
        "                                              ssdeep type_tag  \n",
        "0  192:a8jJIFYrq9ATskBTp2jLDL3P1oynldvSo71nF:oFpN...       pe  \n",
        "1  1536:h6+LbfPbI5dzmJu9Tgj5aOItvEqRCHW9pjVrs2ryr...       pe  \n",
        "2  768:5HyLMqtEM1Htz8kDmP9l+nZZYp41oj7EZmJxl/N9j6...       pe  \n",
        "3  1536:1uNqjqzs1hQHhInEeJMzcmGqyF7Jwe9pvUo+5TDU4...       pe  \n",
        "4  1536:KcE4iMgXjTJpdGaaJG6Mhawv7r9ZaobsLBq+h5ttB...       pe  \n",
        "\n",
        "[5 rows x 14 columns]"
       ]
      }
     ],
     "prompt_number": 101
    },
    {
     "cell_type": "code",
     "collapsed": false,
     "input": [
      "# Plot entropy box plots based on file type\n",
      "df_meta.boxplot('entropy','type_tag')\n",
      "plt.xlabel('Mime Type')\n",
      "plt.ylabel('Entropy')"
     ],
     "language": "python",
     "metadata": {},
     "outputs": [
      {
       "metadata": {},
       "output_type": "pyout",
       "prompt_number": 102,
       "text": [
        "<matplotlib.text.Text at 0x10c78c250>"
       ]
      },
      {
       "metadata": {},
       "output_type": "display_data",
       "png": "[encoded data removed]",
       "text": [
        "<matplotlib.figure.Figure at 0x10b18ca90>"
       ]
      }
     ],
     "prompt_number": 102
    },
    {
     "cell_type": "code",
     "collapsed": false,
     "input": [
      "# Plot customer submissions based on file type\n",
      "group_df = df[['customer','type_tag']]\n",
      "group_df['submissions'] = 1\n",
      "group_df = group_df.groupby(['customer','type_tag']).sum().unstack()\n",
      "group_df.head()"
     ],
     "language": "python",
     "metadata": {},
     "outputs": [
      {
       "html": [
        "<div style=\"max-height:1000px;max-width:1500px;overflow:auto;\">\n",
        "<table border=\"1\" class=\"dataframe\">\n",
        "  <thead>\n",
        "    <tr>\n",
        "      <th></th>\n",
        "      <th colspan=\"7\" halign=\"left\">submissions</th>\n",
        "    </tr>\n",
        "    <tr>\n",
        "      <th>type_tag</th>\n",
        "      <th>bro</th>\n",
        "      <th>json</th>\n",
        "      <th>pcap</th>\n",
        "      <th>pdf</th>\n",
        "      <th>pe</th>\n",
        "      <th>swf</th>\n",
        "      <th>zip</th>\n",
        "    </tr>\n",
        "    <tr>\n",
        "      <th>customer</th>\n",
        "      <th></th>\n",
        "      <th></th>\n",
        "      <th></th>\n",
        "      <th></th>\n",
        "      <th></th>\n",
        "      <th></th>\n",
        "      <th></th>\n",
        "    </tr>\n",
        "  </thead>\n",
        "  <tbody>\n",
        "    <tr>\n",
        "      <th>BearTron</th>\n",
        "      <td> 1</td>\n",
        "      <td>  1</td>\n",
        "      <td> 2</td>\n",
        "      <td> 13</td>\n",
        "      <td> 25</td>\n",
        "      <td>NaN</td>\n",
        "      <td>  1</td>\n",
        "    </tr>\n",
        "    <tr>\n",
        "      <th>Dorseys Mom</th>\n",
        "      <td> 1</td>\n",
        "      <td>NaN</td>\n",
        "      <td> 1</td>\n",
        "      <td> 11</td>\n",
        "      <td> 31</td>\n",
        "      <td>NaN</td>\n",
        "      <td>  1</td>\n",
        "    </tr>\n",
        "    <tr>\n",
        "      <th>Huge Inc</th>\n",
        "      <td> 3</td>\n",
        "      <td>NaN</td>\n",
        "      <td> 3</td>\n",
        "      <td> 13</td>\n",
        "      <td> 19</td>\n",
        "      <td>NaN</td>\n",
        "      <td>NaN</td>\n",
        "    </tr>\n",
        "    <tr>\n",
        "      <th>Mega Corp</th>\n",
        "      <td> 3</td>\n",
        "      <td>NaN</td>\n",
        "      <td> 1</td>\n",
        "      <td> 13</td>\n",
        "      <td> 25</td>\n",
        "      <td>  1</td>\n",
        "      <td>NaN</td>\n",
        "    </tr>\n",
        "  </tbody>\n",
        "</table>\n",
        "<p>4 rows \u00d7 7 columns</p>\n",
        "</div>"
       ],
       "metadata": {},
       "output_type": "pyout",
       "prompt_number": 103,
       "text": [
        "             submissions                               \n",
        "type_tag             bro  json  pcap  pdf  pe  swf  zip\n",
        "customer                                               \n",
        "BearTron               1     1     2   13  25  NaN    1\n",
        "Dorseys Mom            1   NaN     1   11  31  NaN    1\n",
        "Huge Inc               3   NaN     3   13  19  NaN  NaN\n",
        "Mega Corp              3   NaN     1   13  25    1  NaN\n",
        "\n",
        "[4 rows x 7 columns]"
       ]
      }
     ],
     "prompt_number": 103
    },
    {
     "cell_type": "code",
     "collapsed": false,
     "input": [
      "# Plot entropy box plots based on mime-type\n",
      "group_df['submissions'].plot(kind='bar', stacked=True)\n",
      "plt.xlabel('Customer')\n",
      "plt.ylabel('Submissions')"
     ],
     "language": "python",
     "metadata": {},
     "outputs": [
      {
       "metadata": {},
       "output_type": "pyout",
       "prompt_number": 104,
       "text": [
        "<matplotlib.text.Text at 0x10c80df10>"
       ]
      },
      {
       "metadata": {},
       "output_type": "display_data",
       "png": "[encoded data removed]",
       "text": [
        "<matplotlib.figure.Figure at 0x10c46e490>"
       ]
      }
     ],
     "prompt_number": 104
    }
   ],
   "metadata": {}
  }
 ]
}