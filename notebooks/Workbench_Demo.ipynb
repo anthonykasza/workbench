{
 "metadata": {
  "name": ""
 },
 "nbformat": 3,
 "nbformat_minor": 0,
 "worksheets": [
  {
   "cells": [
    {
     "cell_type": "markdown",
     "metadata": {},
     "source": [
      "<div style=\"float: right; margin: 0px 0px 0px 30px\"><img src=\"files/images/workbench.jpg\" width=\"400px\"></div>\n",
      "# Workbench: \n",
      "A light-weight and flexible approach to task management, execution and pipelining.\n",
      "## Adoption of Workbench:\n",
      "Open source tools have 3 primary components that are critical for adoption:\n",
      "\n",
      "  - ### How easy is it to get the system up and running?\n",
      "    - git clone https://github.com/SuperCowPowers/workbench.git\n",
      "    - Go through the 'Workbench Dependencies' section in the readme and about an hour later you should be done... \n",
      "    - So not great but not horrible either\n",
      " \n",
      "  - ### How easy is it to use?\n",
      "    - ZeroRPC has Python, Node.js, or CLI interfaces.See [ZeroRPC](http://zerorpc.dotcloud.com/).\n",
      "    <pre>\n",
      "    import zerorpc\n",
      "    c = zerorpc.Client()\n",
      "    c.connect(\"tcp://127.0.0.1:4242\")\n",
      "    with open('evil.pcap','rb') as f:\n",
      "        md5 = c.store_sample('evil.pcap', f.read())\n",
      "    print c.work_request('pcap_meta', md5)\n",
      "    </pre>\n",
      "    - Output from above 'client':\n",
      "    <pre>\n",
      "    {'pcap_meta': {'encoding': 'binary',\n",
      "     'file_size': 54339570,\n",
      "     'file_type': 'tcpdump (little-endian) - version 2.4 (Ethernet, 65535)',\n",
      "     'filename': 'evil.pcap',\n",
      "     'import_time': '2014-02-08T22:15:50.282000Z',\n",
      "     'md5': 'bba97e16d7f92240196dc0caef9c457a',\n",
      "     'mime_type': 'application/vnd.tcpdump.pcap'}}\n",
      "    </pre>\n",
      "  - ### How easy is it for me to put my own code into it?\n",
      "    - Below is the listing of the code for the 'strings' worker: Each worker needs to provide:\n",
      "        - plugin_info (name, class of the worker, dependencies, and description)\n",
      "        - An execute method that takes a python dictionary as input and returns a python dictionary as output.\n",
      "        - That's it...\n",
      "<pre>\n",
      "    ''' Strings worker '''\n",
      "    import re\n",
      "    def plugin_info():\n",
      "            return {'name':'strings', 'class':'Strings', 'dependencies': ['sample'],\n",
      "                    'description': 'This worker extracts all the strings from any type of file. Output keys: [string_list]'}\n",
      "    class Strings():\n",
      "            def __init__(self):\n",
      "                self.find_strings = re.compile(r'[^\\x00-\\x1F\\x7F-\\xFF]{4,}', re.MULTILINE)\n",
      "            def execute(self, input_data):\n",
      "                raw_bytes = input_data['sample']['raw_bytes']\n",
      "                strings = self.find_strings.findall(raw_bytes)\n",
      "                return {'string_list': strings}\n",
      "</pre>\n",
      "  \n",
      "# On with the demo, lets start up the workbench server...\n",
      "Run the workbench server (from somewhere, for the demo we're just going to start a local one)\n",
      "<pre>\n",
      "> cd workbench/server\n",
      "> python workbench.py\n",
      "</pre>\n",
      "\n",
      "#### Okay so when the server starts up, it autoloads any worker plugins in the server/worker directory and dynamically monitors the directory, if a new python file shows up, it's validated as a properly formed plugin and if it passes is added to the list of workers."
     ]
    },
    {
     "cell_type": "code",
     "collapsed": false,
     "input": [
      "# Lets start to interact with workbench, please note there is NO specific client to workbench,\n",
      "# Just use the ZeroRPC Python, Node.js, or CLI interfaces.\n",
      "import zerorpc\n",
      "c = zerorpc.Client()\n",
      "c.connect(\"tcp://127.0.0.1:4242\")"
     ],
     "language": "python",
     "metadata": {},
     "outputs": [
      {
       "metadata": {},
       "output_type": "pyout",
       "prompt_number": 63,
       "text": [
        "[None]"
       ]
      }
     ],
     "prompt_number": 63
    },
    {
     "cell_type": "code",
     "collapsed": false,
     "input": [
      "# Want to find out about what's on the other side?\n",
      "print c._zerorpc_name()\n",
      "print c._zerorpc_list()"
     ],
     "language": "python",
     "metadata": {},
     "outputs": [
      {
       "output_type": "stream",
       "stream": "stdout",
       "text": [
        "workbench\n",
        "['set_datastore_uri', 'index_worker_output', 'search', 'get_datastore_uri', 'work_request', 'worker_info', 'add_node', 'store_sample', 'get_sample', 'batch_work_request', 'index_sample', 'have_sample', 'stream_sample', 'add_rel']\n"
       ]
      }
     ],
     "prompt_number": 64
    },
    {
     "cell_type": "code",
     "collapsed": false,
     "input": [
      "# Okay so we see that we're connected to workbench and the calls we can make\n",
      "# The 'worker_info' call look interesting...\n",
      "c.worker_info()"
     ],
     "language": "python",
     "metadata": {},
     "outputs": [
      {
       "metadata": {},
       "output_type": "pyout",
       "prompt_number": 65,
       "text": [
        "{'json_meta': 'This worker computes a meta-data for log files. Output keys: [md5, type_tag, file_type, mime_type, encoding, file_size, filename, import_time]',\n",
        " 'log_meta': 'This worker computes a meta-data for log files. Output keys: [md5, type_tag, file_type, mime_type, encoding, file_size, filename, import_time]',\n",
        " 'meta': 'This worker computes meta-data. Output keys: [md5, type_tag, file_type, mime_type, encoding, file_size, filename, import_time]',\n",
        " 'meta_deep': 'This worker computes deeper meta-data. Output keys: [md5, sha1, sha256, ssdeep, entropy, file_type, mime_type, encoding, file_size, filename, import_time]',\n",
        " 'pcap_bro': 'This worker runs Bro scripts on a pcap file. Output keys: [log_name:md5...]',\n",
        " 'pcap_meta': 'This worker computes a bunch of meta-data about a pcap file. Output keys: [summary, sessions]',\n",
        " 'pe_classifier': 'This worker classifies PEFiles as Evil or Benign. Output keys: [classification]',\n",
        " 'pe_deep_sim': 'This worker computes fuzzy matches between samples with ssdeep. Output keys: [md5, sim_list]',\n",
        " 'pe_features': 'This worker pulls out a bunch of static features from a PEFile. Output keys: [dense_features, sparse_features]',\n",
        " 'pe_indicators': 'This worker uses the static features from the pefile module to look for weird stuff.  Output keys: [indicator_list]',\n",
        " 'pe_peid': 'This worker using the peid database to look for signatures in a PEFile. Output keys: [match_list]',\n",
        " 'strings': 'This worker extracts all the strings from any type of file. Output keys: [string_list]',\n",
        " 'unzip': 'This worker unzips a zipped file. Output keys: [payload_md5s]',\n",
        " 'urls': 'This worker looks for url patterns in strings output. Output keys: [url_list]',\n",
        " 'view': 'This worker generates a view for any type of file. Output keys: [this view calls sub-views, see the concrete class (view_pdf for instance)]',\n",
        " 'view_customer': 'This worker generates a customer usage view. Output keys: [filename, md5, length, customer, upload_date]',\n",
        " 'view_log_meta': 'This worker generates a view for log meta. Output keys: [mime_type, encoding, import_time, file_size]',\n",
        " 'view_meta': 'This worker generates a view for meta about a sample. Output keys: [mime_type, encoding, import_time, ssdeep, entropy, file_size]',\n",
        " 'view_pcap_bro': 'This worker generates a pcap view for the sample. Output keys: [bro_output_log_names...]',\n",
        " 'view_pcap_meta': 'This worker generates a pcap view for the sample. Output keys: [import_time, entropy, file_size, summary, sessions]',\n",
        " 'view_pdf': 'This worker generates a view for a PDF File. Output keys: [filename, filetype, mime_type, encoding, import_time, ssdeep, strings]',\n",
        " 'view_pefile': 'This worker generates a view for a PE File. Output keys: [filename, filetype, mime_type, encoding, import_time, ssdeep, indicators, peid_Matches, classification, disass]',\n",
        " 'view_zip': 'This worker generates a view for a zip File. Output keys: [filename, filetype, mime_type, payload_md5s, payload_meta]'}"
       ]
      }
     ],
     "prompt_number": 65
    },
    {
     "cell_type": "code",
     "collapsed": false,
     "input": [
      "# So we can see all the available workers lets load up a file and run some stuff\n",
      "# Okay when we load up a file, we get the md5 back\n",
      "filename = '../test_files/pe/bad/0cb9aa6fb9c4aa3afad7a303e21ac0f3'\n",
      "with open(filename,'rb') as f:\n",
      "    md5 = c.store_sample(filename, f.read(),'pe')\n",
      "print md5"
     ],
     "language": "python",
     "metadata": {},
     "outputs": [
      {
       "output_type": "stream",
       "stream": "stdout",
       "text": [
        "0cb9aa6fb9c4aa3afad7a303e21ac0f3\n"
       ]
      }
     ],
     "prompt_number": 66
    },
    {
     "cell_type": "code",
     "collapsed": false,
     "input": [
      "# Now lets get the meda data for this file\n",
      "c.work_request('meta', md5)"
     ],
     "language": "python",
     "metadata": {},
     "outputs": [
      {
       "metadata": {},
       "output_type": "pyout",
       "prompt_number": 67,
       "text": [
        "{'meta': {'encoding': 'binary',\n",
        "  'file_size': 20480,\n",
        "  'file_type': 'PE32 executable (GUI) Intel 80386, for MS Windows',\n",
        "  'filename': '../test_files/pe/bad/0cb9aa6fb9c4aa3afad7a303e21ac0f3',\n",
        "  'import_time': '2014-04-01T18:59:53.317000Z',\n",
        "  'md5': '0cb9aa6fb9c4aa3afad7a303e21ac0f3',\n",
        "  'mime_type': 'application/x-dosexec',\n",
        "  'type_tag': 'pe'}}"
       ]
      }
     ],
     "prompt_number": 67
    },
    {
     "cell_type": "code",
     "collapsed": false,
     "input": [
      "# Lets randomly try some workers\n",
      "c.work_request('pe_classifier', md5)"
     ],
     "language": "python",
     "metadata": {},
     "outputs": [
      {
       "metadata": {},
       "output_type": "pyout",
       "prompt_number": 68,
       "text": [
        "{'pe_classifier': {'classification': 'Evil!',\n",
        "  'md5': '0cb9aa6fb9c4aa3afad7a303e21ac0f3'}}"
       ]
      }
     ],
     "prompt_number": 68
    },
    {
     "cell_type": "code",
     "collapsed": false,
     "input": [
      "# Ah, ha.. I knew that file was evil!  :)\n",
      "\n",
      "# Okay, that worker needed the output of pe_features and pe_indicators\n",
      "# so what happened? The worker has a dependency list and workbench\n",
      "# recursively satisfies that dependency list.. this is powerful because\n",
      "# when we're interested in one particular analysis we just want to get\n",
      "# the darn thing without having to worry about a bunch of details\n",
      "\n",
      "# Well lets do this for a bunch of files!\n",
      "import os\n",
      "file_list = [os.path.join('../test_files/pe/bad', child) for child in os.listdir('../test_files/pe/bad')]\n",
      "working_set = []\n",
      "for filename in file_list:\n",
      "    with open(filename,'rb') as f:\n",
      "        md5 = c.store_sample(filename, f.read(), 'pe')\n",
      "        results = c.work_request('pe_classifier', md5)\n",
      "        working_set.append(md5)\n",
      "        print 'Results: %s' % (results)"
     ],
     "language": "python",
     "metadata": {},
     "outputs": [
      {
       "output_type": "stream",
       "stream": "stdout",
       "text": [
        "Results: {'pe_classifier': {'classification': 'Evil!', 'md5': '033d91aae8ad29ed9fbb858179271232'}}\n",
        "Results: {'pe_classifier': {'classification': 'Evil!', 'md5': '0cb9aa6fb9c4aa3afad7a303e21ac0f3'}}\n",
        "Results: {'pe_classifier': {'classification': 'Evil!', 'md5': '0e882ec9b485979ea84c7843d41ba36f'}}"
       ]
      },
      {
       "output_type": "stream",
       "stream": "stdout",
       "text": [
        "\n",
        "Results: {'pe_classifier': {'classification': 'Benign', 'md5': '0e8b030fb6ae48ffd29e520fc16b5641'}}"
       ]
      },
      {
       "output_type": "stream",
       "stream": "stdout",
       "text": [
        "\n",
        "Results: {'pe_classifier': {'classification': 'Benign', 'md5': '0eb9e990c521b30428a379700ec5ab3e'}}"
       ]
      },
      {
       "output_type": "stream",
       "stream": "stdout",
       "text": [
        "\n",
        "Results: {'pe_classifier': {'classification': 'Evil!', 'md5': '127f2bade752445b3dbf2cf2ea75c201'}}"
       ]
      },
      {
       "output_type": "stream",
       "stream": "stdout",
       "text": [
        "\n",
        "Results: {'pe_classifier': {'classification': 'Evil!', 'md5': '139385a91b9bca0833bdc1fa77e42b91'}}"
       ]
      },
      {
       "output_type": "stream",
       "stream": "stdout",
       "text": [
        "\n",
        "Results: {'pe_classifier': {'classification': 'Evil!', 'md5': '13dcc5b4570180118eb65529b77f6d89'}}"
       ]
      },
      {
       "output_type": "stream",
       "stream": "stdout",
       "text": [
        "\n",
        "Results: {'pe_classifier': {'classification': 'Evil!', 'md5': '1cac80a2147cd8f3860547e43edcaa00'}}"
       ]
      },
      {
       "output_type": "stream",
       "stream": "stdout",
       "text": [
        "\n",
        "Results: {'pe_classifier': {'classification': 'Evil!', 'md5': '1cea13cf888cd8ce4f869029f1dbb601'}}"
       ]
      },
      {
       "output_type": "stream",
       "stream": "stdout",
       "text": [
        "\n",
        "Results: {'pe_classifier': {'classification': 'Evil!', 'md5': '1d733a9e3e571ce5f5f633a0cfd3d5f0'}}"
       ]
      },
      {
       "output_type": "stream",
       "stream": "stdout",
       "text": [
        "\n",
        "Results: {'pe_classifier': {'classification': 'Evil!', 'md5': '2058c50de5976c67a09dfa5e0e1c7eb5'}}"
       ]
      },
      {
       "output_type": "stream",
       "stream": "stdout",
       "text": [
        "\n",
        "Results: {'pe_classifier': {'classification': 'Evil!', 'md5': '2d012cba541c22fb7250975d5ad0d065'}}"
       ]
      },
      {
       "output_type": "stream",
       "stream": "stdout",
       "text": [
        "\n",
        "Results: {'pe_classifier': {'classification': 'Evil!', 'md5': '2d015553c7388e4d78f05b24aba0819c'}}\n",
        "Results: {'pe_classifier': {'classification': 'Evil!', 'md5': '2d017ff228c39a0a727586b33f8168b0'}}"
       ]
      },
      {
       "output_type": "stream",
       "stream": "stdout",
       "text": [
        "\n",
        "Results: {'pe_classifier': {'classification': 'Evil!', 'md5': '2d09133abb48e1c7f3f5c8f8ced8fef4'}}"
       ]
      },
      {
       "output_type": "stream",
       "stream": "stdout",
       "text": [
        "\n",
        "Results: {'pe_classifier': {'classification': 'Evil!', 'md5': '2d094b6c69020091b68d1bcf5d11fa4b'}}"
       ]
      },
      {
       "output_type": "stream",
       "stream": "stdout",
       "text": [
        "\n",
        "Results: {'pe_classifier': {'classification': 'Evil!', 'md5': '2d095091983dd0bf6ab7c0bb6dd695f9'}}"
       ]
      },
      {
       "output_type": "stream",
       "stream": "stdout",
       "text": [
        "\n",
        "Results: {'pe_classifier': {'classification': 'Evil!', 'md5': '2d09546831b17d2cc0583362b6d312ae'}}"
       ]
      },
      {
       "output_type": "stream",
       "stream": "stdout",
       "text": [
        "\n",
        "Results: {'pe_classifier': {'classification': 'Evil!', 'md5': '2d099171876f7301c155bd775fff2b6a'}}"
       ]
      },
      {
       "output_type": "stream",
       "stream": "stdout",
       "text": [
        "\n",
        "Results: {'pe_classifier': {'classification': 'Benign', 'md5': '2d09a573b0e9d02a9fa47b16e9c01a48'}}"
       ]
      },
      {
       "output_type": "stream",
       "stream": "stdout",
       "text": [
        "\n",
        "Results: {'pe_classifier': {'classification': 'Evil!', 'md5': '2d09b5768e3617523d8afa110361919c'}}"
       ]
      },
      {
       "output_type": "stream",
       "stream": "stdout",
       "text": [
        "\n",
        "Results: {'pe_classifier': {'classification': 'Evil!', 'md5': '2d09b8d9852c3176259915e3509bcbd1'}}"
       ]
      },
      {
       "output_type": "stream",
       "stream": "stdout",
       "text": [
        "\n",
        "Results: {'pe_classifier': {'classification': 'Evil!', 'md5': '2d09ca902990545fec9ac190b0338b50'}}"
       ]
      },
      {
       "output_type": "stream",
       "stream": "stdout",
       "text": [
        "\n",
        "Results: {'pe_classifier': {'classification': 'Evil!', 'md5': '2d09cb38c268aa9297e5a7f27e677267'}}"
       ]
      },
      {
       "output_type": "stream",
       "stream": "stdout",
       "text": [
        "\n",
        "Results: {'pe_classifier': {'classification': 'Evil!', 'md5': '2d09cc92bbe29d96bb3a91b350d1725f'}}"
       ]
      },
      {
       "output_type": "stream",
       "stream": "stdout",
       "text": [
        "\n",
        "Results: {'pe_classifier': {'classification': 'Evil!', 'md5': '2d09e4aff42aebac87ae2fd737aba94f'}}"
       ]
      },
      {
       "output_type": "stream",
       "stream": "stdout",
       "text": [
        "\n",
        "Results: {'pe_classifier': {'classification': 'Evil!', 'md5': '32b24e73cfc3ac4c43f1926f8935e438'}}"
       ]
      },
      {
       "output_type": "stream",
       "stream": "stdout",
       "text": [
        "\n",
        "Results: {'pe_classifier': {'classification': 'Evil!', 'md5': '4ed28b6207560f127d267de639a4e1bf'}}"
       ]
      },
      {
       "output_type": "stream",
       "stream": "stdout",
       "text": [
        "\n",
        "Results: {'pe_classifier': {'classification': 'Evil!', 'md5': '505804ec7c7212a52ec85e075b91ed84'}}"
       ]
      },
      {
       "output_type": "stream",
       "stream": "stdout",
       "text": [
        "\n",
        "Results: {'pe_classifier': {'classification': 'Evil!', 'md5': '60a83c049e135cc199138c1f8861437c'}}"
       ]
      },
      {
       "output_type": "stream",
       "stream": "stdout",
       "text": [
        "\n",
        "Results: {'pe_classifier': {'classification': 'Evil!', 'md5': '69f9633fa6fd5dc1fd917cb435bba8ad'}}"
       ]
      },
      {
       "output_type": "stream",
       "stream": "stdout",
       "text": [
        "\n",
        "Results: {'pe_classifier': {'classification': 'Evil!', 'md5': '79f5e1af9fdb92476045989bda7515c7'}}"
       ]
      },
      {
       "output_type": "stream",
       "stream": "stdout",
       "text": [
        "\n",
        "Results: {'pe_classifier': {'classification': 'Evil!', 'md5': '7f313447b887b078215617fbed1a34a1'}}"
       ]
      },
      {
       "output_type": "stream",
       "stream": "stdout",
       "text": [
        "\n",
        "Results: {'pe_classifier': {'classification': 'Evil!', 'md5': '8006782bdf703e2f3fdf1d1650f45ffd'}}"
       ]
      },
      {
       "output_type": "stream",
       "stream": "stdout",
       "text": [
        "\n",
        "Results: {'pe_classifier': {'classification': 'Evil!', 'md5': '86714940f491bc38c2e842e80c7f778e'}}\n",
        "Results: {'pe_classifier': {'classification': 'Evil!', 'md5': '987bd46899b2a9493e6dec051edcb66c'}}"
       ]
      },
      {
       "output_type": "stream",
       "stream": "stdout",
       "text": [
        "\n",
        "Results: {'pe_classifier': {'classification': 'Evil!', 'md5': '9cd3d7b1b0f2aea5950cbf7d97776f2f'}}"
       ]
      },
      {
       "output_type": "stream",
       "stream": "stdout",
       "text": [
        "\n",
        "Results: {'pe_classifier': {'classification': 'Evil!', 'md5': '9ceccd9f32cb2ad0b140b6d15d8993b6'}}"
       ]
      },
      {
       "output_type": "stream",
       "stream": "stdout",
       "text": [
        "\n",
        "Results: {'pe_classifier': {'classification': 'Evil!', 'md5': '9e42ff1e6f75ae3e60b24e48367c8f26'}}"
       ]
      },
      {
       "output_type": "stream",
       "stream": "stdout",
       "text": [
        "\n",
        "Results: {'pe_classifier': {'classification': 'Evil!', 'md5': 'a7b0a9067d8292b252d741e6fae17cd9'}}\n",
        "Results: {'pe_classifier': {'classification': 'Benign', 'md5': 'afddc552b31a8f2438768c73674bf29e'}}"
       ]
      },
      {
       "output_type": "stream",
       "stream": "stdout",
       "text": [
        "\n",
        "Results: {'pe_classifier': {'classification': 'Evil!', 'md5': 'b681485cb9e0cad73ee85b9274c0d3c2'}}"
       ]
      },
      {
       "output_type": "stream",
       "stream": "stdout",
       "text": [
        "\n",
        "Results: {'pe_classifier': {'classification': 'Evil!', 'md5': 'bf1249a258cbcccec0f1b4ea1e9451a1'}}"
       ]
      },
      {
       "output_type": "stream",
       "stream": "stdout",
       "text": [
        "\n",
        "Results: {'pe_classifier': {'classification': 'Evil!', 'md5': 'c8c54ac7e827056174762c68db84534f'}}"
       ]
      },
      {
       "output_type": "stream",
       "stream": "stdout",
       "text": [
        "\n",
        "Results: {'pe_classifier': {'classification': 'Evil!', 'md5': 'cc113aa59c04b17e7cb832fc417f104d'}}"
       ]
      },
      {
       "output_type": "stream",
       "stream": "stdout",
       "text": [
        "\n",
        "Results: {'pe_classifier': {'classification': 'Benign', 'md5': 'd94da41e7e809f7366971b3b50f8ef68'}}"
       ]
      },
      {
       "output_type": "stream",
       "stream": "stdout",
       "text": [
        "\n",
        "Results: {'pe_classifier': {'classification': 'Evil!', 'md5': 'e9a6c83826deacfbc2281b6c7e401694'}}"
       ]
      },
      {
       "output_type": "stream",
       "stream": "stdout",
       "text": [
        "\n",
        "Results: {'pe_classifier': {'classification': 'Evil!', 'md5': 'ea5d95c96a23b21b9038f03b91955c18'}}"
       ]
      },
      {
       "output_type": "stream",
       "stream": "stdout",
       "text": [
        "\n",
        "Results: {'pe_classifier': {'classification': 'Evil!', 'md5': 'f6190648c2efb764ae1d73b0e9a4fd13'}}\n"
       ]
      }
     ],
     "prompt_number": 69
    },
    {
     "cell_type": "code",
     "collapsed": false,
     "input": [
      "# We just ran the classifer on 50 files and you'll note that we ONLY got back the\n",
      "# information we ask for. On a large amount of files (100k or greater) if you don't\n",
      "# have a granular system, something this easy WILL NOT BE POSSIBLE! (dramatic enough?)\n",
      "\n",
      "# So lets look at the features going into the classifier (btw the classifier is current a toy example)\n",
      "c.work_request('pe_features', md5)"
     ],
     "language": "python",
     "metadata": {},
     "outputs": [
      {
       "metadata": {},
       "output_type": "pyout",
       "prompt_number": 70,
       "text": [
        "{'pe_features': {'dense_features': {'check_sum': 0,\n",
        "   'compile_date': 1074901182,\n",
        "   'datadir_IMAGE_DIRECTORY_ENTRY_BASERELOC_size': 2348796035,\n",
        "   'datadir_IMAGE_DIRECTORY_ENTRY_EXPORT_size': 0,\n",
        "   'datadir_IMAGE_DIRECTORY_ENTRY_IAT_size': 0,\n",
        "   'datadir_IMAGE_DIRECTORY_ENTRY_IMPORT_size': 20,\n",
        "   'datadir_IMAGE_DIRECTORY_ENTRY_RESOURCE_size': 262,\n",
        "   'debug_size': 0,\n",
        "   'export_size': 0,\n",
        "   'generated_check_sum': 62500,\n",
        "   'iat_rva': 86510,\n",
        "   'major_version': 0,\n",
        "   'minor_version': 57,\n",
        "   'number_of_bound_import_symbols': 0,\n",
        "   'number_of_bound_imports': 0,\n",
        "   'number_of_export_symbols': 0,\n",
        "   'number_of_import_symbols': 0,\n",
        "   'number_of_imports': 0,\n",
        "   'number_of_rva_and_sizes': 10,\n",
        "   'number_of_sections': 3,\n",
        "   'pe_char': 33167,\n",
        "   'pe_dll': 0,\n",
        "   'pe_driver': 0,\n",
        "   'pe_exe': 1,\n",
        "   'pe_i386': 1,\n",
        "   'pe_majorlink': 76,\n",
        "   'pe_minorlink': 111,\n",
        "   'pe_warnings': 1,\n",
        "   'sec_entropy_': 7.876937179741062,\n",
        "   'sec_entropy_@': 5.388003199139927,\n",
        "   'sec_entropy_data': 0,\n",
        "   'sec_entropy_ps': 5.388003199139927,\n",
        "   'sec_entropy_rdata': 0,\n",
        "   'sec_entropy_reloc': 0,\n",
        "   'sec_entropy_rsrc': 0,\n",
        "   'sec_entropy_text': 0,\n",
        "   'sec_raw_execsize': 6984,\n",
        "   'sec_rawptr_': 512,\n",
        "   'sec_rawptr_@': 16,\n",
        "   'sec_rawptr_data': 0,\n",
        "   'sec_rawptr_ps': 16,\n",
        "   'sec_rawptr_rsrc': 0,\n",
        "   'sec_rawptr_text': 0,\n",
        "   'sec_rawsize_': 5992,\n",
        "   'sec_rawsize_@': 496,\n",
        "   'sec_rawsize_data': 0,\n",
        "   'sec_rawsize_ps': 496,\n",
        "   'sec_rawsize_rsrc': 0,\n",
        "   'sec_rawsize_text': 0,\n",
        "   'sec_va_execsize': 86016,\n",
        "   'sec_vasize_': 36864,\n",
        "   'sec_vasize_@': 4096,\n",
        "   'sec_vasize_data': 0,\n",
        "   'sec_vasize_ps': 45056,\n",
        "   'sec_vasize_rsrc': 0,\n",
        "   'sec_vasize_text': 0,\n",
        "   'size_code': 1766614113,\n",
        "   'size_image': 90112,\n",
        "   'size_initdata': 1918988898,\n",
        "   'size_uninit': 16761,\n",
        "   'std_section_names': 0,\n",
        "   'total_size_pe': 6504,\n",
        "   'virtual_address': 4096,\n",
        "   'virtual_size': 45056,\n",
        "   'virtual_size_2': 36864},\n",
        "  'md5': 'f6190648c2efb764ae1d73b0e9a4fd13',\n",
        "  'sparse_features': {'imported_symbols': [],\n",
        "   'pe_warning_strings': ['Error parsing section 0. PointerToRawData should normally be a multiple of FileAlignment, this might imply the file is trying to confuse tools which parse this incorrectly',\n",
        "    'Suspicious flags set for section 0. Both IMAGE_SCN_MEM_WRITE and IMAGE_SCN_MEM_EXECUTE are set. This might indicate a packed executable.',\n",
        "    'Suspicious flags set for section 1. Both IMAGE_SCN_MEM_WRITE and IMAGE_SCN_MEM_EXECUTE are set. This might indicate a packed executable.',\n",
        "    'Error parsing section 2. PointerToRawData should normally be a multiple of FileAlignment, this might imply the file is trying to confuse tools which parse this incorrectly',\n",
        "    'Suspicious flags set for section 2. Both IMAGE_SCN_MEM_WRITE and IMAGE_SCN_MEM_EXECUTE are set. This might indicate a packed executable.',\n",
        "    'Corrupt header \"IMAGE_IMPORT_DESCRIPTOR\" at file offset 494. Exception: \\'Data length less than expected header length.\\'',\n",
        "    \"Invalid relocation information. Can't read data at RVA: 0x476ffa5\"],\n",
        "   'section_names': ['ps', '', '@']}}}"
       ]
      }
     ],
     "prompt_number": 70
    },
    {
     "cell_type": "code",
     "collapsed": false,
     "input": [
      "c.work_request('pe_indicators', md5)"
     ],
     "language": "python",
     "metadata": {},
     "outputs": [
      {
       "metadata": {},
       "output_type": "pyout",
       "prompt_number": 71,
       "text": [
        "{'pe_indicators': {'indicator_list': [{'category': 'PE_WARN',\n",
        "    'description': 'Error parsing section 0. PointerToRawData should normally be a multiple of FileAlignment, this might imply the file is trying to confuse tools which parse this incorrectly',\n",
        "    'severity': 2},\n",
        "   {'category': 'PE_WARN',\n",
        "    'description': 'Suspicious flags set for section 0. Both IMAGE_SCN_MEM_WRITE and IMAGE_SCN_MEM_EXECUTE are set. This might indicate a packed executable.',\n",
        "    'severity': 2},\n",
        "   {'category': 'PE_WARN',\n",
        "    'description': 'Suspicious flags set for section 1. Both IMAGE_SCN_MEM_WRITE and IMAGE_SCN_MEM_EXECUTE are set. This might indicate a packed executable.',\n",
        "    'severity': 2},\n",
        "   {'category': 'PE_WARN',\n",
        "    'description': 'Error parsing section 2. PointerToRawData should normally be a multiple of FileAlignment, this might imply the file is trying to confuse tools which parse this incorrectly',\n",
        "    'severity': 2},\n",
        "   {'category': 'PE_WARN',\n",
        "    'description': 'Suspicious flags set for section 2. Both IMAGE_SCN_MEM_WRITE and IMAGE_SCN_MEM_EXECUTE are set. This might indicate a packed executable.',\n",
        "    'severity': 2},\n",
        "   {'category': 'PE_WARN',\n",
        "    'description': 'Corrupt header \"IMAGE_IMPORT_DESCRIPTOR\" at file offset 494. Exception: \\'Data length less than expected header length.\\'',\n",
        "    'severity': 2},\n",
        "   {'category': 'PE_WARN',\n",
        "    'description': \"Invalid relocation information. Can't read data at RVA: 0x476ffa5\",\n",
        "    'severity': 2},\n",
        "   {'category': 'MALFORMED', 'description': 'Checksum of Zero', 'severity': 1},\n",
        "   {'category': 'MALFORMED',\n",
        "    'description': 'Reported Checksum does not match actual checksum',\n",
        "    'severity': 2}],\n",
        "  'md5': 'f6190648c2efb764ae1d73b0e9a4fd13'}}"
       ]
      }
     ],
     "prompt_number": 71
    },
    {
     "cell_type": "code",
     "collapsed": false,
     "input": [
      "# Wow, that's a lot of features... if I had to flood my network, and parse \n",
      "# through all that shit just to get my one line of classification results,\n",
      "# I might prefer some nutshots from a kid wearing a football helmet.\n",
      "\n",
      "# On another note, did we just waste some time there? Did workbench have\n",
      "# to recompute the features? No everything done by workbench is pushed into the MongoDB\n",
      "# backend and then if the work results for that md5 are already in the datastore the\n",
      "# a very lightweight call is made to get the results. In fact results are never directly\n",
      "# returned, the worker pushes into Mongo and then we pull them out and hand them to the\n",
      "# client, that way we ^ensure^ that the bits in the datastore and the bits that you get\n",
      "# are the exact same 'gold bits' (seems like overkill but it's important).\n",
      "\n",
      "# Lets look at the datastore now.\n",
      "import pymongo\n",
      "uri = c.get_datastore_uri()\n",
      "mongo_c = pymongo.MongoClient(uri)\n",
      "db = mongo_c.get_default_database()"
     ],
     "language": "python",
     "metadata": {},
     "outputs": [],
     "prompt_number": 72
    },
    {
     "cell_type": "code",
     "collapsed": false,
     "input": [
      "# Every worker pushes it's results to a separate collection\n",
      "db.collection_names()"
     ],
     "language": "python",
     "metadata": {},
     "outputs": [
      {
       "metadata": {},
       "output_type": "pyout",
       "prompt_number": 73,
       "text": [
        "[u'system.indexes',\n",
        " u'fs.chunks',\n",
        " u'samples',\n",
        " u'fs.files',\n",
        " u'meta',\n",
        " u'pe_features',\n",
        " u'pe_indicators',\n",
        " u'pe_classifier']"
       ]
      }
     ],
     "prompt_number": 73
    },
    {
     "cell_type": "markdown",
     "metadata": {},
     "source": [
      "# Your data - Transparent, Organized, Accessible\n",
      "<div style=\"margin: 50px 0px 0px 30px\"><img src=\"files/images/mongo_data.png\" width=\"800px\"></div>\n"
     ]
    },
    {
     "cell_type": "code",
     "collapsed": false,
     "input": [
      "# What if something weird happened like one of the collections got deleted?\n",
      "# Hey lets find out\n",
      "db.pe_classifier.drop()\n",
      "db.collection_names()"
     ],
     "language": "python",
     "metadata": {},
     "outputs": [
      {
       "metadata": {},
       "output_type": "pyout",
       "prompt_number": 74,
       "text": [
        "[u'system.indexes',\n",
        " u'fs.chunks',\n",
        " u'samples',\n",
        " u'fs.files',\n",
        " u'meta',\n",
        " u'pe_features',\n",
        " u'pe_indicators']"
       ]
      }
     ],
     "prompt_number": 74
    },
    {
     "cell_type": "code",
     "collapsed": false,
     "input": [
      "# Okay.. so the system will flop over and die now.. yes?  No, in fact removing\n",
      "# a collection is fine. Watch the magic...\n",
      "#\n",
      "for md5 in working_set:\n",
      "    results = c.work_request('pe_classifier', md5)\n",
      "    print 'Results: %s' % (results)"
     ],
     "language": "python",
     "metadata": {},
     "outputs": [
      {
       "output_type": "stream",
       "stream": "stdout",
       "text": [
        "Results: {'pe_classifier': {'classification': 'Evil!', 'md5': '033d91aae8ad29ed9fbb858179271232'}}\n",
        "Results: {'pe_classifier': {'classification': 'Evil!', 'md5': '0cb9aa6fb9c4aa3afad7a303e21ac0f3'}}\n",
        "Results: {'pe_classifier': {'classification': 'Evil!', 'md5': '0e882ec9b485979ea84c7843d41ba36f'}}\n",
        "Results: {'pe_classifier': {'classification': 'Benign', 'md5': '0e8b030fb6ae48ffd29e520fc16b5641'}}\n",
        "Results: {'pe_classifier': {'classification': 'Benign', 'md5': '0eb9e990c521b30428a379700ec5ab3e'}}\n",
        "Results: {'pe_classifier': {'classification': 'Evil!', 'md5': '127f2bade752445b3dbf2cf2ea75c201'}}\n",
        "Results: {'pe_classifier': {'classification': 'Evil!', 'md5': '139385a91b9bca0833bdc1fa77e42b91'}}\n",
        "Results: {'pe_classifier': {'classification': 'Evil!', 'md5': '13dcc5b4570180118eb65529b77f6d89'}}\n",
        "Results: {'pe_classifier': {'classification': 'Evil!', 'md5': '1cac80a2147cd8f3860547e43edcaa00'}}\n",
        "Results: {'pe_classifier': {'classification': 'Evil!', 'md5': '1cea13cf888cd8ce4f869029f1dbb601'}}\n",
        "Results: {'pe_classifier': {'classification': 'Evil!', 'md5': '1d733a9e3e571ce5f5f633a0cfd3d5f0'}}\n",
        "Results: {'pe_classifier': {'classification': 'Evil!', 'md5': '2058c50de5976c67a09dfa5e0e1c7eb5'}}"
       ]
      },
      {
       "output_type": "stream",
       "stream": "stdout",
       "text": [
        "\n",
        "Results: {'pe_classifier': {'classification': 'Evil!', 'md5': '2d012cba541c22fb7250975d5ad0d065'}}\n",
        "Results: {'pe_classifier': {'classification': 'Evil!', 'md5': '2d015553c7388e4d78f05b24aba0819c'}}\n",
        "Results: {'pe_classifier': {'classification': 'Evil!', 'md5': '2d017ff228c39a0a727586b33f8168b0'}}\n",
        "Results: {'pe_classifier': {'classification': 'Evil!', 'md5': '2d09133abb48e1c7f3f5c8f8ced8fef4'}}\n",
        "Results: {'pe_classifier': {'classification': 'Evil!', 'md5': '2d094b6c69020091b68d1bcf5d11fa4b'}}\n",
        "Results: {'pe_classifier': {'classification': 'Evil!', 'md5': '2d095091983dd0bf6ab7c0bb6dd695f9'}}\n",
        "Results: {'pe_classifier': {'classification': 'Evil!', 'md5': '2d09546831b17d2cc0583362b6d312ae'}}\n",
        "Results: {'pe_classifier': {'classification': 'Evil!', 'md5': '2d099171876f7301c155bd775fff2b6a'}}\n",
        "Results: {'pe_classifier': {'classification': 'Benign', 'md5': '2d09a573b0e9d02a9fa47b16e9c01a48'}}\n",
        "Results: {'pe_classifier': {'classification': 'Evil!', 'md5': '2d09b5768e3617523d8afa110361919c'}}\n",
        "Results: {'pe_classifier': {'classification': 'Evil!', 'md5': '2d09b8d9852c3176259915e3509bcbd1'}}"
       ]
      },
      {
       "output_type": "stream",
       "stream": "stdout",
       "text": [
        "\n",
        "Results: {'pe_classifier': {'classification': 'Evil!', 'md5': '2d09ca902990545fec9ac190b0338b50'}}\n",
        "Results: {'pe_classifier': {'classification': 'Evil!', 'md5': '2d09cb38c268aa9297e5a7f27e677267'}}\n",
        "Results: {'pe_classifier': {'classification': 'Evil!', 'md5': '2d09cc92bbe29d96bb3a91b350d1725f'}}\n",
        "Results: {'pe_classifier': {'classification': 'Evil!', 'md5': '2d09e4aff42aebac87ae2fd737aba94f'}}\n",
        "Results: {'pe_classifier': {'classification': 'Evil!', 'md5': '32b24e73cfc3ac4c43f1926f8935e438'}}\n",
        "Results: {'pe_classifier': {'classification': 'Evil!', 'md5': '4ed28b6207560f127d267de639a4e1bf'}}\n",
        "Results: {'pe_classifier': {'classification': 'Evil!', 'md5': '505804ec7c7212a52ec85e075b91ed84'}}\n",
        "Results: {'pe_classifier': {'classification': 'Evil!', 'md5': '60a83c049e135cc199138c1f8861437c'}}\n",
        "Results: {'pe_classifier': {'classification': 'Evil!', 'md5': '69f9633fa6fd5dc1fd917cb435bba8ad'}}\n",
        "Results: {'pe_classifier': {'classification': 'Evil!', 'md5': '79f5e1af9fdb92476045989bda7515c7'}}\n",
        "Results: {'pe_classifier': {'classification': 'Evil!', 'md5': '7f313447b887b078215617fbed1a34a1'}}\n",
        "Results: {'pe_classifier': {'classification': 'Evil!', 'md5': '8006782bdf703e2f3fdf1d1650f45ffd'}}\n",
        "Results: {'pe_classifier': {'classification': 'Evil!', 'md5': '86714940f491bc38c2e842e80c7f778e'}}"
       ]
      },
      {
       "output_type": "stream",
       "stream": "stdout",
       "text": [
        "\n",
        "Results: {'pe_classifier': {'classification': 'Evil!', 'md5': '987bd46899b2a9493e6dec051edcb66c'}}\n",
        "Results: {'pe_classifier': {'classification': 'Evil!', 'md5': '9cd3d7b1b0f2aea5950cbf7d97776f2f'}}\n",
        "Results: {'pe_classifier': {'classification': 'Evil!', 'md5': '9ceccd9f32cb2ad0b140b6d15d8993b6'}}\n",
        "Results: {'pe_classifier': {'classification': 'Evil!', 'md5': '9e42ff1e6f75ae3e60b24e48367c8f26'}}\n",
        "Results: {'pe_classifier': {'classification': 'Evil!', 'md5': 'a7b0a9067d8292b252d741e6fae17cd9'}}\n",
        "Results: {'pe_classifier': {'classification': 'Benign', 'md5': 'afddc552b31a8f2438768c73674bf29e'}}\n",
        "Results: {'pe_classifier': {'classification': 'Evil!', 'md5': 'b681485cb9e0cad73ee85b9274c0d3c2'}}\n",
        "Results: {'pe_classifier': {'classification': 'Evil!', 'md5': 'bf1249a258cbcccec0f1b4ea1e9451a1'}}\n",
        "Results: {'pe_classifier': {'classification': 'Evil!', 'md5': 'c8c54ac7e827056174762c68db84534f'}}\n",
        "Results: {'pe_classifier': {'classification': 'Evil!', 'md5': 'cc113aa59c04b17e7cb832fc417f104d'}}\n",
        "Results: {'pe_classifier': {'classification': 'Benign', 'md5': 'd94da41e7e809f7366971b3b50f8ef68'}}"
       ]
      },
      {
       "output_type": "stream",
       "stream": "stdout",
       "text": [
        "\n",
        "Results: {'pe_classifier': {'classification': 'Evil!', 'md5': 'e9a6c83826deacfbc2281b6c7e401694'}}\n",
        "Results: {'pe_classifier': {'classification': 'Evil!', 'md5': 'ea5d95c96a23b21b9038f03b91955c18'}}\n",
        "Results: {'pe_classifier': {'classification': 'Evil!', 'md5': 'f6190648c2efb764ae1d73b0e9a4fd13'}}\n"
       ]
      }
     ],
     "prompt_number": 75
    },
    {
     "cell_type": "code",
     "collapsed": false,
     "input": [
      "# wow, that was super underwhelming.. stuff just worked...\n",
      "db.collection_names()"
     ],
     "language": "python",
     "metadata": {},
     "outputs": [
      {
       "metadata": {},
       "output_type": "pyout",
       "prompt_number": 76,
       "text": [
        "[u'system.indexes',\n",
        " u'fs.chunks',\n",
        " u'samples',\n",
        " u'fs.files',\n",
        " u'meta',\n",
        " u'pe_features',\n",
        " u'pe_indicators',\n",
        " u'pe_classifier']"
       ]
      }
     ],
     "prompt_number": 76
    },
    {
     "cell_type": "code",
     "collapsed": false,
     "input": [
      "# Another example.. I want to look at strings for different types of files (not just pe_files)\n",
      "# So we can load up a few pdfs (the pe's are already in the datastore)\n",
      "file_list = [os.path.join('../test_files/pdf/bad', child) for child in os.listdir('../test_files/pdf/bad')]\n",
      "for filename in file_list:\n",
      "    with open(filename,'rb') as f:\n",
      "        md5 = c.store_sample(filename, f.read(), 'pdf')\n",
      "        working_set.append(md5)"
     ],
     "language": "python",
     "metadata": {},
     "outputs": [],
     "prompt_number": 77
    },
    {
     "cell_type": "code",
     "collapsed": false,
     "input": [
      "# Now we rip the strings worker on them all\n",
      "for md5 in working_set:\n",
      "    result = c.work_request('strings', md5)\n",
      "    print 'results: %s' % (result['strings']['string_list'][:5]) # strings output is large so just showing the first 5"
     ],
     "language": "python",
     "metadata": {},
     "outputs": [
      {
       "output_type": "stream",
       "stream": "stdout",
       "text": [
        "results: ['    ', '!This program cannot be run in DOS mode.', 'Rich', '.text', '.rdata']\n",
        "results: ['!This program cannot be run in DOS mode.', 'Rich3', '.text', '`.rdata', '@.data']\n",
        "results: ['!This program cannot be run in DOS mode.', 'Rich', '.text', '`.data', '.rsrc']\n",
        "results: ['This program must be run under Win32', 'CODE', '`DATA', '.idata', '.tls']"
       ]
      },
      {
       "output_type": "stream",
       "stream": "stdout",
       "text": [
        "\n",
        "results: ['!This program cannot be run in DOS mode.', 'Rich', '.text', '`.rdata', '@DATA']"
       ]
      },
      {
       "output_type": "stream",
       "stream": "stdout",
       "text": [
        "\n",
        "results: ['!This program cannot be run in DOS mode.', 'kRich', '.text', '`.rdata', '@.data']\n",
        "results: ['!This program cannot be run in DOS mode.', '.text', '.code', '`.data', '.data3']\n",
        "results: ['!This program cannot be run in DOS mode.', 'YRich', '.text', '`.rdata', '@.data']\n",
        "results: ['!This program cannot be run in DOS mode.', '.text', '`.data', '.rsrc', 'blenkxr']"
       ]
      },
      {
       "output_type": "stream",
       "stream": "stdout",
       "text": [
        "\n",
        "results: ['!This program cannot be run in DOS mode.', 'Rich', '.text', '`.rdata', '@.data']\n",
        "results: ['!This program cannot be run in DOS mode.', '.text', '.data', '.rsrc', 'aitrfvl']\n",
        "results: ['This program must be run under Win32', 'ATSEC0', '`ATSEC1', '@ATSEC2', '@idata']"
       ]
      },
      {
       "output_type": "stream",
       "stream": "stdout",
       "text": [
        "\n",
        "results: ['This program must be run under Win32', 'CODE', '`DATA', '.idata', '.reloc']\n",
        "results: ['yrf<[LordPE]', '.text', '.text', 'ExitProcess', 'KERNEL32.dll']\n",
        "results: ['!This program cannot be run in DOS mode.', 'Rich', '.text', '`rdata', '.data']"
       ]
      },
      {
       "output_type": "stream",
       "stream": "stdout",
       "text": [
        "\n",
        "results: ['!This program cannot be run in DOS mode.', '6Rich#', '^\"+M', 'UPX0', 'UPX1']"
       ]
      },
      {
       "output_type": "stream",
       "stream": "stdout",
       "text": [
        "\n",
        "results: ['!This program cannot be run in DOS mode.', 'Rich\"', '.text', '@.code', '`.data']\n",
        "results: ['yrf<[LordPE]', '.text', '.text', 'ExitProcess', 'KERNEL32.dll']\n",
        "results: ['!This program cannot be run in DOS mode.', 'Riche', '.text', '.data', '.rsrc']"
       ]
      },
      {
       "output_type": "stream",
       "stream": "stdout",
       "text": [
        "\n",
        "results: ['!This program cannot be run in DOS mode.', 'Rich', '.text', '`rdata', '.data']\n",
        "results: ['!This program cannot be run in DOS mode.', 'Rich', '.data', '`.data', '`.data']"
       ]
      },
      {
       "output_type": "stream",
       "stream": "stdout",
       "text": [
        "\n",
        "results: ['!This program cannot be run in DOS mode.', '.text', '`.data', '.idata', '@.rsrc']\n",
        "results: ['!This program cannot be run in DOS mode.', \">O'X_!tX_!tX_!t\", '@+tN_!t', 'C/tR_!t:@2tS_!tX_ t', '@*t[_!t']"
       ]
      },
      {
       "output_type": "stream",
       "stream": "stdout",
       "text": [
        "\n",
        "results: ['!This program cannot be run in DOS mode.', 'RichX', 'E0TK', '.text', '`.rdata']\n",
        "results: ['!This program cannot be run in DOS mode.', 'Rich', '.text', '`rdata', '.data']"
       ]
      },
      {
       "output_type": "stream",
       "stream": "stdout",
       "text": [
        "\n",
        "results: ['!This program cannot be run in DOS mode.', 'Rich', '.text', '`.rdata', '@.data']\n",
        "results: ['!This program cannot be run in DOS mode.', 'UPX0', 'UPX1', '.rsrc', '3.03']"
       ]
      },
      {
       "output_type": "stream",
       "stream": "stdout",
       "text": [
        "\n",
        "results: ['    ', '!This program cannot be run in DOS mode.', 'Rich', '.text', '.rdata']\n",
        "results: ['!This program cannot be run in DOS mode.', 'Rich', '.data', '.pdata', '.ex_cod']\n",
        "results: ['This program must be run under Win32', 'CODE', '`DATA', '.idata', '.tls']"
       ]
      },
      {
       "output_type": "stream",
       "stream": "stdout",
       "text": [
        "\n",
        "results: ['!This program cannot be run in DOS mode.', '.text', '`.rdata', '@.data', '_TEXT2']\n",
        "results: ['!This program cannot be run in DOS mode.', 'ERich', 'UPX0', 'UPX1', 'UPX2']\n",
        "results: ['This program must be run under Win32', 'mnYD', 'CODE', '`DATA', '.idata']\n",
        "results: ['!This program cannot be run in DOS mode.', '.text', '`.rdata', '@.data', '_TEXT2']"
       ]
      },
      {
       "output_type": "stream",
       "stream": "stdout",
       "text": [
        "\n",
        "results: ['!This program cannot be run in DOS mode.', 'Rich', '.PEX', '`.PEX', 'Bome']\n",
        "results: ['!This program cannot be run in DOS mode.', '|Richv', 'UPX0', 'UPX1', '.rsrc']\n",
        "results: ['!This program cannot be run in DOS mode.', 'Rich', '.text', '`.rdata', '@.data']\n",
        "results: ['!This program cannot be run in DOS mode.', 'sIPE', '.text', '.data', '.rsrc']"
       ]
      },
      {
       "output_type": "stream",
       "stream": "stdout",
       "text": [
        "\n",
        "results: ['!This program cannot be run in DOS mode.', '.text', '.data', '.rsrc', 'mzphdwa']\n",
        "results: ['!This program cannot be run in DOS mode.', '.text', '.data', '.rsrc', 'lsicbkg']\n",
        "results: ['!This program cannot be run in DOS mode.', 'Rich', '.packed', '`.RLPack', 'a?/u']"
       ]
      },
      {
       "output_type": "stream",
       "stream": "stdout",
       "text": [
        "\n",
        "results: ['!This program cannot be run in DOS mode.', 'Rich', '.text', 'h.rdata', 'H.reloc']\n",
        "results: ['This program must be run under Win32', 'CODE', '`DATA', '.idata', '.tls']\n",
        "results: ['    ', '!This program cannot be run in DOS mode.', 'Rich', '.text', '.rdata']"
       ]
      },
      {
       "output_type": "stream",
       "stream": "stdout",
       "text": [
        "\n",
        "results: ['!This program cannot be run in DOS mode.', '.text', '.data', '.rdata', '@.bss']\n",
        "results: ['!This program cannot be run in DOS mode.', 'ssaR', \"'#K'\", '.data', '.text']\n",
        "results: ['!This program cannot be run in DOS mode.', 'BZ.`', 'Richy', 'J!NH', '.text']"
       ]
      },
      {
       "output_type": "stream",
       "stream": "stdout",
       "text": [
        "\n",
        "results: ['!This program cannot be run in DOS mode.', 'RichW', '.text', '.data', '.rsrc']\n",
        "results: ['.text', 'KERNEL32.DLL', 'MSVCRT.DLL', 'USER32.DLL', 'ADVAPI32.DLL']\n",
        "results: ['MZKERNEL32.DLL', 'LoadLibraryA', 'GetProcAddress', '^]YF', 'W8mu']\n",
        "results: ['%PDF-1.6', '52 0 obj<</Length 51252212/Root 1 0 R/Info 3 0 R%/F/W[1 2 1]/Index[5 1 7 1 9 4 23 4 50 3]>>stream', '/Filter/FlateDecode/W[1 2 1]/Index[5 1 7 1 9 4 23 4 50 3]>>stream', 'bbb0b`b```', '310Z']\n",
        "results: ['%PDF-1.1', '1 0 obj', ' /Type /Catalog', ' /Outlines 2 0 R', ' /Pages 3 0 R']\n",
        "results: ['%PDF-1.3', '2 0 obj', '/OpenAction << /JS 9 0 R /S /JavaScript >>', '/Type /Catalog', '/Pages 3 0 R']"
       ]
      },
      {
       "output_type": "stream",
       "stream": "stdout",
       "text": [
        "\n",
        "results: ['%PDF-1.4', '1 0 obj', '/Type /Catalog', '/Outlines 3 0 R', '/Pages 4 0 R']\n",
        "results: ['%PDF-1.6', '11 0 obj', '<</Filter/FlateDecode /Length 2523>>', 'stream', 's--e']\n",
        "results: ['%PDF-1.4', '1 0 obj', '<</Pages 2 0 R  /OpenAction <<', '/JS 4 0 R /S /JavaScript /Type /Catalog>>>>', 'endobj']\n",
        "results: ['%PDF-1.0', '1 0 obj<</Type/Catalog/Pages 2 0 R /Names 3 0 R >>endobj', '2 0 obj<</Type/Pages/Count 1/Kids[ 4 0 R ]>>endobj', '3 0 obj<</JavaScript 5 0 R >>endobj', '4 0 obj<</Type/Page/Parent 2 0 R /Contents 12 0 R>>endobj']\n",
        "results: ['%PDF-1.6', '7 0 obj', '<</Count 1/Type/Pages/Kids[28 0 R]>>', 'endobj', '21 0 obj']\n",
        "results: ['%PDF-1.3', '4 0 obj', 'endobj', '5 0 obj', '/Producer (substr)']\n",
        "results: ['%PDF-1.5', '1 0 obj<</#54ype/#43atal#6fg/Outlin#65#73 2 0 R/#50ages 3 0 R/Ope#6e#41ctio#6e 5 0 R>>endobj', '2 0 obj<</T#79#70#65/#4fu#74li#6e#65s/C#6funt 0>>endobj', '3 0 obj<</Ty#70#65/Pa#67#65s/K#69ds[4 0 R]/#43o#75nt 1>>endobj', '4 0 obj<</#54#79pe/P#61g#65/#50a#72#65#6et 3 0 R/#4d#65#64i#61B#6f#78[0 0 612 792]>>endobj']\n",
        "results: ['%PDF-1.3', '4 0 obj', '<< /Length 5 0 R /Filter /FlateDecode >>', 'stream', '}b%~T\\\\']"
       ]
      },
      {
       "output_type": "stream",
       "stream": "stdout",
       "text": [
        "\n",
        "results: ['%PDF-1.7', '3 0 obj', '<</Type /Page', '/Parent 1 0 R', '/MediaBox [0 0 595.28 841.89]']\n",
        "results: ['%PDF-1.3', '%&#1074;&#1075;&#1055;&#1059;', '1 0 obj', '/Outlines 2 0 R', '/OpenAction 3 0 R']\n",
        "results: ['%PDF-1.6', '10 0 obj', '<</Filter/FlateDecode /Length 1563>>', 'stream', '}V]o']\n",
        "results: ['%PDF-1.3', '3 0 obj', '<</Type /Page', '/Parent 1 0 R', '/Resources 2 0 R']\n",
        "results: ['%PDF-1.6', '12 0 obj', '<</Filter/FlateDecode /Length 2063>>', 'stream', 'W1OOO']\n",
        "results: ['%PDF-1.4', '1 0 obj', '/Type /Catalog', '/Outlines 3 0 R', '/Pages 4 0 R']"
       ]
      },
      {
       "output_type": "stream",
       "stream": "stdout",
       "text": [
        "\n",
        "results: ['%PDF-1.0', '1 0 obj<</Type/Catalog/Pages 2 0 R /Names 3 0 R >>endobj', '2 0 obj<</Type/Pages/Count 1/Kids[ 4 0 R ]>>endobj', '3 0 obj<</JavaScript 5 0 R >>endobj', '4 0 obj<</Type/Page/Parent 2 0 R /Contents 12 0 R>>endobj']\n",
        "results: ['%PDF-1.6', '7 0 obj', '<</Length 2307 /Filter/FlateDecode>>', 'stream', '&^:_']\n",
        "results: ['%PDF-1.0', '1 0 obj<</Type/Catalog/Pages 2 0 R /Names 3 0 R >>endobj', '2 0 obj<</Type/Pages/Count 1/Kids[ 4 0 R ]>>endobj', '3 0 obj<</JavaScript 5 0 R >>endobj', '4 0 obj<</Type/Page/Parent 2 0 R /Contents 12 0 R>>endobj']\n",
        "results: ['%PDF-1.6', '9 0 obj', '<</Filter/FlateDecode /Length 2278>>', 'stream', '$z(R']\n",
        "results: ['%PDF-1.6', '1 0 obj', '<</MediaBox [0 0 1 1] /Type/Page /Contents 3 0 R /Parent 5 0 R>>', 'endobj', '5 0 obj']\n",
        "results: ['%PDF-1.3', '1 0 obj', '/Kids [ 4 0 R ]', '/Type /Pages', '/Count 1']\n",
        "results: ['%PDF-1.6', '7 0 obj', '<</Count 1/Type/Pages/Kids[28 0 R]>>', 'endobj', '21 0 obj']"
       ]
      },
      {
       "output_type": "stream",
       "stream": "stdout",
       "text": [
        "\n",
        "results: ['%PDF-1.6', '3 0 obj', '<</Filter/FlateDecode /Length 1905>>', 'stream', \"z]%'\"]\n"
       ]
      }
     ],
     "prompt_number": 78
    },
    {
     "cell_type": "markdown",
     "metadata": {},
     "source": [
      "<div style=\"float: right; margin: 50px 0px 0px 30px\"><img src=\"files/images/eyeball_2.jpg\" width=\"300px\"></div>\n",
      "# Views\n",
      "Views exemplify the true power of the workbench. They are meta workers in the broadest sense, they can call any set of workers (and other views, which are just workers of course). All of the previous notebook code focused on demonstrating the level of control and granularity you can use with workbench, here the example we're going to show for views will be for those who don't care about granularity and really just want a big 'GO' button.\n",
      "\n",
      "Views can also be precise or general (example shows the latter):\n",
      "\n",
      "    - Customer billing View\n",
      "    - Sample volume over time View\n",
      "    - All samples that use communications calls View\n",
      "    - DO_EVERYTHING_BECAUSE_I_WANT_TO_PUNCH_GRANULARITY_IN_THE_NUTS! View\n",
      "    \n",
      "So lets look at the last kind .. it's called 'view' and like many of the other workers it's 20 lines of code.\n",
      "\n",
      "But it's deceptively simple, if you think about what must be happening below... over a dozen workers are getting orchestrated and run only when it makes sense for that MIME type. So with a few  'pull' calls the recursive dependency chains are invoked; work is done if/when it's needed and the whole thing is fantastically elegant and efficient. If your mind isn't a little bit blown by what happens below then you might not be paying attention."
     ]
    },
    {
     "cell_type": "code",
     "collapsed": false,
     "input": [
      "# This just grabs all the file_paths recursively\n",
      "def tag_type(path):\n",
      "    return os.path.basename(os.path.normpath(path))\n",
      "\n",
      "file_list = []\n",
      "for p,d,f_list in os.walk('../test_files'):\n",
      "    if 'json' in p or 'logs' in p: continue # Skipping json/logs\n",
      "    file_list += [os.path.join(p, f) for f in f_list]"
     ],
     "language": "python",
     "metadata": {},
     "outputs": [],
     "prompt_number": 79
    },
    {
     "cell_type": "markdown",
     "metadata": {},
     "source": [
      "<div style=\"float: left; margin: 0px 0px 0px 50px\"><img src=\"files/images/anxious.jpg\" width=\"150px\"></div>\n",
      "### Please note the next cell takes several minutes to complete\n",
      "#### The repository has hundreds of test files and the next few lines of python runs them all through 4-5 workers each, yes 'view' is like a magic pony it will figure out what workers to run on which file types (peid is the big time hog in case you're wondering)."
     ]
    },
    {
     "cell_type": "code",
     "collapsed": false,
     "input": [
      "# We're going to load in all the files which include PE files, PCAPS, PDFs, and ZIPs and run 'view' on them.\n",
      "# Note: This takes a while :)\n",
      "import pprint\n",
      "results = []\n",
      "for filename in file_list:\n",
      "    with open(filename,'rb') as f:\n",
      "        md5 = c.store_sample(os.path.basename(filename), f.read(), tag_type(filename))\n",
      "        results.append(c.work_request('view', md5))\n",
      "pprint.pprint(results[:5])"
     ],
     "language": "python",
     "metadata": {},
     "outputs": [
      {
       "output_type": "stream",
       "stream": "stdout",
       "text": [
        "[{'view': {'md5': '971b0882cb8c2c80a0d4172df66147f1',\n",
        "           'meta': {'encoding': 'binary',\n",
        "                    'file_size': 6148,\n",
        "                    'file_type': 'Apple Desktop Services Store',\n",
        "                    'filename': '.DS_Store',\n",
        "                    'import_time': '2014-04-01T19:04:58.292000Z',\n",
        "                    'md5': '971b0882cb8c2c80a0d4172df66147f1',\n",
        "                    'mime_type': 'binary',\n",
        "                    'type_tag': '.DS_Store'}}},\n",
        " {'view': {'md5': '0504b3c442166f699ce85a47b4eadd66',\n",
        "           'view_pcap_meta': {'encoding': 'binary',\n",
        "                              'file_size': 11792,\n",
        "                              'file_type': 'tcpdump capture file (little-endian) - version 2.4 (Ethernet, capture length 65535)',\n",
        "                              'filename': 'dhcp-and-dyndns.pcap',\n",
        "                              'import_time': '2014-04-01T19:04:58.322000Z',\n",
        "                              'md5': '0504b3c442166f699ce85a47b4eadd66',\n",
        "                              'mime_type': 'application/vnd.tcpdump.pcap',\n",
        "                              'type_tag': 'dhcp-and-dyndns.pcap'}}},\n",
        " {'view': {'md5': '61d6cf490b6d3cee363f59eca547b363',\n",
        "           'view_pcap_meta': {'encoding': 'binary',\n",
        "                              'file_size': 25499,\n",
        "                              'file_type': 'tcpdump capture file (little-endian) - version 2.4 (Ethernet, capture length 65535)',\n",
        "                              'filename': 'http.pcap',\n",
        "                              'import_time': '2014-04-01T19:04:58.370000Z',\n",
        "                              'md5': '61d6cf490b6d3cee363f59eca547b363',\n",
        "                              'mime_type': 'application/vnd.tcpdump.pcap',\n",
        "                              'type_tag': 'http.pcap'}}},\n",
        " {'view': {'md5': '067b3929f096768e864f6a04f04d4e54',\n",
        "           'view_pdf': {'encoding': 'binary',\n",
        "                        'file_size': 14611,\n",
        "                        'file_type': 'PDF document, version 1.6',\n",
        "                        'filename': '../test_files/pdf/bad/067b3929f096768e864f6a04f04d4e54',\n",
        "                        'import_time': '2014-04-01T19:04:51.724000Z',\n",
        "                        'md5': '067b3929f096768e864f6a04f04d4e54',\n",
        "                        'mime_type': 'application/pdf',\n",
        "                        'strings': ['%PDF-1.6',\n",
        "                                    '52 0 obj<</Length 51252212/Root 1 0 R/Info 3 0 R%/F/W[1 2 1]/Index[5 1 7 1 9 4 23 4 50 3]>>stream',\n",
        "                                    '/Filter/FlateDecode/W[1 2 1]/Index[5 1 7 1 9 4 23 4 50 3]>>stream',\n",
        "                                    'bbb0b`b```',\n",
        "                                    '310Z'],\n",
        "                        'type_tag': 'pdf'}}},\n",
        " {'view': {'md5': '10a2b5438ba29012bae516f9873ad421',\n",
        "           'view_pdf': {'encoding': 'us-ascii',\n",
        "                        'file_size': 2057,\n",
        "                        'file_type': 'PDF document, version 1.1',\n",
        "                        'filename': '../test_files/pdf/bad/10a2b5438ba29012bae516f9873ad421',\n",
        "                        'import_time': '2014-04-01T19:04:51.741000Z',\n",
        "                        'md5': '10a2b5438ba29012bae516f9873ad421',\n",
        "                        'mime_type': 'application/pdf',\n",
        "                        'strings': ['%PDF-1.1',\n",
        "                                    '1 0 obj',\n",
        "                                    ' /Type /Catalog',\n",
        "                                    ' /Outlines 2 0 R',\n",
        "                                    ' /Pages 3 0 R'],\n",
        "                        'type_tag': 'pdf'}}}]\n"
       ]
      }
     ],
     "prompt_number": 80
    },
    {
     "cell_type": "code",
     "collapsed": false,
     "input": [
      "# Okay so views can either aggregate results from multiple workers or they\n",
      "# can subset to just want you want (webpage presentation for instance)\n",
      "results = c.batch_work_request('view_customer', {})\n",
      "print results"
     ],
     "language": "python",
     "metadata": {},
     "outputs": [
      {
       "output_type": "stream",
       "stream": "stdout",
       "text": [
        "<generator object iterator at 0x112486b40>\n"
       ]
      }
     ],
     "prompt_number": 84
    },
    {
     "cell_type": "markdown",
     "metadata": {},
     "source": [
      "<div style=\"float: left; margin: 0px 0px 0px 30px\"><img src=\"files/images/head_explode.jpg\" width=\"350px\"></div>\n",
      "## Holy s#@&! A generator? \n",
      "#### I know how awesome generators are but getting one from a server request! Are u serious?!  Yes, dead serious.. like chopping off your head and kicking your body into a shallow grave and putting your head on a stick... serious.\n",
      "\n",
      "#### For more on client/server generators and client-contructed/server-executed generator pipelines see our super spiffy [Generator Pipelines](http://nbviewer.ipython.org/url/raw.github.com/SuperCowPowers/workbench/master/notebooks/Generator_Pipelines.ipynb) notebook."
     ]
    },
    {
     "cell_type": "code",
     "collapsed": false,
     "input": [
      "# At this granularity it opens up a new world\n",
      "import pandas as pd\n",
      "df = pd.DataFrame.from_records(results)\n",
      "df.head()"
     ],
     "language": "python",
     "metadata": {},
     "outputs": [
      {
       "html": [
        "<div style=\"max-height:1000px;max-width:1500px;overflow:auto;\">\n",
        "<table border=\"1\" class=\"dataframe\">\n",
        "  <thead>\n",
        "    <tr style=\"text-align: right;\">\n",
        "      <th></th>\n",
        "      <th>customer</th>\n",
        "      <th>filename</th>\n",
        "      <th>import_time</th>\n",
        "      <th>length</th>\n",
        "      <th>md5</th>\n",
        "    </tr>\n",
        "  </thead>\n",
        "  <tbody>\n",
        "    <tr>\n",
        "      <th>0</th>\n",
        "      <td> Dorseys Mom</td>\n",
        "      <td> ../test_files/pe/bad/0cb9aa6fb9c4aa3afad7a303e...</td>\n",
        "      <td> 2014-04-01T18:59:53.317000Z</td>\n",
        "      <td> 20480</td>\n",
        "      <td> 0cb9aa6fb9c4aa3afad7a303e21ac0f3</td>\n",
        "    </tr>\n",
        "    <tr>\n",
        "      <th>1</th>\n",
        "      <td>   Mega Corp</td>\n",
        "      <td> ../test_files/pe/bad/033d91aae8ad29ed9fbb85817...</td>\n",
        "      <td> 2014-04-01T18:59:53.579000Z</td>\n",
        "      <td> 85504</td>\n",
        "      <td> 033d91aae8ad29ed9fbb858179271232</td>\n",
        "    </tr>\n",
        "    <tr>\n",
        "      <th>2</th>\n",
        "      <td>   Mega Corp</td>\n",
        "      <td> ../test_files/pe/bad/0e882ec9b485979ea84c7843d...</td>\n",
        "      <td> 2014-04-01T18:59:53.705000Z</td>\n",
        "      <td> 64512</td>\n",
        "      <td> 0e882ec9b485979ea84c7843d41ba36f</td>\n",
        "    </tr>\n",
        "    <tr>\n",
        "      <th>3</th>\n",
        "      <td>    BearTron</td>\n",
        "      <td> ../test_files/pe/bad/0e8b030fb6ae48ffd29e520fc...</td>\n",
        "      <td> 2014-04-01T18:59:53.831000Z</td>\n",
        "      <td> 81920</td>\n",
        "      <td> 0e8b030fb6ae48ffd29e520fc16b5641</td>\n",
        "    </tr>\n",
        "    <tr>\n",
        "      <th>4</th>\n",
        "      <td>   Mega Corp</td>\n",
        "      <td> ../test_files/pe/bad/0eb9e990c521b30428a379700...</td>\n",
        "      <td> 2014-04-01T18:59:54.094000Z</td>\n",
        "      <td> 97280</td>\n",
        "      <td> 0eb9e990c521b30428a379700ec5ab3e</td>\n",
        "    </tr>\n",
        "  </tbody>\n",
        "</table>\n",
        "<p>5 rows \u00d7 5 columns</p>\n",
        "</div>"
       ],
       "metadata": {},
       "output_type": "pyout",
       "prompt_number": 85,
       "text": [
        "      customer                                           filename  \\\n",
        "0  Dorseys Mom  ../test_files/pe/bad/0cb9aa6fb9c4aa3afad7a303e...   \n",
        "1    Mega Corp  ../test_files/pe/bad/033d91aae8ad29ed9fbb85817...   \n",
        "2    Mega Corp  ../test_files/pe/bad/0e882ec9b485979ea84c7843d...   \n",
        "3     BearTron  ../test_files/pe/bad/0e8b030fb6ae48ffd29e520fc...   \n",
        "4    Mega Corp  ../test_files/pe/bad/0eb9e990c521b30428a379700...   \n",
        "\n",
        "                   import_time  length                               md5  \n",
        "0  2014-04-01T18:59:53.317000Z   20480  0cb9aa6fb9c4aa3afad7a303e21ac0f3  \n",
        "1  2014-04-01T18:59:53.579000Z   85504  033d91aae8ad29ed9fbb858179271232  \n",
        "2  2014-04-01T18:59:53.705000Z   64512  0e882ec9b485979ea84c7843d41ba36f  \n",
        "3  2014-04-01T18:59:53.831000Z   81920  0e8b030fb6ae48ffd29e520fc16b5641  \n",
        "4  2014-04-01T18:59:54.094000Z   97280  0eb9e990c521b30428a379700ec5ab3e  \n",
        "\n",
        "[5 rows x 5 columns]"
       ]
      }
     ],
     "prompt_number": 85
    },
    {
     "cell_type": "code",
     "collapsed": false,
     "input": [
      "# Plotting defaults\n",
      "import matplotlib.pyplot as plt\n",
      "%matplotlib inline\n",
      "plt.rcParams['font.size'] = 12.0\n",
      "plt.rcParams['figure.figsize'] = 18.0, 8.0"
     ],
     "language": "python",
     "metadata": {},
     "outputs": [],
     "prompt_number": 86
    },
    {
     "cell_type": "code",
     "collapsed": false,
     "input": [
      "# Plot file length box plots based on customer\n",
      "df.boxplot('length','customer')\n",
      "plt.xlabel('Customer')\n",
      "plt.ylabel('File Size')"
     ],
     "language": "python",
     "metadata": {},
     "outputs": [
      {
       "metadata": {},
       "output_type": "pyout",
       "prompt_number": 87,
       "text": [
        "<matplotlib.text.Text at 0x112cbfed0>"
       ]
      },
      {
       "metadata": {},
       "output_type": "display_data",
       "png": "[encoded data removed]",
       "text": [
        "<matplotlib.figure.Figure at 0x112743ed0>"
       ]
      }
     ],
     "prompt_number": 87
    },
    {
     "cell_type": "code",
     "collapsed": false,
     "input": [
      "# Okay now lets do some plots on the file meta-data\n",
      "results = c.batch_work_request('meta_deep', {})"
     ],
     "language": "python",
     "metadata": {},
     "outputs": [],
     "prompt_number": 88
    },
    {
     "cell_type": "code",
     "collapsed": false,
     "input": [
      "df_meta = pd.DataFrame.from_records(results)\n",
      "df_meta.head(10)"
     ],
     "language": "python",
     "metadata": {},
     "outputs": [
      {
       "html": [
        "<div style=\"max-height:1000px;max-width:1500px;overflow:auto;\">\n",
        "<table border=\"1\" class=\"dataframe\">\n",
        "  <thead>\n",
        "    <tr style=\"text-align: right;\">\n",
        "      <th></th>\n",
        "      <th>encoding</th>\n",
        "      <th>entropy</th>\n",
        "      <th>file_size</th>\n",
        "      <th>file_type</th>\n",
        "      <th>filename</th>\n",
        "      <th>import_time</th>\n",
        "      <th>md5</th>\n",
        "      <th>mime_type</th>\n",
        "      <th>sha1</th>\n",
        "      <th>sha256</th>\n",
        "      <th>ssdeep</th>\n",
        "      <th>type_tag</th>\n",
        "    </tr>\n",
        "  </thead>\n",
        "  <tbody>\n",
        "    <tr>\n",
        "      <th>0</th>\n",
        "      <td> binary</td>\n",
        "      <td> 2.440069</td>\n",
        "      <td> 20480</td>\n",
        "      <td> PE32 executable (GUI) Intel 80386, for MS Windows</td>\n",
        "      <td> ../test_files/pe/bad/0cb9aa6fb9c4aa3afad7a303e...</td>\n",
        "      <td> 2014-04-01T18:59:53.317000Z</td>\n",
        "      <td> 0cb9aa6fb9c4aa3afad7a303e21ac0f3</td>\n",
        "      <td> application/x-dosexec</td>\n",
        "      <td> 96e85768a12b2f319f2a4f0c048460e1b73aa573</td>\n",
        "      <td> 4ecf79302ba0439f62e15d0526a297975e6bb32ea25c8c...</td>\n",
        "      <td> 192:a8jJIFYrq9ATskBTp2jLDL3P1oynldvSo71nF:oFpN...</td>\n",
        "      <td> pe</td>\n",
        "    </tr>\n",
        "    <tr>\n",
        "      <th>1</th>\n",
        "      <td> binary</td>\n",
        "      <td> 7.894680</td>\n",
        "      <td> 85504</td>\n",
        "      <td> PE32 executable (GUI) Intel 80386, for MS Windows</td>\n",
        "      <td> ../test_files/pe/bad/033d91aae8ad29ed9fbb85817...</td>\n",
        "      <td> 2014-04-01T18:59:53.579000Z</td>\n",
        "      <td> 033d91aae8ad29ed9fbb858179271232</td>\n",
        "      <td> application/x-dosexec</td>\n",
        "      <td> 83ab10907b254752f312c89125957f10d35cb9d4</td>\n",
        "      <td> eb107c004e6e1bbd3b32ad7961661bbe28a577b0cb5dac...</td>\n",
        "      <td> 1536:h6+LbfPbI5dzmJu9Tgj5aOItvEqRCHW9pjVrs2ryr...</td>\n",
        "      <td> pe</td>\n",
        "    </tr>\n",
        "    <tr>\n",
        "      <th>2</th>\n",
        "      <td> binary</td>\n",
        "      <td> 5.125292</td>\n",
        "      <td> 64512</td>\n",
        "      <td> PE32 executable (GUI) Intel 80386, for MS Windows</td>\n",
        "      <td> ../test_files/pe/bad/0e882ec9b485979ea84c7843d...</td>\n",
        "      <td> 2014-04-01T18:59:53.705000Z</td>\n",
        "      <td> 0e882ec9b485979ea84c7843d41ba36f</td>\n",
        "      <td> application/x-dosexec</td>\n",
        "      <td> 12fb0a1b7d9c2b2a41f4da9ce5bbfb140fb16939</td>\n",
        "      <td> 616cf9e729c883d979212eb55178b7aac80dd9f58cb449...</td>\n",
        "      <td> 768:5HyLMqtEM1Htz8kDmP9l+nZZYp41oj7EZmJxl/N9j6...</td>\n",
        "      <td> pe</td>\n",
        "    </tr>\n",
        "    <tr>\n",
        "      <th>3</th>\n",
        "      <td> binary</td>\n",
        "      <td> 6.303055</td>\n",
        "      <td> 81920</td>\n",
        "      <td> PE32 executable (GUI) Intel 80386, for MS Windows</td>\n",
        "      <td> ../test_files/pe/bad/0e8b030fb6ae48ffd29e520fc...</td>\n",
        "      <td> 2014-04-01T18:59:53.831000Z</td>\n",
        "      <td> 0e8b030fb6ae48ffd29e520fc16b5641</td>\n",
        "      <td> application/x-dosexec</td>\n",
        "      <td> 82d57b8302b7497b2f6943f18e2d2687b9b0f5eb</td>\n",
        "      <td> feaf72bdad035e198d297bfb0b8d891645f1dacd78f0db...</td>\n",
        "      <td> 1536:1uNqjqzs1hQHhInEeJMzcmGqyF7Jwe9pvUo+5TDU4...</td>\n",
        "      <td> pe</td>\n",
        "    </tr>\n",
        "    <tr>\n",
        "      <th>4</th>\n",
        "      <td> binary</td>\n",
        "      <td> 7.593283</td>\n",
        "      <td> 97280</td>\n",
        "      <td> PE32 executable (GUI) Intel 80386, for MS Windows</td>\n",
        "      <td> ../test_files/pe/bad/0eb9e990c521b30428a379700...</td>\n",
        "      <td> 2014-04-01T18:59:54.094000Z</td>\n",
        "      <td> 0eb9e990c521b30428a379700ec5ab3e</td>\n",
        "      <td> application/x-dosexec</td>\n",
        "      <td> b778fc55f0538de865d4853099a3faa0b29f311d</td>\n",
        "      <td> dc5e8176a5f012ebdb4835f9b570a12c045d059f6f5bdc...</td>\n",
        "      <td> 1536:KcE4iMgXjTJpdGaaJG6Mhawv7r9ZaobsLBq+h5ttB...</td>\n",
        "      <td> pe</td>\n",
        "    </tr>\n",
        "    <tr>\n",
        "      <th>5</th>\n",
        "      <td> binary</td>\n",
        "      <td> 5.819876</td>\n",
        "      <td> 66560</td>\n",
        "      <td> PE32 executable (GUI) Intel 80386, for MS Windows</td>\n",
        "      <td> ../test_files/pe/bad/127f2bade752445b3dbf2cf2e...</td>\n",
        "      <td> 2014-04-01T18:59:54.302000Z</td>\n",
        "      <td> 127f2bade752445b3dbf2cf2ea75c201</td>\n",
        "      <td> application/x-dosexec</td>\n",
        "      <td> 8f85c1d422cf671752f670132755e582b0f0df91</td>\n",
        "      <td> 39406e20428d6b4cf4d3bfc808f25054c3b3a020b3799a...</td>\n",
        "      <td> 1536:wc9nwQYsQtdFwFQ8bjaQobU52FWAltktg6y+v:MQY...</td>\n",
        "      <td> pe</td>\n",
        "    </tr>\n",
        "    <tr>\n",
        "      <th>6</th>\n",
        "      <td> binary</td>\n",
        "      <td> 5.464102</td>\n",
        "      <td> 22510</td>\n",
        "      <td> PE32 executable (GUI) Intel 80386, for MS Windows</td>\n",
        "      <td> ../test_files/pe/bad/139385a91b9bca0833bdc1fa7...</td>\n",
        "      <td> 2014-04-01T18:59:54.426000Z</td>\n",
        "      <td> 139385a91b9bca0833bdc1fa77e42b91</td>\n",
        "      <td> application/x-dosexec</td>\n",
        "      <td> 8a3cdd2ba8fbc340c3e7d8846557ec0b9c67ea1c</td>\n",
        "      <td> b059cc3092e47f6ca63dff2bf3b3d5e08bf49d1bc50255...</td>\n",
        "      <td> 384:BYErZeuq+jw3ESfIwh5FR8ufHenEpH0zn6cLZ3j1:9...</td>\n",
        "      <td> pe</td>\n",
        "    </tr>\n",
        "    <tr>\n",
        "      <th>7</th>\n",
        "      <td> binary</td>\n",
        "      <td> 5.934043</td>\n",
        "      <td> 29184</td>\n",
        "      <td> PE32 executable (GUI) Intel 80386, for MS Windows</td>\n",
        "      <td> ../test_files/pe/bad/13dcc5b4570180118eb65529b...</td>\n",
        "      <td> 2014-04-01T18:59:54.512000Z</td>\n",
        "      <td> 13dcc5b4570180118eb65529b77f6d89</td>\n",
        "      <td> application/x-dosexec</td>\n",
        "      <td> a4eda90984f26e9fdbe2a7e46989b5c6fa20ba8a</td>\n",
        "      <td> 07e830bb2fd15863923d3765dfc16f119de4742aada2e4...</td>\n",
        "      <td> 384:ckRyL5UF+gVuh9lAOefV+aPd34wwIaSV79Jsl+RDnO...</td>\n",
        "      <td> pe</td>\n",
        "    </tr>\n",
        "    <tr>\n",
        "      <th>8</th>\n",
        "      <td> binary</td>\n",
        "      <td> 6.862947</td>\n",
        "      <td> 72704</td>\n",
        "      <td> PE32 executable (GUI) Intel 80386, for MS Windows</td>\n",
        "      <td> ../test_files/pe/bad/1cac80a2147cd8f3860547e43...</td>\n",
        "      <td> 2014-04-01T18:59:54.624000Z</td>\n",
        "      <td> 1cac80a2147cd8f3860547e43edcaa00</td>\n",
        "      <td> application/x-dosexec</td>\n",
        "      <td> a6074b457d6d034aa42c9578ccb25e6cd0ce55fd</td>\n",
        "      <td> 28f3dd5018da2401746b799c7edf5cb9d6ea6806086218...</td>\n",
        "      <td> 1536:Fm6yECw0qjW9SRnkgFfln/8F8J4kMtNYJHnUlc:FT...</td>\n",
        "      <td> pe</td>\n",
        "    </tr>\n",
        "    <tr>\n",
        "      <th>9</th>\n",
        "      <td> binary</td>\n",
        "      <td> 6.126764</td>\n",
        "      <td> 53248</td>\n",
        "      <td> PE32 executable (console) Intel 80386, for MS ...</td>\n",
        "      <td> ../test_files/pe/bad/1cea13cf888cd8ce4f869029f...</td>\n",
        "      <td> 2014-04-01T18:59:54.797000Z</td>\n",
        "      <td> 1cea13cf888cd8ce4f869029f1dbb601</td>\n",
        "      <td> application/x-dosexec</td>\n",
        "      <td> 24eaad952e7b082c43c0c1d5491a11b15b3c9ddd</td>\n",
        "      <td> 7376ffef9241bacba97d5dfdcb342728b00e2b59baecd2...</td>\n",
        "      <td> 768:hUuMWpab5i+rQylxt2zeqAHVXi7/UoucttjyjvKkwp...</td>\n",
        "      <td> pe</td>\n",
        "    </tr>\n",
        "  </tbody>\n",
        "</table>\n",
        "<p>10 rows \u00d7 12 columns</p>\n",
        "</div>"
       ],
       "metadata": {},
       "output_type": "pyout",
       "prompt_number": 89,
       "text": [
        "  encoding   entropy  file_size  \\\n",
        "0   binary  2.440069      20480   \n",
        "1   binary  7.894680      85504   \n",
        "2   binary  5.125292      64512   \n",
        "3   binary  6.303055      81920   \n",
        "4   binary  7.593283      97280   \n",
        "5   binary  5.819876      66560   \n",
        "6   binary  5.464102      22510   \n",
        "7   binary  5.934043      29184   \n",
        "8   binary  6.862947      72704   \n",
        "9   binary  6.126764      53248   \n",
        "\n",
        "                                           file_type  \\\n",
        "0  PE32 executable (GUI) Intel 80386, for MS Windows   \n",
        "1  PE32 executable (GUI) Intel 80386, for MS Windows   \n",
        "2  PE32 executable (GUI) Intel 80386, for MS Windows   \n",
        "3  PE32 executable (GUI) Intel 80386, for MS Windows   \n",
        "4  PE32 executable (GUI) Intel 80386, for MS Windows   \n",
        "5  PE32 executable (GUI) Intel 80386, for MS Windows   \n",
        "6  PE32 executable (GUI) Intel 80386, for MS Windows   \n",
        "7  PE32 executable (GUI) Intel 80386, for MS Windows   \n",
        "8  PE32 executable (GUI) Intel 80386, for MS Windows   \n",
        "9  PE32 executable (console) Intel 80386, for MS ...   \n",
        "\n",
        "                                            filename  \\\n",
        "0  ../test_files/pe/bad/0cb9aa6fb9c4aa3afad7a303e...   \n",
        "1  ../test_files/pe/bad/033d91aae8ad29ed9fbb85817...   \n",
        "2  ../test_files/pe/bad/0e882ec9b485979ea84c7843d...   \n",
        "3  ../test_files/pe/bad/0e8b030fb6ae48ffd29e520fc...   \n",
        "4  ../test_files/pe/bad/0eb9e990c521b30428a379700...   \n",
        "5  ../test_files/pe/bad/127f2bade752445b3dbf2cf2e...   \n",
        "6  ../test_files/pe/bad/139385a91b9bca0833bdc1fa7...   \n",
        "7  ../test_files/pe/bad/13dcc5b4570180118eb65529b...   \n",
        "8  ../test_files/pe/bad/1cac80a2147cd8f3860547e43...   \n",
        "9  ../test_files/pe/bad/1cea13cf888cd8ce4f869029f...   \n",
        "\n",
        "                   import_time                               md5  \\\n",
        "0  2014-04-01T18:59:53.317000Z  0cb9aa6fb9c4aa3afad7a303e21ac0f3   \n",
        "1  2014-04-01T18:59:53.579000Z  033d91aae8ad29ed9fbb858179271232   \n",
        "2  2014-04-01T18:59:53.705000Z  0e882ec9b485979ea84c7843d41ba36f   \n",
        "3  2014-04-01T18:59:53.831000Z  0e8b030fb6ae48ffd29e520fc16b5641   \n",
        "4  2014-04-01T18:59:54.094000Z  0eb9e990c521b30428a379700ec5ab3e   \n",
        "5  2014-04-01T18:59:54.302000Z  127f2bade752445b3dbf2cf2ea75c201   \n",
        "6  2014-04-01T18:59:54.426000Z  139385a91b9bca0833bdc1fa77e42b91   \n",
        "7  2014-04-01T18:59:54.512000Z  13dcc5b4570180118eb65529b77f6d89   \n",
        "8  2014-04-01T18:59:54.624000Z  1cac80a2147cd8f3860547e43edcaa00   \n",
        "9  2014-04-01T18:59:54.797000Z  1cea13cf888cd8ce4f869029f1dbb601   \n",
        "\n",
        "               mime_type                                      sha1  \\\n",
        "0  application/x-dosexec  96e85768a12b2f319f2a4f0c048460e1b73aa573   \n",
        "1  application/x-dosexec  83ab10907b254752f312c89125957f10d35cb9d4   \n",
        "2  application/x-dosexec  12fb0a1b7d9c2b2a41f4da9ce5bbfb140fb16939   \n",
        "3  application/x-dosexec  82d57b8302b7497b2f6943f18e2d2687b9b0f5eb   \n",
        "4  application/x-dosexec  b778fc55f0538de865d4853099a3faa0b29f311d   \n",
        "5  application/x-dosexec  8f85c1d422cf671752f670132755e582b0f0df91   \n",
        "6  application/x-dosexec  8a3cdd2ba8fbc340c3e7d8846557ec0b9c67ea1c   \n",
        "7  application/x-dosexec  a4eda90984f26e9fdbe2a7e46989b5c6fa20ba8a   \n",
        "8  application/x-dosexec  a6074b457d6d034aa42c9578ccb25e6cd0ce55fd   \n",
        "9  application/x-dosexec  24eaad952e7b082c43c0c1d5491a11b15b3c9ddd   \n",
        "\n",
        "                                              sha256  \\\n",
        "0  4ecf79302ba0439f62e15d0526a297975e6bb32ea25c8c...   \n",
        "1  eb107c004e6e1bbd3b32ad7961661bbe28a577b0cb5dac...   \n",
        "2  616cf9e729c883d979212eb55178b7aac80dd9f58cb449...   \n",
        "3  feaf72bdad035e198d297bfb0b8d891645f1dacd78f0db...   \n",
        "4  dc5e8176a5f012ebdb4835f9b570a12c045d059f6f5bdc...   \n",
        "5  39406e20428d6b4cf4d3bfc808f25054c3b3a020b3799a...   \n",
        "6  b059cc3092e47f6ca63dff2bf3b3d5e08bf49d1bc50255...   \n",
        "7  07e830bb2fd15863923d3765dfc16f119de4742aada2e4...   \n",
        "8  28f3dd5018da2401746b799c7edf5cb9d6ea6806086218...   \n",
        "9  7376ffef9241bacba97d5dfdcb342728b00e2b59baecd2...   \n",
        "\n",
        "                                              ssdeep type_tag  \n",
        "0  192:a8jJIFYrq9ATskBTp2jLDL3P1oynldvSo71nF:oFpN...       pe  \n",
        "1  1536:h6+LbfPbI5dzmJu9Tgj5aOItvEqRCHW9pjVrs2ryr...       pe  \n",
        "2  768:5HyLMqtEM1Htz8kDmP9l+nZZYp41oj7EZmJxl/N9j6...       pe  \n",
        "3  1536:1uNqjqzs1hQHhInEeJMzcmGqyF7Jwe9pvUo+5TDU4...       pe  \n",
        "4  1536:KcE4iMgXjTJpdGaaJG6Mhawv7r9ZaobsLBq+h5ttB...       pe  \n",
        "5  1536:wc9nwQYsQtdFwFQ8bjaQobU52FWAltktg6y+v:MQY...       pe  \n",
        "6  384:BYErZeuq+jw3ESfIwh5FR8ufHenEpH0zn6cLZ3j1:9...       pe  \n",
        "7  384:ckRyL5UF+gVuh9lAOefV+aPd34wwIaSV79Jsl+RDnO...       pe  \n",
        "8  1536:Fm6yECw0qjW9SRnkgFfln/8F8J4kMtNYJHnUlc:FT...       pe  \n",
        "9  768:hUuMWpab5i+rQylxt2zeqAHVXi7/UoucttjyjvKkwp...       pe  \n",
        "\n",
        "[10 rows x 12 columns]"
       ]
      }
     ],
     "prompt_number": 89
    },
    {
     "cell_type": "code",
     "collapsed": false,
     "input": [
      "# Plot entropy box plots based on mime-type\n",
      "df_meta.boxplot('entropy','mime_type')\n",
      "plt.xlabel('Mime Type')\n",
      "plt.ylabel('Entropy')"
     ],
     "language": "python",
     "metadata": {},
     "outputs": [
      {
       "metadata": {},
       "output_type": "pyout",
       "prompt_number": 90,
       "text": [
        "<matplotlib.text.Text at 0x1131d9250>"
       ]
      },
      {
       "metadata": {},
       "output_type": "display_data",
       "png": "[encoded data removed]",
       "text": [
        "<matplotlib.figure.Figure at 0x112729790>"
       ]
      }
     ],
     "prompt_number": 90
    },
    {
     "cell_type": "code",
     "collapsed": false,
     "input": [
      "# Hee, Hee now merge the two dataframes together to plot customer submissions based on mime-type\n",
      "df_combined = df_meta.merge(df, on='md5')\n",
      "df_combined.head()"
     ],
     "language": "python",
     "metadata": {},
     "outputs": [
      {
       "html": [
        "<div style=\"max-height:1000px;max-width:1500px;overflow:auto;\">\n",
        "<table border=\"1\" class=\"dataframe\">\n",
        "  <thead>\n",
        "    <tr style=\"text-align: right;\">\n",
        "      <th></th>\n",
        "      <th>encoding</th>\n",
        "      <th>entropy</th>\n",
        "      <th>file_size</th>\n",
        "      <th>file_type</th>\n",
        "      <th>filename_x</th>\n",
        "      <th>import_time_x</th>\n",
        "      <th>md5</th>\n",
        "      <th>mime_type</th>\n",
        "      <th>sha1</th>\n",
        "      <th>sha256</th>\n",
        "      <th>ssdeep</th>\n",
        "      <th>type_tag</th>\n",
        "      <th>customer</th>\n",
        "      <th>filename_y</th>\n",
        "      <th>import_time_y</th>\n",
        "      <th>length</th>\n",
        "    </tr>\n",
        "  </thead>\n",
        "  <tbody>\n",
        "    <tr>\n",
        "      <th>0</th>\n",
        "      <td> binary</td>\n",
        "      <td> 2.440069</td>\n",
        "      <td> 20480</td>\n",
        "      <td> PE32 executable (GUI) Intel 80386, for MS Windows</td>\n",
        "      <td> ../test_files/pe/bad/0cb9aa6fb9c4aa3afad7a303e...</td>\n",
        "      <td> 2014-04-01T18:59:53.317000Z</td>\n",
        "      <td> 0cb9aa6fb9c4aa3afad7a303e21ac0f3</td>\n",
        "      <td> application/x-dosexec</td>\n",
        "      <td> 96e85768a12b2f319f2a4f0c048460e1b73aa573</td>\n",
        "      <td> 4ecf79302ba0439f62e15d0526a297975e6bb32ea25c8c...</td>\n",
        "      <td> 192:a8jJIFYrq9ATskBTp2jLDL3P1oynldvSo71nF:oFpN...</td>\n",
        "      <td> pe</td>\n",
        "      <td> Dorseys Mom</td>\n",
        "      <td> ../test_files/pe/bad/0cb9aa6fb9c4aa3afad7a303e...</td>\n",
        "      <td> 2014-04-01T18:59:53.317000Z</td>\n",
        "      <td> 20480</td>\n",
        "    </tr>\n",
        "    <tr>\n",
        "      <th>1</th>\n",
        "      <td> binary</td>\n",
        "      <td> 7.894680</td>\n",
        "      <td> 85504</td>\n",
        "      <td> PE32 executable (GUI) Intel 80386, for MS Windows</td>\n",
        "      <td> ../test_files/pe/bad/033d91aae8ad29ed9fbb85817...</td>\n",
        "      <td> 2014-04-01T18:59:53.579000Z</td>\n",
        "      <td> 033d91aae8ad29ed9fbb858179271232</td>\n",
        "      <td> application/x-dosexec</td>\n",
        "      <td> 83ab10907b254752f312c89125957f10d35cb9d4</td>\n",
        "      <td> eb107c004e6e1bbd3b32ad7961661bbe28a577b0cb5dac...</td>\n",
        "      <td> 1536:h6+LbfPbI5dzmJu9Tgj5aOItvEqRCHW9pjVrs2ryr...</td>\n",
        "      <td> pe</td>\n",
        "      <td>   Mega Corp</td>\n",
        "      <td> ../test_files/pe/bad/033d91aae8ad29ed9fbb85817...</td>\n",
        "      <td> 2014-04-01T18:59:53.579000Z</td>\n",
        "      <td> 85504</td>\n",
        "    </tr>\n",
        "    <tr>\n",
        "      <th>2</th>\n",
        "      <td> binary</td>\n",
        "      <td> 5.125292</td>\n",
        "      <td> 64512</td>\n",
        "      <td> PE32 executable (GUI) Intel 80386, for MS Windows</td>\n",
        "      <td> ../test_files/pe/bad/0e882ec9b485979ea84c7843d...</td>\n",
        "      <td> 2014-04-01T18:59:53.705000Z</td>\n",
        "      <td> 0e882ec9b485979ea84c7843d41ba36f</td>\n",
        "      <td> application/x-dosexec</td>\n",
        "      <td> 12fb0a1b7d9c2b2a41f4da9ce5bbfb140fb16939</td>\n",
        "      <td> 616cf9e729c883d979212eb55178b7aac80dd9f58cb449...</td>\n",
        "      <td> 768:5HyLMqtEM1Htz8kDmP9l+nZZYp41oj7EZmJxl/N9j6...</td>\n",
        "      <td> pe</td>\n",
        "      <td>   Mega Corp</td>\n",
        "      <td> ../test_files/pe/bad/0e882ec9b485979ea84c7843d...</td>\n",
        "      <td> 2014-04-01T18:59:53.705000Z</td>\n",
        "      <td> 64512</td>\n",
        "    </tr>\n",
        "    <tr>\n",
        "      <th>3</th>\n",
        "      <td> binary</td>\n",
        "      <td> 6.303055</td>\n",
        "      <td> 81920</td>\n",
        "      <td> PE32 executable (GUI) Intel 80386, for MS Windows</td>\n",
        "      <td> ../test_files/pe/bad/0e8b030fb6ae48ffd29e520fc...</td>\n",
        "      <td> 2014-04-01T18:59:53.831000Z</td>\n",
        "      <td> 0e8b030fb6ae48ffd29e520fc16b5641</td>\n",
        "      <td> application/x-dosexec</td>\n",
        "      <td> 82d57b8302b7497b2f6943f18e2d2687b9b0f5eb</td>\n",
        "      <td> feaf72bdad035e198d297bfb0b8d891645f1dacd78f0db...</td>\n",
        "      <td> 1536:1uNqjqzs1hQHhInEeJMzcmGqyF7Jwe9pvUo+5TDU4...</td>\n",
        "      <td> pe</td>\n",
        "      <td>    BearTron</td>\n",
        "      <td> ../test_files/pe/bad/0e8b030fb6ae48ffd29e520fc...</td>\n",
        "      <td> 2014-04-01T18:59:53.831000Z</td>\n",
        "      <td> 81920</td>\n",
        "    </tr>\n",
        "    <tr>\n",
        "      <th>4</th>\n",
        "      <td> binary</td>\n",
        "      <td> 7.593283</td>\n",
        "      <td> 97280</td>\n",
        "      <td> PE32 executable (GUI) Intel 80386, for MS Windows</td>\n",
        "      <td> ../test_files/pe/bad/0eb9e990c521b30428a379700...</td>\n",
        "      <td> 2014-04-01T18:59:54.094000Z</td>\n",
        "      <td> 0eb9e990c521b30428a379700ec5ab3e</td>\n",
        "      <td> application/x-dosexec</td>\n",
        "      <td> b778fc55f0538de865d4853099a3faa0b29f311d</td>\n",
        "      <td> dc5e8176a5f012ebdb4835f9b570a12c045d059f6f5bdc...</td>\n",
        "      <td> 1536:KcE4iMgXjTJpdGaaJG6Mhawv7r9ZaobsLBq+h5ttB...</td>\n",
        "      <td> pe</td>\n",
        "      <td>   Mega Corp</td>\n",
        "      <td> ../test_files/pe/bad/0eb9e990c521b30428a379700...</td>\n",
        "      <td> 2014-04-01T18:59:54.094000Z</td>\n",
        "      <td> 97280</td>\n",
        "    </tr>\n",
        "  </tbody>\n",
        "</table>\n",
        "<p>5 rows \u00d7 16 columns</p>\n",
        "</div>"
       ],
       "metadata": {},
       "output_type": "pyout",
       "prompt_number": 91,
       "text": [
        "  encoding   entropy  file_size  \\\n",
        "0   binary  2.440069      20480   \n",
        "1   binary  7.894680      85504   \n",
        "2   binary  5.125292      64512   \n",
        "3   binary  6.303055      81920   \n",
        "4   binary  7.593283      97280   \n",
        "\n",
        "                                           file_type  \\\n",
        "0  PE32 executable (GUI) Intel 80386, for MS Windows   \n",
        "1  PE32 executable (GUI) Intel 80386, for MS Windows   \n",
        "2  PE32 executable (GUI) Intel 80386, for MS Windows   \n",
        "3  PE32 executable (GUI) Intel 80386, for MS Windows   \n",
        "4  PE32 executable (GUI) Intel 80386, for MS Windows   \n",
        "\n",
        "                                          filename_x  \\\n",
        "0  ../test_files/pe/bad/0cb9aa6fb9c4aa3afad7a303e...   \n",
        "1  ../test_files/pe/bad/033d91aae8ad29ed9fbb85817...   \n",
        "2  ../test_files/pe/bad/0e882ec9b485979ea84c7843d...   \n",
        "3  ../test_files/pe/bad/0e8b030fb6ae48ffd29e520fc...   \n",
        "4  ../test_files/pe/bad/0eb9e990c521b30428a379700...   \n",
        "\n",
        "                 import_time_x                               md5  \\\n",
        "0  2014-04-01T18:59:53.317000Z  0cb9aa6fb9c4aa3afad7a303e21ac0f3   \n",
        "1  2014-04-01T18:59:53.579000Z  033d91aae8ad29ed9fbb858179271232   \n",
        "2  2014-04-01T18:59:53.705000Z  0e882ec9b485979ea84c7843d41ba36f   \n",
        "3  2014-04-01T18:59:53.831000Z  0e8b030fb6ae48ffd29e520fc16b5641   \n",
        "4  2014-04-01T18:59:54.094000Z  0eb9e990c521b30428a379700ec5ab3e   \n",
        "\n",
        "               mime_type                                      sha1  \\\n",
        "0  application/x-dosexec  96e85768a12b2f319f2a4f0c048460e1b73aa573   \n",
        "1  application/x-dosexec  83ab10907b254752f312c89125957f10d35cb9d4   \n",
        "2  application/x-dosexec  12fb0a1b7d9c2b2a41f4da9ce5bbfb140fb16939   \n",
        "3  application/x-dosexec  82d57b8302b7497b2f6943f18e2d2687b9b0f5eb   \n",
        "4  application/x-dosexec  b778fc55f0538de865d4853099a3faa0b29f311d   \n",
        "\n",
        "                                              sha256  \\\n",
        "0  4ecf79302ba0439f62e15d0526a297975e6bb32ea25c8c...   \n",
        "1  eb107c004e6e1bbd3b32ad7961661bbe28a577b0cb5dac...   \n",
        "2  616cf9e729c883d979212eb55178b7aac80dd9f58cb449...   \n",
        "3  feaf72bdad035e198d297bfb0b8d891645f1dacd78f0db...   \n",
        "4  dc5e8176a5f012ebdb4835f9b570a12c045d059f6f5bdc...   \n",
        "\n",
        "                                              ssdeep type_tag     customer  \\\n",
        "0  192:a8jJIFYrq9ATskBTp2jLDL3P1oynldvSo71nF:oFpN...       pe  Dorseys Mom   \n",
        "1  1536:h6+LbfPbI5dzmJu9Tgj5aOItvEqRCHW9pjVrs2ryr...       pe    Mega Corp   \n",
        "2  768:5HyLMqtEM1Htz8kDmP9l+nZZYp41oj7EZmJxl/N9j6...       pe    Mega Corp   \n",
        "3  1536:1uNqjqzs1hQHhInEeJMzcmGqyF7Jwe9pvUo+5TDU4...       pe     BearTron   \n",
        "4  1536:KcE4iMgXjTJpdGaaJG6Mhawv7r9ZaobsLBq+h5ttB...       pe    Mega Corp   \n",
        "\n",
        "                                          filename_y  \\\n",
        "0  ../test_files/pe/bad/0cb9aa6fb9c4aa3afad7a303e...   \n",
        "1  ../test_files/pe/bad/033d91aae8ad29ed9fbb85817...   \n",
        "2  ../test_files/pe/bad/0e882ec9b485979ea84c7843d...   \n",
        "3  ../test_files/pe/bad/0e8b030fb6ae48ffd29e520fc...   \n",
        "4  ../test_files/pe/bad/0eb9e990c521b30428a379700...   \n",
        "\n",
        "                 import_time_y  length  \n",
        "0  2014-04-01T18:59:53.317000Z   20480  \n",
        "1  2014-04-01T18:59:53.579000Z   85504  \n",
        "2  2014-04-01T18:59:53.705000Z   64512  \n",
        "3  2014-04-01T18:59:53.831000Z   81920  \n",
        "4  2014-04-01T18:59:54.094000Z   97280  \n",
        "\n",
        "[5 rows x 16 columns]"
       ]
      }
     ],
     "prompt_number": 91
    },
    {
     "cell_type": "code",
     "collapsed": false,
     "input": [
      "group_df = df_combined[['customer','mime_type']]\n",
      "group_df['submissions'] = 1\n",
      "group_df = group_df.groupby(['customer','mime_type']).sum().unstack()\n",
      "group_df.head()"
     ],
     "language": "python",
     "metadata": {},
     "outputs": [
      {
       "html": [
        "<div style=\"max-height:1000px;max-width:1500px;overflow:auto;\">\n",
        "<table border=\"1\" class=\"dataframe\">\n",
        "  <thead>\n",
        "    <tr>\n",
        "      <th></th>\n",
        "      <th colspan=\"5\" halign=\"left\">submissions</th>\n",
        "    </tr>\n",
        "    <tr>\n",
        "      <th>mime_type</th>\n",
        "      <th>application/pdf</th>\n",
        "      <th>application/vnd.tcpdump.pcap</th>\n",
        "      <th>application/x-dosexec</th>\n",
        "      <th>application/zip</th>\n",
        "      <th>binary</th>\n",
        "    </tr>\n",
        "    <tr>\n",
        "      <th>customer</th>\n",
        "      <th></th>\n",
        "      <th></th>\n",
        "      <th></th>\n",
        "      <th></th>\n",
        "      <th></th>\n",
        "    </tr>\n",
        "  </thead>\n",
        "  <tbody>\n",
        "    <tr>\n",
        "      <th>BearTron</th>\n",
        "      <td> 14</td>\n",
        "      <td>NaN</td>\n",
        "      <td> 21</td>\n",
        "      <td>NaN</td>\n",
        "      <td>NaN</td>\n",
        "    </tr>\n",
        "    <tr>\n",
        "      <th>Dorseys Mom</th>\n",
        "      <td> 12</td>\n",
        "      <td>  1</td>\n",
        "      <td> 31</td>\n",
        "      <td>  1</td>\n",
        "      <td>NaN</td>\n",
        "    </tr>\n",
        "    <tr>\n",
        "      <th>Huge Inc</th>\n",
        "      <td> 13</td>\n",
        "      <td>  1</td>\n",
        "      <td> 22</td>\n",
        "      <td>NaN</td>\n",
        "      <td>  1</td>\n",
        "    </tr>\n",
        "    <tr>\n",
        "      <th>Mega Corp</th>\n",
        "      <td> 11</td>\n",
        "      <td>NaN</td>\n",
        "      <td> 26</td>\n",
        "      <td>  1</td>\n",
        "      <td>NaN</td>\n",
        "    </tr>\n",
        "  </tbody>\n",
        "</table>\n",
        "<p>4 rows \u00d7 5 columns</p>\n",
        "</div>"
       ],
       "metadata": {},
       "output_type": "pyout",
       "prompt_number": 92,
       "text": [
        "                 submissions                                \\\n",
        "mime_type    application/pdf  application/vnd.tcpdump.pcap   \n",
        "customer                                                     \n",
        "BearTron                  14                           NaN   \n",
        "Dorseys Mom               12                             1   \n",
        "Huge Inc                  13                             1   \n",
        "Mega Corp                 11                           NaN   \n",
        "\n",
        "                                                             \n",
        "mime_type    application/x-dosexec  application/zip  binary  \n",
        "customer                                                     \n",
        "BearTron                        21              NaN     NaN  \n",
        "Dorseys Mom                     31                1     NaN  \n",
        "Huge Inc                        22              NaN       1  \n",
        "Mega Corp                       26                1     NaN  \n",
        "\n",
        "[4 rows x 5 columns]"
       ]
      }
     ],
     "prompt_number": 92
    },
    {
     "cell_type": "code",
     "collapsed": false,
     "input": [
      "# Plot entropy box plots based on mime-type\n",
      "group_df['submissions'].plot(kind='bar', stacked=True)\n",
      "plt.xlabel('Customer')\n",
      "plt.ylabel('Submissions')"
     ],
     "language": "python",
     "metadata": {},
     "outputs": [
      {
       "metadata": {},
       "output_type": "pyout",
       "prompt_number": 93,
       "text": [
        "<matplotlib.text.Text at 0x11323ced0>"
       ]
      },
      {
       "metadata": {},
       "output_type": "display_data",
       "png": "[encoded data removed]",
       "text": [
        "<matplotlib.figure.Figure at 0x113233cd0>"
       ]
      }
     ],
     "prompt_number": 93
    }
   ],
   "metadata": {}
  }
 ]
}