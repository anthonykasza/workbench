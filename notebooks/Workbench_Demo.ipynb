{
 "metadata": {
  "name": ""
 },
 "nbformat": 3,
 "nbformat_minor": 0,
 "worksheets": [
  {
   "cells": [
    {
     "cell_type": "markdown",
     "metadata": {},
     "source": [
      "<div style=\"float: right; margin: 0px 0px 0px 30px\"><img src=\"files/images/workbench.jpg\" width=\"400px\"></div>\n",
      "# Workbench: \n",
      "A light-weight and flexible approach to task management, execution and pipelining.\n",
      "## Adoption of Workbench:\n",
      "Open source tools have 3 primary components that are critical for adoption:\n",
      "\n",
      "  - ### How easy is it to get the system up and running?\n",
      "    - git clone https://github.com/SuperCowPowers/workbench.git\n",
      "    - Go through the 'Workbench Dependencies' section in the readme and about an hour later you should be done... \n",
      "    - So not great but not horrible either\n",
      " \n",
      "  - ### How easy is it to use?\n",
      "    - ZeroRPC has Python, Node.js, or CLI interfaces.See [ZeroRPC](http://zerorpc.dotcloud.com/).\n",
      "    <pre>\n",
      "    import zerorpc\n",
      "    c = zerorpc.Client()\n",
      "    c.connect(\"tcp://127.0.0.1:4242\")\n",
      "    with open('evil.pcap','rb') as f:\n",
      "        md5 = c.store_sample('evil.pcap', f.read())\n",
      "    print c.work_request('pcap_meta', md5)\n",
      "    </pre>\n",
      "    - Output from above 'client':\n",
      "    <pre>\n",
      "    {'pcap_meta': {'encoding': 'binary',\n",
      "     'file_size': 54339570,\n",
      "     'file_type': 'tcpdump (little-endian) - version 2.4 (Ethernet, 65535)',\n",
      "     'filename': 'evil.pcap',\n",
      "     'import_time': '2014-02-08T22:15:50.282000Z',\n",
      "     'md5': 'bba97e16d7f92240196dc0caef9c457a',\n",
      "     'mime_type': 'application/vnd.tcpdump.pcap'}}\n",
      "    </pre>\n",
      "  - ### How easy is it for me to put my own code into it?\n",
      "    - Below is the listing of the code for the 'strings' worker: Each worker needs to provide:\n",
      "        - plugin_info (name, class of the worker, dependencies, and description)\n",
      "        - An execute method that takes a python dictionary as input and returns a python dictionary as output.\n",
      "        - That's it...\n",
      "<pre>\n",
      "    ''' Strings worker '''\n",
      "    import re\n",
      "    def plugin_info():\n",
      "            return {'name':'strings', 'class':'Strings', 'dependencies': ['sample'],\n",
      "                    'description': 'This worker extracts all the strings from any type of file. Output keys: [string_list]'}\n",
      "    class Strings():\n",
      "            def __init__(self):\n",
      "                self.find_strings = re.compile(r'[^\\x00-\\x1F\\x7F-\\xFF]{4,}', re.MULTILINE)\n",
      "            def execute(self, input_data):\n",
      "                raw_bytes = input_data['sample']['raw_bytes']\n",
      "                strings = self.find_strings.findall(raw_bytes)\n",
      "                return {'string_list': strings}\n",
      "</pre>\n",
      "  \n",
      "# On with the demo, lets start up the workbench server...\n",
      "Run the workbench server (from somewhere, for the demo we're just going to start a local one)\n",
      "<pre>\n",
      "> cd workbench/server\n",
      "> python workbench.py\n",
      "</pre>\n",
      "\n",
      "#### Okay so when the server starts up, it autoloads any worker plugins in the server/worker directory and dynamically monitors the directory, if a new python file shows up, it's validated as a properly formed plugin and if it passes is added to the list of workers."
     ]
    },
    {
     "cell_type": "code",
     "collapsed": false,
     "input": [
      "# Lets start to interact with workbench, please note there is NO specific client to workbench,\n",
      "# Just use the ZeroRPC Python, Node.js, or CLI interfaces.\n",
      "import zerorpc\n",
      "c = zerorpc.Client()\n",
      "c.connect(\"tcp://127.0.0.1:4242\")"
     ],
     "language": "python",
     "metadata": {},
     "outputs": [
      {
       "metadata": {},
       "output_type": "pyout",
       "prompt_number": 80,
       "text": [
        "[None]"
       ]
      }
     ],
     "prompt_number": 80
    },
    {
     "cell_type": "code",
     "collapsed": false,
     "input": [
      "# Want to find out about what's on the other side?\n",
      "print c._zerorpc_name()\n",
      "print c._zerorpc_list()"
     ],
     "language": "python",
     "metadata": {},
     "outputs": [
      {
       "output_type": "stream",
       "stream": "stdout",
       "text": [
        "workbench\n",
        "['add_node', 'index_worker_output', 'stream_sample_set', 'add_rel', 'set_datastore_uri', 'work_request', 'has_sample', 'get_sample', 'store_sample', 'stream_sample', 'has_node', 'store_sample_set', 'index_sample', 'search', 'get_datastore_uri', 'worker_info', 'get_sample_set', 'batch_work_request']\n"
       ]
      }
     ],
     "prompt_number": 81
    },
    {
     "cell_type": "code",
     "collapsed": false,
     "input": [
      "# Okay so we see that we're connected to workbench and the calls we can make\n",
      "# The 'worker_info' call look interesting...\n",
      "c.worker_info()"
     ],
     "language": "python",
     "metadata": {},
     "outputs": [
      {
       "metadata": {},
       "output_type": "pyout",
       "prompt_number": 82,
       "text": [
        "{'json_meta': 'This worker computes a meta-data for log files. Output keys: [md5, type_tag, file_type, mime_type, encoding, file_size, filename, import_time]',\n",
        " 'log_meta': 'This worker computes a meta-data for log files. Output keys: [md5, type_tag, file_type, mime_type, encoding, file_size, filename, import_time]',\n",
        " 'meta': 'This worker computes meta-data. Output keys: [md5, type_tag, file_type, mime_type, encoding, file_size, filename, import_time]',\n",
        " 'meta_deep': 'This worker computes deeper meta-data. Output keys: [md5, sha1, sha256, ssdeep, entropy, file_type, mime_type, encoding, file_size, filename, import_time]',\n",
        " 'pcap_bro': 'This worker runs Bro scripts on a pcap file. Output keys: [log_name:md5...]',\n",
        " 'pcap_graph': 'This worker generates a graph from a PCAP. Output keys: [...]',\n",
        " 'pcap_meta': 'This worker computes a bunch of meta-data about a pcap file. Output keys: [summary, sessions]',\n",
        " 'pcap_set_bro': 'This worker runs Bro scripts on a set of pcap files. Output keys: [log_name:md5...]',\n",
        " 'pe_classifier': 'This worker classifies PEFiles as Evil or Benign. Output keys: [classification]',\n",
        " 'pe_deep_sim': 'This worker computes fuzzy matches between samples with ssdeep. Output keys: [md5, sim_list]',\n",
        " 'pe_features': 'This worker pulls out a bunch of static features from a PEFile. Output keys: [dense_features, sparse_features]',\n",
        " 'pe_indicators': 'This worker uses the static features from the pefile module to look for weird stuff.  Output keys: [indicator_list]',\n",
        " 'pe_peid': 'This worker using the peid database to look for signatures in a PEFile. Output keys: [match_list]',\n",
        " 'strings': 'This worker extracts all the strings from any type of file. Output keys: [string_list]',\n",
        " 'swf_meta': 'This worker computes a bunch of meta-data about a pcap file. Output keys: [summary, sessions]',\n",
        " 'unzip': 'This worker unzips a zipped file. Output keys: [payload_md5s]',\n",
        " 'urls': 'This worker looks for url patterns in strings output. Output keys: [url_list]',\n",
        " 'view': 'This worker generates a view for any type of file. Output keys: [this view calls sub-views, see the concrete class (view_pdf for instance)]',\n",
        " 'view_customer': 'This worker generates a customer usage view. Output keys: [filename, md5, length, customer, upload_date]',\n",
        " 'view_log_meta': 'This worker generates a view for log meta. Output keys: [mime_type, encoding, import_time, file_size]',\n",
        " 'view_meta': 'This worker generates a view for meta about a sample. Output keys: [mime_type, encoding, import_time, ssdeep, entropy, file_size]',\n",
        " 'view_pcap': 'This worker generates a pcap view. Output keys: [bro_logs, extracted_files, ...]',\n",
        " 'view_pcap_details': 'This worker generates a detailed pcap view. Output keys: [...]',\n",
        " 'view_pcap_meta': 'This worker generates a pcap view for the sample. Output keys: [import_time, entropy, file_size, summary, sessions]',\n",
        " 'view_pdf': 'This worker generates a view for a PDF File. Output keys: [filename, filetype, mime_type, encoding, import_time, ssdeep, strings]',\n",
        " 'view_pefile': 'This worker generates a view for a PE File. Output keys: [filename, filetype, mime_type, encoding, import_time, ssdeep, indicators, peid_Matches, classification, disass]',\n",
        " 'view_zip': 'This worker generates a view for a zip File. Output keys: [filename, filetype, mime_type, payload_md5s, payload_meta]',\n",
        " 'vt_query': 'This worker query Virus Total, an apikey needs to be provided. Output keys: [positives, total, scan_date]',\n",
        " 'yara_sigs': 'hi'}"
       ]
      }
     ],
     "prompt_number": 82
    },
    {
     "cell_type": "code",
     "collapsed": false,
     "input": [
      "# So we can see all the available workers lets load up a file and run some stuff\n",
      "# Okay when we load up a file, we get the md5 back\n",
      "filename = '../data/pe/bad/0cb9aa6fb9c4aa3afad7a303e21ac0f3'\n",
      "with open(filename,'rb') as f:\n",
      "    md5 = c.store_sample(filename, f.read(),'pe')\n",
      "print md5"
     ],
     "language": "python",
     "metadata": {},
     "outputs": [
      {
       "output_type": "stream",
       "stream": "stdout",
       "text": [
        "0cb9aa6fb9c4aa3afad7a303e21ac0f3\n"
       ]
      }
     ],
     "prompt_number": 83
    },
    {
     "cell_type": "code",
     "collapsed": false,
     "input": [
      "# Now lets get the meda data for this file\n",
      "c.work_request('meta', md5)"
     ],
     "language": "python",
     "metadata": {},
     "outputs": [
      {
       "metadata": {},
       "output_type": "pyout",
       "prompt_number": 84,
       "text": [
        "{'meta': {'encoding': 'binary',\n",
        "  'file_size': 20480,\n",
        "  'file_type': 'PE32 executable (GUI) Intel 80386, for MS Windows',\n",
        "  'filename': '../data/pe/bad/0cb9aa6fb9c4aa3afad7a303e21ac0f3',\n",
        "  'import_time': '2014-04-21T21:16:07.921000Z',\n",
        "  'md5': '0cb9aa6fb9c4aa3afad7a303e21ac0f3',\n",
        "  'mime_type': 'application/x-dosexec',\n",
        "  'type_tag': 'pe'}}"
       ]
      }
     ],
     "prompt_number": 84
    },
    {
     "cell_type": "code",
     "collapsed": false,
     "input": [
      "# Lets randomly try some workers\n",
      "c.work_request('pe_classifier', md5)"
     ],
     "language": "python",
     "metadata": {},
     "outputs": [
      {
       "metadata": {},
       "output_type": "pyout",
       "prompt_number": 85,
       "text": [
        "{'pe_classifier': {'classification': 'Evil!',\n",
        "  'md5': '0cb9aa6fb9c4aa3afad7a303e21ac0f3'}}"
       ]
      }
     ],
     "prompt_number": 85
    },
    {
     "cell_type": "code",
     "collapsed": false,
     "input": [
      "# Ah, ha.. I knew that file was evil!  :)\n",
      "\n",
      "# Okay, that worker needed the output of pe_features and pe_indicators\n",
      "# so what happened? The worker has a dependency list and workbench\n",
      "# recursively satisfies that dependency list.. this is powerful because\n",
      "# when we're interested in one particular analysis we just want to get\n",
      "# the darn thing without having to worry about a bunch of details\n",
      "\n",
      "# Well lets do this for a bunch of files!\n",
      "import os\n",
      "file_list = [os.path.join('../data/pe/bad', child) for child in os.listdir('../data/pe/bad')]\n",
      "working_set = []\n",
      "for filename in file_list:\n",
      "    with open(filename,'rb') as f:\n",
      "        md5 = c.store_sample(filename, f.read(), 'pe')\n",
      "        results = c.work_request('pe_classifier', md5)\n",
      "        working_set.append(md5)\n",
      "        print 'Results: %s' % (results)"
     ],
     "language": "python",
     "metadata": {},
     "outputs": [
      {
       "output_type": "stream",
       "stream": "stdout",
       "text": [
        "Results: {'pe_classifier': {'classification': 'Evil!', 'md5': '033d91aae8ad29ed9fbb858179271232'}}\n",
        "Results: {'pe_classifier': {'classification': 'Evil!', 'md5': '0cb9aa6fb9c4aa3afad7a303e21ac0f3'}}\n",
        "Results: {'pe_classifier': {'classification': 'Evil!', 'md5': '0e882ec9b485979ea84c7843d41ba36f'}}"
       ]
      },
      {
       "output_type": "stream",
       "stream": "stdout",
       "text": [
        "\n",
        "Results: {'pe_classifier': {'classification': 'Benign', 'md5': '0e8b030fb6ae48ffd29e520fc16b5641'}}"
       ]
      },
      {
       "output_type": "stream",
       "stream": "stdout",
       "text": [
        "\n",
        "Results: {'pe_classifier': {'classification': 'Benign', 'md5': '0eb9e990c521b30428a379700ec5ab3e'}}"
       ]
      },
      {
       "output_type": "stream",
       "stream": "stdout",
       "text": [
        "\n",
        "Results: {'pe_classifier': {'classification': 'Evil!', 'md5': '127f2bade752445b3dbf2cf2ea75c201'}}"
       ]
      },
      {
       "output_type": "stream",
       "stream": "stdout",
       "text": [
        "\n",
        "Results: {'pe_classifier': {'classification': 'Evil!', 'md5': '139385a91b9bca0833bdc1fa77e42b91'}}"
       ]
      },
      {
       "output_type": "stream",
       "stream": "stdout",
       "text": [
        "\n",
        "Results: {'pe_classifier': {'classification': 'Evil!', 'md5': '13dcc5b4570180118eb65529b77f6d89'}}"
       ]
      },
      {
       "output_type": "stream",
       "stream": "stdout",
       "text": [
        "\n",
        "Results: {'pe_classifier': {'classification': 'Evil!', 'md5': '1cac80a2147cd8f3860547e43edcaa00'}}"
       ]
      },
      {
       "output_type": "stream",
       "stream": "stdout",
       "text": [
        "\n",
        "Results: {'pe_classifier': {'classification': 'Evil!', 'md5': '1cea13cf888cd8ce4f869029f1dbb601'}}"
       ]
      },
      {
       "output_type": "stream",
       "stream": "stdout",
       "text": [
        "\n",
        "Results: {'pe_classifier': {'classification': 'Evil!', 'md5': '1d733a9e3e571ce5f5f633a0cfd3d5f0'}}"
       ]
      },
      {
       "output_type": "stream",
       "stream": "stdout",
       "text": [
        "\n",
        "Results: {'pe_classifier': {'classification': 'Evil!', 'md5': '2058c50de5976c67a09dfa5e0e1c7eb5'}}"
       ]
      },
      {
       "output_type": "stream",
       "stream": "stdout",
       "text": [
        "\n",
        "Results: {'pe_classifier': {'classification': 'Evil!', 'md5': '2d012cba541c22fb7250975d5ad0d065'}}"
       ]
      },
      {
       "output_type": "stream",
       "stream": "stdout",
       "text": [
        "\n",
        "Results: {'pe_classifier': {'classification': 'Evil!', 'md5': '2d015553c7388e4d78f05b24aba0819c'}}\n",
        "Results: {'pe_classifier': {'classification': 'Evil!', 'md5': '2d017ff228c39a0a727586b33f8168b0'}}"
       ]
      },
      {
       "output_type": "stream",
       "stream": "stdout",
       "text": [
        "\n",
        "Results: {'pe_classifier': {'classification': 'Evil!', 'md5': '2d09133abb48e1c7f3f5c8f8ced8fef4'}}"
       ]
      },
      {
       "output_type": "stream",
       "stream": "stdout",
       "text": [
        "\n",
        "Results: {'pe_classifier': {'classification': 'Evil!', 'md5': '2d094b6c69020091b68d1bcf5d11fa4b'}}"
       ]
      },
      {
       "output_type": "stream",
       "stream": "stdout",
       "text": [
        "\n",
        "Results: {'pe_classifier': {'classification': 'Evil!', 'md5': '2d095091983dd0bf6ab7c0bb6dd695f9'}}\n",
        "Results: {'pe_classifier': {'classification': 'Evil!', 'md5': '2d09546831b17d2cc0583362b6d312ae'}}"
       ]
      },
      {
       "output_type": "stream",
       "stream": "stdout",
       "text": [
        "\n",
        "Results: {'pe_classifier': {'classification': 'Evil!', 'md5': '2d099171876f7301c155bd775fff2b6a'}}"
       ]
      },
      {
       "output_type": "stream",
       "stream": "stdout",
       "text": [
        "\n",
        "Results: {'pe_classifier': {'classification': 'Benign', 'md5': '2d09a573b0e9d02a9fa47b16e9c01a48'}}"
       ]
      },
      {
       "output_type": "stream",
       "stream": "stdout",
       "text": [
        "\n",
        "Results: {'pe_classifier': {'classification': 'Evil!', 'md5': '2d09b5768e3617523d8afa110361919c'}}"
       ]
      },
      {
       "output_type": "stream",
       "stream": "stdout",
       "text": [
        "\n",
        "Results: {'pe_classifier': {'classification': 'Evil!', 'md5': '2d09b8d9852c3176259915e3509bcbd1'}}"
       ]
      },
      {
       "output_type": "stream",
       "stream": "stdout",
       "text": [
        "\n",
        "Results: {'pe_classifier': {'classification': 'Evil!', 'md5': '2d09ca902990545fec9ac190b0338b50'}}"
       ]
      },
      {
       "output_type": "stream",
       "stream": "stdout",
       "text": [
        "\n",
        "Results: {'pe_classifier': {'classification': 'Evil!', 'md5': '2d09cb38c268aa9297e5a7f27e677267'}}"
       ]
      },
      {
       "output_type": "stream",
       "stream": "stdout",
       "text": [
        "\n",
        "Results: {'pe_classifier': {'classification': 'Evil!', 'md5': '2d09cc92bbe29d96bb3a91b350d1725f'}}"
       ]
      },
      {
       "output_type": "stream",
       "stream": "stdout",
       "text": [
        "\n",
        "Results: {'pe_classifier': {'classification': 'Evil!', 'md5': '2d09e4aff42aebac87ae2fd737aba94f'}}"
       ]
      },
      {
       "output_type": "stream",
       "stream": "stdout",
       "text": [
        "\n",
        "Results: {'pe_classifier': {'classification': 'Evil!', 'md5': '32b24e73cfc3ac4c43f1926f8935e438'}}"
       ]
      },
      {
       "output_type": "stream",
       "stream": "stdout",
       "text": [
        "\n",
        "Results: {'pe_classifier': {'classification': 'Evil!', 'md5': '4ed28b6207560f127d267de639a4e1bf'}}"
       ]
      },
      {
       "output_type": "stream",
       "stream": "stdout",
       "text": [
        "\n",
        "Results: {'pe_classifier': {'classification': 'Evil!', 'md5': '505804ec7c7212a52ec85e075b91ed84'}}"
       ]
      },
      {
       "output_type": "stream",
       "stream": "stdout",
       "text": [
        "\n",
        "Results: {'pe_classifier': {'classification': 'Evil!', 'md5': '60a83c049e135cc199138c1f8861437c'}}"
       ]
      },
      {
       "output_type": "stream",
       "stream": "stdout",
       "text": [
        "\n",
        "Results: {'pe_classifier': {'classification': 'Evil!', 'md5': '69f9633fa6fd5dc1fd917cb435bba8ad'}}"
       ]
      },
      {
       "output_type": "stream",
       "stream": "stdout",
       "text": [
        "\n",
        "Results: {'pe_classifier': {'classification': 'Evil!', 'md5': '79f5e1af9fdb92476045989bda7515c7'}}"
       ]
      },
      {
       "output_type": "stream",
       "stream": "stdout",
       "text": [
        "\n",
        "Results: {'pe_classifier': {'classification': 'Evil!', 'md5': '7f313447b887b078215617fbed1a34a1'}}"
       ]
      },
      {
       "output_type": "stream",
       "stream": "stdout",
       "text": [
        "\n",
        "Results: {'pe_classifier': {'classification': 'Evil!', 'md5': '8006782bdf703e2f3fdf1d1650f45ffd'}}"
       ]
      },
      {
       "output_type": "stream",
       "stream": "stdout",
       "text": [
        "\n",
        "Results: {'pe_classifier': {'classification': 'Evil!', 'md5': '86714940f491bc38c2e842e80c7f778e'}}\n",
        "Results: {'pe_classifier': {'classification': 'Evil!', 'md5': '987bd46899b2a9493e6dec051edcb66c'}}"
       ]
      },
      {
       "output_type": "stream",
       "stream": "stdout",
       "text": [
        "\n",
        "Results: {'pe_classifier': {'classification': 'Evil!', 'md5': '9cd3d7b1b0f2aea5950cbf7d97776f2f'}}"
       ]
      },
      {
       "output_type": "stream",
       "stream": "stdout",
       "text": [
        "\n",
        "Results: {'pe_classifier': {'classification': 'Evil!', 'md5': '9ceccd9f32cb2ad0b140b6d15d8993b6'}}"
       ]
      },
      {
       "output_type": "stream",
       "stream": "stdout",
       "text": [
        "\n",
        "Results: {'pe_classifier': {'classification': 'Evil!', 'md5': '9e42ff1e6f75ae3e60b24e48367c8f26'}}"
       ]
      },
      {
       "output_type": "stream",
       "stream": "stdout",
       "text": [
        "\n",
        "Results: {'pe_classifier': {'classification': 'Evil!', 'md5': 'a7b0a9067d8292b252d741e6fae17cd9'}}\n",
        "Results: {'pe_classifier': {'classification': 'Benign', 'md5': 'afddc552b31a8f2438768c73674bf29e'}}"
       ]
      },
      {
       "output_type": "stream",
       "stream": "stdout",
       "text": [
        "\n",
        "Results: {'pe_classifier': {'classification': 'Evil!', 'md5': 'b681485cb9e0cad73ee85b9274c0d3c2'}}"
       ]
      },
      {
       "output_type": "stream",
       "stream": "stdout",
       "text": [
        "\n",
        "Results: {'pe_classifier': {'classification': 'Evil!', 'md5': 'bf1249a258cbcccec0f1b4ea1e9451a1'}}"
       ]
      },
      {
       "output_type": "stream",
       "stream": "stdout",
       "text": [
        "\n",
        "Results: {'pe_classifier': {'classification': 'Evil!', 'md5': 'c8c54ac7e827056174762c68db84534f'}}"
       ]
      },
      {
       "output_type": "stream",
       "stream": "stdout",
       "text": [
        "\n",
        "Results: {'pe_classifier': {'classification': 'Evil!', 'md5': 'cc113aa59c04b17e7cb832fc417f104d'}}"
       ]
      },
      {
       "output_type": "stream",
       "stream": "stdout",
       "text": [
        "\n",
        "Results: {'pe_classifier': {'classification': 'Benign', 'md5': 'd94da41e7e809f7366971b3b50f8ef68'}}"
       ]
      },
      {
       "output_type": "stream",
       "stream": "stdout",
       "text": [
        "\n",
        "Results: {'pe_classifier': {'classification': 'Evil!', 'md5': 'e9a6c83826deacfbc2281b6c7e401694'}}"
       ]
      },
      {
       "output_type": "stream",
       "stream": "stdout",
       "text": [
        "\n",
        "Results: {'pe_classifier': {'classification': 'Evil!', 'md5': 'ea5d95c96a23b21b9038f03b91955c18'}}\n",
        "Results: {'pe_classifier': {'classification': 'Evil!', 'md5': 'f6190648c2efb764ae1d73b0e9a4fd13'}}"
       ]
      },
      {
       "output_type": "stream",
       "stream": "stdout",
       "text": [
        "\n"
       ]
      }
     ],
     "prompt_number": 86
    },
    {
     "cell_type": "code",
     "collapsed": false,
     "input": [
      "# We just ran the classifer on 50 files and you'll note that we ONLY got back the\n",
      "# information we ask for. On a large amount of files (100k or greater) if you don't\n",
      "# have a granular system, something this easy WILL NOT BE POSSIBLE! (dramatic enough?)\n",
      "\n",
      "# So lets look at the features going into the classifier (btw the classifier is currently a TOY EXAMPLE)\n",
      "c.work_request('pe_features', md5)"
     ],
     "language": "python",
     "metadata": {},
     "outputs": [
      {
       "metadata": {},
       "output_type": "pyout",
       "prompt_number": 87,
       "text": [
        "{'pe_features': {'dense_features': {'check_sum': 0,\n",
        "   'compile_date': 1074901182,\n",
        "   'datadir_IMAGE_DIRECTORY_ENTRY_BASERELOC_size': 2348796035,\n",
        "   'datadir_IMAGE_DIRECTORY_ENTRY_EXPORT_size': 0,\n",
        "   'datadir_IMAGE_DIRECTORY_ENTRY_IAT_size': 0,\n",
        "   'datadir_IMAGE_DIRECTORY_ENTRY_IMPORT_size': 20,\n",
        "   'datadir_IMAGE_DIRECTORY_ENTRY_RESOURCE_size': 262,\n",
        "   'debug_size': 0,\n",
        "   'export_size': 0,\n",
        "   'generated_check_sum': 62500,\n",
        "   'iat_rva': 86510,\n",
        "   'major_version': 0,\n",
        "   'minor_version': 57,\n",
        "   'number_of_bound_import_symbols': 0,\n",
        "   'number_of_bound_imports': 0,\n",
        "   'number_of_export_symbols': 0,\n",
        "   'number_of_import_symbols': 0,\n",
        "   'number_of_imports': 0,\n",
        "   'number_of_rva_and_sizes': 10,\n",
        "   'number_of_sections': 3,\n",
        "   'pe_char': 33167,\n",
        "   'pe_dll': 0,\n",
        "   'pe_driver': 0,\n",
        "   'pe_exe': 1,\n",
        "   'pe_i386': 1,\n",
        "   'pe_majorlink': 76,\n",
        "   'pe_minorlink': 111,\n",
        "   'pe_warnings': 1,\n",
        "   'sec_entropy_': 7.876937179741062,\n",
        "   'sec_entropy_@': 5.388003199139927,\n",
        "   'sec_entropy_data': 0,\n",
        "   'sec_entropy_ps': 5.388003199139927,\n",
        "   'sec_entropy_rdata': 0,\n",
        "   'sec_entropy_reloc': 0,\n",
        "   'sec_entropy_rsrc': 0,\n",
        "   'sec_entropy_text': 0,\n",
        "   'sec_raw_execsize': 6984,\n",
        "   'sec_rawptr_': 512,\n",
        "   'sec_rawptr_@': 16,\n",
        "   'sec_rawptr_data': 0,\n",
        "   'sec_rawptr_ps': 16,\n",
        "   'sec_rawptr_rsrc': 0,\n",
        "   'sec_rawptr_text': 0,\n",
        "   'sec_rawsize_': 5992,\n",
        "   'sec_rawsize_@': 496,\n",
        "   'sec_rawsize_data': 0,\n",
        "   'sec_rawsize_ps': 496,\n",
        "   'sec_rawsize_rsrc': 0,\n",
        "   'sec_rawsize_text': 0,\n",
        "   'sec_va_execsize': 86016,\n",
        "   'sec_vasize_': 36864,\n",
        "   'sec_vasize_@': 4096,\n",
        "   'sec_vasize_data': 0,\n",
        "   'sec_vasize_ps': 45056,\n",
        "   'sec_vasize_rsrc': 0,\n",
        "   'sec_vasize_text': 0,\n",
        "   'size_code': 1766614113,\n",
        "   'size_image': 90112,\n",
        "   'size_initdata': 1918988898,\n",
        "   'size_uninit': 16761,\n",
        "   'std_section_names': 0,\n",
        "   'total_size_pe': 6504,\n",
        "   'virtual_address': 4096,\n",
        "   'virtual_size': 45056,\n",
        "   'virtual_size_2': 36864},\n",
        "  'md5': 'f6190648c2efb764ae1d73b0e9a4fd13',\n",
        "  'sparse_features': {'imp_hash': 'Not found: Install pefile 1.2.10-139 or later',\n",
        "   'imported_symbols': [],\n",
        "   'pe_warning_strings': ['Error parsing section 0. PointerToRawData should normally be a multiple of FileAlignment, this might imply the file is trying to confuse tools which parse this incorrectly',\n",
        "    'Suspicious flags set for section 0. Both IMAGE_SCN_MEM_WRITE and IMAGE_SCN_MEM_EXECUTE are set. This might indicate a packed executable.',\n",
        "    'Suspicious flags set for section 1. Both IMAGE_SCN_MEM_WRITE and IMAGE_SCN_MEM_EXECUTE are set. This might indicate a packed executable.',\n",
        "    'Error parsing section 2. PointerToRawData should normally be a multiple of FileAlignment, this might imply the file is trying to confuse tools which parse this incorrectly',\n",
        "    'Suspicious flags set for section 2. Both IMAGE_SCN_MEM_WRITE and IMAGE_SCN_MEM_EXECUTE are set. This might indicate a packed executable.',\n",
        "    'Corrupt header \"IMAGE_IMPORT_DESCRIPTOR\" at file offset 494. Exception: \\'Data length less than expected header length.\\'',\n",
        "    \"Invalid relocation information. Can't read data at RVA: 0x476ffa5\"],\n",
        "   'section_names': ['ps', '', '@']}}}"
       ]
      }
     ],
     "prompt_number": 87
    },
    {
     "cell_type": "code",
     "collapsed": false,
     "input": [
      "c.work_request('pe_indicators', md5)"
     ],
     "language": "python",
     "metadata": {},
     "outputs": [
      {
       "metadata": {},
       "output_type": "pyout",
       "prompt_number": 88,
       "text": [
        "{'pe_indicators': {'indicator_list': [{'category': 'PE_WARN',\n",
        "    'description': 'Error parsing section 0. PointerToRawData should normally be a multiple of FileAlignment, this might imply the file is trying to confuse tools which parse this incorrectly',\n",
        "    'severity': 2},\n",
        "   {'category': 'PE_WARN',\n",
        "    'description': 'Suspicious flags set for section 0. Both IMAGE_SCN_MEM_WRITE and IMAGE_SCN_MEM_EXECUTE are set. This might indicate a packed executable.',\n",
        "    'severity': 2},\n",
        "   {'category': 'PE_WARN',\n",
        "    'description': 'Suspicious flags set for section 1. Both IMAGE_SCN_MEM_WRITE and IMAGE_SCN_MEM_EXECUTE are set. This might indicate a packed executable.',\n",
        "    'severity': 2},\n",
        "   {'category': 'PE_WARN',\n",
        "    'description': 'Error parsing section 2. PointerToRawData should normally be a multiple of FileAlignment, this might imply the file is trying to confuse tools which parse this incorrectly',\n",
        "    'severity': 2},\n",
        "   {'category': 'PE_WARN',\n",
        "    'description': 'Suspicious flags set for section 2. Both IMAGE_SCN_MEM_WRITE and IMAGE_SCN_MEM_EXECUTE are set. This might indicate a packed executable.',\n",
        "    'severity': 2},\n",
        "   {'category': 'PE_WARN',\n",
        "    'description': 'Corrupt header \"IMAGE_IMPORT_DESCRIPTOR\" at file offset 494. Exception: \\'Data length less than expected header length.\\'',\n",
        "    'severity': 2},\n",
        "   {'category': 'PE_WARN',\n",
        "    'description': \"Invalid relocation information. Can't read data at RVA: 0x476ffa5\",\n",
        "    'severity': 2},\n",
        "   {'category': 'MALFORMED', 'description': 'Checksum of Zero', 'severity': 1},\n",
        "   {'category': 'MALFORMED',\n",
        "    'description': 'Reported Checksum does not match actual checksum',\n",
        "    'severity': 2},\n",
        "   {'category': 'MALFORMED',\n",
        "    'description': 'Image size does not match reported size',\n",
        "    'severity': 3},\n",
        "   {'attributes': ['ps', '', '@'],\n",
        "    'category': 'MALFORMED',\n",
        "    'description': 'Section(s) with a non-standard name, tamper indication',\n",
        "    'severity': 3},\n",
        "   {'attributes': ['PS', '@\\x00\\x0f@\\x00'],\n",
        "    'category': 'MALFORMED',\n",
        "    'description': 'Unaligned section, tamper indication',\n",
        "    'severity': 3}],\n",
        "  'md5': 'f6190648c2efb764ae1d73b0e9a4fd13'}}"
       ]
      }
     ],
     "prompt_number": 88
    },
    {
     "cell_type": "code",
     "collapsed": false,
     "input": [
      "# Wow, that's a lot of features... if I had to flood my network, and parse \n",
      "# through all that shit just to get my one line of classification results,\n",
      "# I might prefer some nutshots from a kid wearing a football helmet.\n",
      "\n",
      "# On another note, did we just waste some time there? Did workbench have\n",
      "# to recompute the features? No everything done by workbench is pushed into the MongoDB\n",
      "# backend and then if the work results for that md5 are already in the datastore the\n",
      "# a very lightweight call is made to get the results. In fact results are never directly\n",
      "# returned, the worker pushes into Mongo and then we pull them out and hand them to the\n",
      "# client, that way we ^ensure^ that the bits in the datastore and the bits that you get\n",
      "# are the exact same 'gold bits' (seems like overkill but it's important).\n",
      "\n",
      "# Lets look at the datastore now.\n",
      "import pymongo\n",
      "uri = c.get_datastore_uri()\n",
      "mongo_c = pymongo.MongoClient(uri)\n",
      "db = mongo_c.get_default_database()"
     ],
     "language": "python",
     "metadata": {},
     "outputs": [],
     "prompt_number": 89
    },
    {
     "cell_type": "code",
     "collapsed": false,
     "input": [
      "# Every worker pushes it's results to a separate collection\n",
      "db.collection_names()"
     ],
     "language": "python",
     "metadata": {},
     "outputs": [
      {
       "metadata": {},
       "output_type": "pyout",
       "prompt_number": 90,
       "text": [
        "[u'system.indexes',\n",
        " u'fs.chunks',\n",
        " u'samples',\n",
        " u'fs.files',\n",
        " u'meta',\n",
        " u'pe_features',\n",
        " u'pe_indicators',\n",
        " u'pe_classifier']"
       ]
      }
     ],
     "prompt_number": 90
    },
    {
     "cell_type": "markdown",
     "metadata": {},
     "source": [
      "# Your data - Transparent, Organized, Accessible\n",
      "<div style=\"margin: 50px 0px 0px 30px\"><img src=\"files/images/mongo_data.png\" width=\"800px\"></div>\n"
     ]
    },
    {
     "cell_type": "code",
     "collapsed": false,
     "input": [
      "# What if something weird happened like one of the collections got deleted?\n",
      "# Hey lets find out\n",
      "db.pe_classifier.drop()\n",
      "db.collection_names()"
     ],
     "language": "python",
     "metadata": {},
     "outputs": [
      {
       "metadata": {},
       "output_type": "pyout",
       "prompt_number": 91,
       "text": [
        "[u'system.indexes',\n",
        " u'fs.chunks',\n",
        " u'samples',\n",
        " u'fs.files',\n",
        " u'meta',\n",
        " u'pe_features',\n",
        " u'pe_indicators']"
       ]
      }
     ],
     "prompt_number": 91
    },
    {
     "cell_type": "code",
     "collapsed": false,
     "input": [
      "# Okay.. so the system will flop over and die now.. yes?  No, in fact removing\n",
      "# a collection is fine. Watch the magic...\n",
      "#\n",
      "for md5 in working_set:\n",
      "    results = c.work_request('pe_classifier', md5)\n",
      "    print 'Results: %s' % (results)"
     ],
     "language": "python",
     "metadata": {},
     "outputs": [
      {
       "output_type": "stream",
       "stream": "stdout",
       "text": [
        "Results: {'pe_classifier': {'classification': 'Evil!', 'md5': '033d91aae8ad29ed9fbb858179271232'}}\n",
        "Results: {'pe_classifier': {'classification': 'Evil!', 'md5': '0cb9aa6fb9c4aa3afad7a303e21ac0f3'}}\n",
        "Results: {'pe_classifier': {'classification': 'Evil!', 'md5': '0e882ec9b485979ea84c7843d41ba36f'}}\n",
        "Results: {'pe_classifier': {'classification': 'Benign', 'md5': '0e8b030fb6ae48ffd29e520fc16b5641'}}\n",
        "Results: {'pe_classifier': {'classification': 'Benign', 'md5': '0eb9e990c521b30428a379700ec5ab3e'}}\n",
        "Results: {'pe_classifier': {'classification': 'Evil!', 'md5': '127f2bade752445b3dbf2cf2ea75c201'}}\n",
        "Results: {'pe_classifier': {'classification': 'Evil!', 'md5': '139385a91b9bca0833bdc1fa77e42b91'}}\n",
        "Results: {'pe_classifier': {'classification': 'Evil!', 'md5': '13dcc5b4570180118eb65529b77f6d89'}}\n",
        "Results: {'pe_classifier': {'classification': 'Evil!', 'md5': '1cac80a2147cd8f3860547e43edcaa00'}}\n",
        "Results: {'pe_classifier': {'classification': 'Evil!', 'md5': '1cea13cf888cd8ce4f869029f1dbb601'}}\n",
        "Results: {'pe_classifier': {'classification': 'Evil!', 'md5': '1d733a9e3e571ce5f5f633a0cfd3d5f0'}}\n",
        "Results: {'pe_classifier': {'classification': 'Evil!', 'md5': '2058c50de5976c67a09dfa5e0e1c7eb5'}}"
       ]
      },
      {
       "output_type": "stream",
       "stream": "stdout",
       "text": [
        "\n",
        "Results: {'pe_classifier': {'classification': 'Evil!', 'md5': '2d012cba541c22fb7250975d5ad0d065'}}\n",
        "Results: {'pe_classifier': {'classification': 'Evil!', 'md5': '2d015553c7388e4d78f05b24aba0819c'}}\n",
        "Results: {'pe_classifier': {'classification': 'Evil!', 'md5': '2d017ff228c39a0a727586b33f8168b0'}}\n",
        "Results: {'pe_classifier': {'classification': 'Evil!', 'md5': '2d09133abb48e1c7f3f5c8f8ced8fef4'}}\n",
        "Results: {'pe_classifier': {'classification': 'Evil!', 'md5': '2d094b6c69020091b68d1bcf5d11fa4b'}}\n",
        "Results: {'pe_classifier': {'classification': 'Evil!', 'md5': '2d095091983dd0bf6ab7c0bb6dd695f9'}}\n",
        "Results: {'pe_classifier': {'classification': 'Evil!', 'md5': '2d09546831b17d2cc0583362b6d312ae'}}\n",
        "Results: {'pe_classifier': {'classification': 'Evil!', 'md5': '2d099171876f7301c155bd775fff2b6a'}}\n",
        "Results: {'pe_classifier': {'classification': 'Benign', 'md5': '2d09a573b0e9d02a9fa47b16e9c01a48'}}\n",
        "Results: {'pe_classifier': {'classification': 'Evil!', 'md5': '2d09b5768e3617523d8afa110361919c'}}\n",
        "Results: {'pe_classifier': {'classification': 'Evil!', 'md5': '2d09b8d9852c3176259915e3509bcbd1'}}\n",
        "Results: {'pe_classifier': {'classification': 'Evil!', 'md5': '2d09ca902990545fec9ac190b0338b50'}}"
       ]
      },
      {
       "output_type": "stream",
       "stream": "stdout",
       "text": [
        "\n",
        "Results: {'pe_classifier': {'classification': 'Evil!', 'md5': '2d09cb38c268aa9297e5a7f27e677267'}}\n",
        "Results: {'pe_classifier': {'classification': 'Evil!', 'md5': '2d09cc92bbe29d96bb3a91b350d1725f'}}\n",
        "Results: {'pe_classifier': {'classification': 'Evil!', 'md5': '2d09e4aff42aebac87ae2fd737aba94f'}}\n",
        "Results: {'pe_classifier': {'classification': 'Evil!', 'md5': '32b24e73cfc3ac4c43f1926f8935e438'}}\n",
        "Results: {'pe_classifier': {'classification': 'Evil!', 'md5': '4ed28b6207560f127d267de639a4e1bf'}}\n",
        "Results: {'pe_classifier': {'classification': 'Evil!', 'md5': '505804ec7c7212a52ec85e075b91ed84'}}\n",
        "Results: {'pe_classifier': {'classification': 'Evil!', 'md5': '60a83c049e135cc199138c1f8861437c'}}\n",
        "Results: {'pe_classifier': {'classification': 'Evil!', 'md5': '69f9633fa6fd5dc1fd917cb435bba8ad'}}\n",
        "Results: {'pe_classifier': {'classification': 'Evil!', 'md5': '79f5e1af9fdb92476045989bda7515c7'}}\n",
        "Results: {'pe_classifier': {'classification': 'Evil!', 'md5': '7f313447b887b078215617fbed1a34a1'}}\n",
        "Results: {'pe_classifier': {'classification': 'Evil!', 'md5': '8006782bdf703e2f3fdf1d1650f45ffd'}}\n",
        "Results: {'pe_classifier': {'classification': 'Evil!', 'md5': '86714940f491bc38c2e842e80c7f778e'}}"
       ]
      },
      {
       "output_type": "stream",
       "stream": "stdout",
       "text": [
        "\n",
        "Results: {'pe_classifier': {'classification': 'Evil!', 'md5': '987bd46899b2a9493e6dec051edcb66c'}}\n",
        "Results: {'pe_classifier': {'classification': 'Evil!', 'md5': '9cd3d7b1b0f2aea5950cbf7d97776f2f'}}\n",
        "Results: {'pe_classifier': {'classification': 'Evil!', 'md5': '9ceccd9f32cb2ad0b140b6d15d8993b6'}}\n",
        "Results: {'pe_classifier': {'classification': 'Evil!', 'md5': '9e42ff1e6f75ae3e60b24e48367c8f26'}}\n",
        "Results: {'pe_classifier': {'classification': 'Evil!', 'md5': 'a7b0a9067d8292b252d741e6fae17cd9'}}\n",
        "Results: {'pe_classifier': {'classification': 'Benign', 'md5': 'afddc552b31a8f2438768c73674bf29e'}}\n",
        "Results: {'pe_classifier': {'classification': 'Evil!', 'md5': 'b681485cb9e0cad73ee85b9274c0d3c2'}}\n",
        "Results: {'pe_classifier': {'classification': 'Evil!', 'md5': 'bf1249a258cbcccec0f1b4ea1e9451a1'}}\n",
        "Results: {'pe_classifier': {'classification': 'Evil!', 'md5': 'c8c54ac7e827056174762c68db84534f'}}\n",
        "Results: {'pe_classifier': {'classification': 'Evil!', 'md5': 'cc113aa59c04b17e7cb832fc417f104d'}}\n",
        "Results: {'pe_classifier': {'classification': 'Benign', 'md5': 'd94da41e7e809f7366971b3b50f8ef68'}}\n",
        "Results: {'pe_classifier': {'classification': 'Evil!', 'md5': 'e9a6c83826deacfbc2281b6c7e401694'}}"
       ]
      },
      {
       "output_type": "stream",
       "stream": "stdout",
       "text": [
        "\n",
        "Results: {'pe_classifier': {'classification': 'Evil!', 'md5': 'ea5d95c96a23b21b9038f03b91955c18'}}\n",
        "Results: {'pe_classifier': {'classification': 'Evil!', 'md5': 'f6190648c2efb764ae1d73b0e9a4fd13'}}\n"
       ]
      }
     ],
     "prompt_number": 92
    },
    {
     "cell_type": "code",
     "collapsed": false,
     "input": [
      "# wow, that was super underwhelming.. stuff just worked...\n",
      "db.collection_names()"
     ],
     "language": "python",
     "metadata": {},
     "outputs": [
      {
       "metadata": {},
       "output_type": "pyout",
       "prompt_number": 93,
       "text": [
        "[u'system.indexes',\n",
        " u'fs.chunks',\n",
        " u'samples',\n",
        " u'fs.files',\n",
        " u'meta',\n",
        " u'pe_features',\n",
        " u'pe_indicators',\n",
        " u'pe_classifier']"
       ]
      }
     ],
     "prompt_number": 93
    },
    {
     "cell_type": "code",
     "collapsed": false,
     "input": [
      "# Another example.. I want to look at strings for different types of files (not just pe_files)\n",
      "# So we can load up a few pdfs (the pe's are already in the datastore)\n",
      "file_list = [os.path.join('../data/pdf/bad', child) for child in os.listdir('../data/pdf/bad')]\n",
      "for filename in file_list:\n",
      "    with open(filename,'rb') as f:\n",
      "        md5 = c.store_sample(filename, f.read(), 'pdf')\n",
      "        working_set.append(md5)"
     ],
     "language": "python",
     "metadata": {},
     "outputs": [],
     "prompt_number": 94
    },
    {
     "cell_type": "code",
     "collapsed": false,
     "input": [
      "# Now we rip the strings worker on them all\n",
      "for md5 in working_set:\n",
      "    result = c.work_request('strings', md5)\n",
      "    print 'results: %s' % (result['strings']['string_list'][:5]) # strings output is large so just showing the first 5"
     ],
     "language": "python",
     "metadata": {},
     "outputs": [
      {
       "output_type": "stream",
       "stream": "stdout",
       "text": [
        "results: ['    ', '!This program cannot be run in DOS mode.', 'Rich', '.text', '.rdata']\n",
        "results: ['!This program cannot be run in DOS mode.', 'Rich3', '.text', '`.rdata', '@.data']\n",
        "results: ['!This program cannot be run in DOS mode.', 'Rich', '.text', '`.data', '.rsrc']\n",
        "results: ['This program must be run under Win32', 'CODE', '`DATA', '.idata', '.tls']"
       ]
      },
      {
       "output_type": "stream",
       "stream": "stdout",
       "text": [
        "\n",
        "results: ['!This program cannot be run in DOS mode.', 'Rich', '.text', '`.rdata', '@DATA']\n",
        "results: ['!This program cannot be run in DOS mode.', 'kRich', '.text', '`.rdata', '@.data']"
       ]
      },
      {
       "output_type": "stream",
       "stream": "stdout",
       "text": [
        "\n",
        "results: ['!This program cannot be run in DOS mode.', '.text', '.code', '`.data', '.data3']\n",
        "results: ['!This program cannot be run in DOS mode.', 'YRich', '.text', '`.rdata', '@.data']\n",
        "results: ['!This program cannot be run in DOS mode.', '.text', '`.data', '.rsrc', 'blenkxr']\n",
        "results: ['!This program cannot be run in DOS mode.', 'Rich', '.text', '`.rdata', '@.data']"
       ]
      },
      {
       "output_type": "stream",
       "stream": "stdout",
       "text": [
        "\n",
        "results: ['!This program cannot be run in DOS mode.', '.text', '.data', '.rsrc', 'aitrfvl']\n",
        "results: ['This program must be run under Win32', 'ATSEC0', '`ATSEC1', '@ATSEC2', '@idata']\n",
        "results: ['This program must be run under Win32', 'CODE', '`DATA', '.idata', '.reloc']"
       ]
      },
      {
       "output_type": "stream",
       "stream": "stdout",
       "text": [
        "\n",
        "results: ['yrf<[LordPE]', '.text', '.text', 'ExitProcess', 'KERNEL32.dll']\n",
        "results: ['!This program cannot be run in DOS mode.', 'Rich', '.text', '`rdata', '.data']\n",
        "results: ['!This program cannot be run in DOS mode.', '6Rich#', '^\"+M', 'UPX0', 'UPX1']"
       ]
      },
      {
       "output_type": "stream",
       "stream": "stdout",
       "text": [
        "\n",
        "results: ['!This program cannot be run in DOS mode.', 'Rich\"', '.text', '@.code', '`.data']\n",
        "results: ['yrf<[LordPE]', '.text', '.text', 'ExitProcess', 'KERNEL32.dll']\n",
        "results: ['!This program cannot be run in DOS mode.', 'Riche', '.text', '.data', '.rsrc']"
       ]
      },
      {
       "output_type": "stream",
       "stream": "stdout",
       "text": [
        "\n",
        "results: ['!This program cannot be run in DOS mode.', 'Rich', '.text', '`rdata', '.data']\n",
        "results: ['!This program cannot be run in DOS mode.', 'Rich', '.data', '`.data', '`.data']"
       ]
      },
      {
       "output_type": "stream",
       "stream": "stdout",
       "text": [
        "\n",
        "results: ['!This program cannot be run in DOS mode.', '.text', '`.data', '.idata', '@.rsrc']\n",
        "results: ['!This program cannot be run in DOS mode.', \">O'X_!tX_!tX_!t\", '@+tN_!t', 'C/tR_!t:@2tS_!tX_ t', '@*t[_!t']"
       ]
      },
      {
       "output_type": "stream",
       "stream": "stdout",
       "text": [
        "\n",
        "results: ['!This program cannot be run in DOS mode.', 'RichX', 'E0TK', '.text', '`.rdata']\n",
        "results: ['!This program cannot be run in DOS mode.', 'Rich', '.text', '`rdata', '.data']"
       ]
      },
      {
       "output_type": "stream",
       "stream": "stdout",
       "text": [
        "\n",
        "results: ['!This program cannot be run in DOS mode.', 'Rich', '.text', '`.rdata', '@.data']\n",
        "results: ['!This program cannot be run in DOS mode.', 'UPX0', 'UPX1', '.rsrc', '3.03']"
       ]
      },
      {
       "output_type": "stream",
       "stream": "stdout",
       "text": [
        "\n",
        "results: ['    ', '!This program cannot be run in DOS mode.', 'Rich', '.text', '.rdata']\n",
        "results: ['!This program cannot be run in DOS mode.', 'Rich', '.data', '.pdata', '.ex_cod']\n",
        "results: ['This program must be run under Win32', 'CODE', '`DATA', '.idata', '.tls']"
       ]
      },
      {
       "output_type": "stream",
       "stream": "stdout",
       "text": [
        "\n",
        "results: ['!This program cannot be run in DOS mode.', '.text', '`.rdata', '@.data', '_TEXT2']\n",
        "results: ['!This program cannot be run in DOS mode.', 'ERich', 'UPX0', 'UPX1', 'UPX2']\n",
        "results: ['This program must be run under Win32', 'mnYD', 'CODE', '`DATA', '.idata']\n",
        "results: ['!This program cannot be run in DOS mode.', '.text', '`.rdata', '@.data', '_TEXT2']"
       ]
      },
      {
       "output_type": "stream",
       "stream": "stdout",
       "text": [
        "\n",
        "results: ['!This program cannot be run in DOS mode.', 'Rich', '.PEX', '`.PEX', 'Bome']\n",
        "results: ['!This program cannot be run in DOS mode.', '|Richv', 'UPX0', 'UPX1', '.rsrc']\n",
        "results: ['!This program cannot be run in DOS mode.', 'Rich', '.text', '`.rdata', '@.data']\n",
        "results: ['!This program cannot be run in DOS mode.', 'sIPE', '.text', '.data', '.rsrc']"
       ]
      },
      {
       "output_type": "stream",
       "stream": "stdout",
       "text": [
        "\n",
        "results: ['!This program cannot be run in DOS mode.', '.text', '.data', '.rsrc', 'mzphdwa']\n",
        "results: ['!This program cannot be run in DOS mode.', '.text', '.data', '.rsrc', 'lsicbkg']\n",
        "results: ['!This program cannot be run in DOS mode.', 'Rich', '.packed', '`.RLPack', 'a?/u']"
       ]
      },
      {
       "output_type": "stream",
       "stream": "stdout",
       "text": [
        "\n",
        "results: ['!This program cannot be run in DOS mode.', 'Rich', '.text', 'h.rdata', 'H.reloc']\n",
        "results: ['This program must be run under Win32', 'CODE', '`DATA', '.idata', '.tls']\n",
        "results: ['    ', '!This program cannot be run in DOS mode.', 'Rich', '.text', '.rdata']"
       ]
      },
      {
       "output_type": "stream",
       "stream": "stdout",
       "text": [
        "\n",
        "results: ['!This program cannot be run in DOS mode.', '.text', '.data', '.rdata', '@.bss']\n",
        "results: ['!This program cannot be run in DOS mode.', 'ssaR', \"'#K'\", '.data', '.text']\n",
        "results: ['!This program cannot be run in DOS mode.', 'BZ.`', 'Richy', 'J!NH', '.text']"
       ]
      },
      {
       "output_type": "stream",
       "stream": "stdout",
       "text": [
        "\n",
        "results: ['!This program cannot be run in DOS mode.', 'RichW', '.text', '.data', '.rsrc']\n",
        "results: ['.text', 'KERNEL32.DLL', 'MSVCRT.DLL', 'USER32.DLL', 'ADVAPI32.DLL']\n",
        "results: ['MZKERNEL32.DLL', 'LoadLibraryA', 'GetProcAddress', '^]YF', 'W8mu']\n",
        "results: ['%PDF-1.6', '52 0 obj<</Length 51252212/Root 1 0 R/Info 3 0 R%/F/W[1 2 1]/Index[5 1 7 1 9 4 23 4 50 3]>>stream', '/Filter/FlateDecode/W[1 2 1]/Index[5 1 7 1 9 4 23 4 50 3]>>stream', 'bbb0b`b```', '310Z']\n",
        "results: ['%PDF-1.1', '1 0 obj', ' /Type /Catalog', ' /Outlines 2 0 R', ' /Pages 3 0 R']\n",
        "results: ['%PDF-1.3', '2 0 obj', '/OpenAction << /JS 9 0 R /S /JavaScript >>', '/Type /Catalog', '/Pages 3 0 R']\n",
        "results: ['%PDF-1.4', '1 0 obj', '/Type /Catalog', '/Outlines 3 0 R', '/Pages 4 0 R']"
       ]
      },
      {
       "output_type": "stream",
       "stream": "stdout",
       "text": [
        "\n",
        "results: ['%PDF-1.6', '11 0 obj', '<</Filter/FlateDecode /Length 2523>>', 'stream', 's--e']\n",
        "results: ['%PDF-1.4', '1 0 obj', '<</Pages 2 0 R  /OpenAction <<', '/JS 4 0 R /S /JavaScript /Type /Catalog>>>>', 'endobj']\n",
        "results: ['%PDF-1.0', '1 0 obj<</Type/Catalog/Pages 2 0 R /Names 3 0 R >>endobj', '2 0 obj<</Type/Pages/Count 1/Kids[ 4 0 R ]>>endobj', '3 0 obj<</JavaScript 5 0 R >>endobj', '4 0 obj<</Type/Page/Parent 2 0 R /Contents 12 0 R>>endobj']\n",
        "results: ['%PDF-1.6', '7 0 obj', '<</Count 1/Type/Pages/Kids[28 0 R]>>', 'endobj', '21 0 obj']\n",
        "results: ['%PDF-1.3', '4 0 obj', 'endobj', '5 0 obj', '/Producer (substr)']\n",
        "results: ['%PDF-1.5', '1 0 obj<</#54ype/#43atal#6fg/Outlin#65#73 2 0 R/#50ages 3 0 R/Ope#6e#41ctio#6e 5 0 R>>endobj', '2 0 obj<</T#79#70#65/#4fu#74li#6e#65s/C#6funt 0>>endobj', '3 0 obj<</Ty#70#65/Pa#67#65s/K#69ds[4 0 R]/#43o#75nt 1>>endobj', '4 0 obj<</#54#79pe/P#61g#65/#50a#72#65#6et 3 0 R/#4d#65#64i#61B#6f#78[0 0 612 792]>>endobj']\n",
        "results: ['%PDF-1.3', '4 0 obj', '<< /Length 5 0 R /Filter /FlateDecode >>', 'stream', '}b%~T\\\\']"
       ]
      },
      {
       "output_type": "stream",
       "stream": "stdout",
       "text": [
        "\n",
        "results: ['%PDF-1.7', '3 0 obj', '<</Type /Page', '/Parent 1 0 R', '/MediaBox [0 0 595.28 841.89]']\n",
        "results: ['%PDF-1.3', '%&#1074;&#1075;&#1055;&#1059;', '1 0 obj', '/Outlines 2 0 R', '/OpenAction 3 0 R']\n",
        "results: ['%PDF-1.6', '10 0 obj', '<</Filter/FlateDecode /Length 1563>>', 'stream', '}V]o']\n",
        "results: ['%PDF-1.3', '3 0 obj', '<</Type /Page', '/Parent 1 0 R', '/Resources 2 0 R']\n",
        "results: ['%PDF-1.6', '12 0 obj', '<</Filter/FlateDecode /Length 2063>>', 'stream', 'W1OOO']\n",
        "results: ['%PDF-1.4', '1 0 obj', '/Type /Catalog', '/Outlines 3 0 R', '/Pages 4 0 R']"
       ]
      },
      {
       "output_type": "stream",
       "stream": "stdout",
       "text": [
        "\n",
        "results: ['%PDF-1.0', '1 0 obj<</Type/Catalog/Pages 2 0 R /Names 3 0 R >>endobj', '2 0 obj<</Type/Pages/Count 1/Kids[ 4 0 R ]>>endobj', '3 0 obj<</JavaScript 5 0 R >>endobj', '4 0 obj<</Type/Page/Parent 2 0 R /Contents 12 0 R>>endobj']\n",
        "results: ['%PDF-1.6', '7 0 obj', '<</Length 2307 /Filter/FlateDecode>>', 'stream', '&^:_']\n",
        "results: ['%PDF-1.0', '1 0 obj<</Type/Catalog/Pages 2 0 R /Names 3 0 R >>endobj', '2 0 obj<</Type/Pages/Count 1/Kids[ 4 0 R ]>>endobj', '3 0 obj<</JavaScript 5 0 R >>endobj', '4 0 obj<</Type/Page/Parent 2 0 R /Contents 12 0 R>>endobj']\n",
        "results: ['%PDF-1.6', '9 0 obj', '<</Filter/FlateDecode /Length 2278>>', 'stream', '$z(R']\n",
        "results: ['%PDF-1.6', '1 0 obj', '<</MediaBox [0 0 1 1] /Type/Page /Contents 3 0 R /Parent 5 0 R>>', 'endobj', '5 0 obj']\n",
        "results: ['%PDF-1.3', '1 0 obj', '/Kids [ 4 0 R ]', '/Type /Pages', '/Count 1']"
       ]
      },
      {
       "output_type": "stream",
       "stream": "stdout",
       "text": [
        "\n",
        "results: ['%PDF-1.6', '7 0 obj', '<</Count 1/Type/Pages/Kids[28 0 R]>>', 'endobj', '21 0 obj']\n",
        "results: ['%PDF-1.6', '3 0 obj', '<</Filter/FlateDecode /Length 1905>>', 'stream', \"z]%'\"]\n"
       ]
      }
     ],
     "prompt_number": 95
    },
    {
     "cell_type": "markdown",
     "metadata": {},
     "source": [
      "<div style=\"float: right; margin: 50px 0px 0px 30px\"><img src=\"files/images/eyeball_2.jpg\" width=\"300px\"></div>\n",
      "# Views\n",
      "Views exemplify the true power of the workbench. They are meta workers in the broadest sense, they can call any set of workers (and other views, which are just workers of course). All of the previous notebook code focused on demonstrating the level of control and granularity you can use with workbench, here the example we're going to show for views will be for those who don't care about granularity and really just want a big 'GO' button.\n",
      "\n",
      "Views can also be precise or general (example shows the latter):\n",
      "\n",
      "    - Customer billing View\n",
      "    - Sample volume over time View\n",
      "    - All samples that use communications calls View\n",
      "    - DO_EVERYTHING_BECAUSE_I_WANT_TO_PUNCH_GRANULARITY_IN_THE_NUTS! View\n",
      "    \n",
      "So lets look at the last kind .. it's called 'view' and like many of the other workers it's 20 lines of code.\n",
      "\n",
      "But it's deceptively simple, if you think about what must be happening below... over a dozen workers are getting orchestrated and run only when it makes sense for that MIME type. So with a few  'pull' calls the recursive dependency chains are invoked; work is done if/when it's needed and the whole thing is fantastically elegant and efficient. If your mind isn't a little bit blown by what happens below then you might not be paying attention."
     ]
    },
    {
     "cell_type": "code",
     "collapsed": false,
     "input": [
      "# This just grabs all the file_paths recursively\n",
      "def tag_type(path):\n",
      "    types = ['bro','json','logs','pcap','pdf','pe','swf','zip']\n",
      "    for try_type in types:\n",
      "        if try_type in os.path.dirname(path):\n",
      "            return try_type\n",
      "\n",
      "file_list = []\n",
      "for p,d,f_list in os.walk('../data'):\n",
      "    file_list += [os.path.join(p, f) for f in f_list]"
     ],
     "language": "python",
     "metadata": {},
     "outputs": [],
     "prompt_number": 100
    },
    {
     "cell_type": "markdown",
     "metadata": {},
     "source": [
      "<div style=\"float: left; margin: 0px 0px 0px 50px\"><img src=\"files/images/anxious.jpg\" width=\"150px\"></div>\n",
      "### Please note the next cell takes several minutes to complete\n",
      "#### The repository has hundreds of test files and the next few lines of python runs them all through 4-5 workers each, yes 'view' is like a magic pony it will figure out what workers to run on which file types (peid is the big time hog in case you're wondering)."
     ]
    },
    {
     "cell_type": "code",
     "collapsed": false,
     "input": [
      "# We're going to load in all the files which include PE files, PCAPS, PDFs, and ZIPs and run 'view' on them.\n",
      "# Note: This takes a while :)\n",
      "import pprint\n",
      "results = []\n",
      "for filename in file_list:\n",
      "    with open(filename,'rb') as f:\n",
      "        md5 = c.store_sample(os.path.basename(filename), f.read(), tag_type(filename))\n",
      "        results.append(c.work_request('view', md5))\n",
      "pprint.pprint(results[:5])"
     ],
     "language": "python",
     "metadata": {},
     "outputs": [
      {
       "output_type": "stream",
       "stream": "stdout",
       "text": [
        "[{'view': {'md5': '0b4f3d7cd63c09d7bea8419af20c4935',\n",
        "           'meta': {'encoding': 'binary',\n",
        "                    'file_size': 12292,\n",
        "                    'file_type': 'Apple Desktop Services Store',\n",
        "                    'filename': '.DS_Store',\n",
        "                    'import_time': '2014-04-21T21:23:00.577000Z',\n",
        "                    'md5': '0b4f3d7cd63c09d7bea8419af20c4935',\n",
        "                    'mime_type': 'binary',\n",
        "                    'type_tag': None}}},\n",
        " {'view': {'md5': 'f12f0237be84a8e353477e55ec43589b',\n",
        "           'meta': {'encoding': 'us-ascii',\n",
        "                    'file_size': 25218,\n",
        "                    'file_type': 'ASCII text',\n",
        "                    'filename': 'conn.log',\n",
        "                    'import_time': '2014-04-21T21:23:00.761000Z',\n",
        "                    'md5': 'f12f0237be84a8e353477e55ec43589b',\n",
        "                    'mime_type': 'text/plain',\n",
        "                    'type_tag': 'bro'}}},\n",
        " {'view': {'md5': 'a62fd3c72c1d688ff8041e0be87d07aa',\n",
        "           'meta': {'encoding': 'us-ascii',\n",
        "                    'file_size': 541,\n",
        "                    'file_type': 'ASCII text',\n",
        "                    'filename': 'dhcp.log',\n",
        "                    'import_time': '2014-04-21T21:23:00.782000Z',\n",
        "                    'md5': 'a62fd3c72c1d688ff8041e0be87d07aa',\n",
        "                    'mime_type': 'text/plain',\n",
        "                    'type_tag': 'bro'}}},\n",
        " {'view': {'md5': '438022b94b10cada18414314b0c8584b',\n",
        "           'meta': {'encoding': 'us-ascii',\n",
        "                    'file_size': 23896,\n",
        "                    'file_type': 'ASCII text',\n",
        "                    'filename': 'dns.log',\n",
        "                    'import_time': '2014-04-21T21:23:00.828000Z',\n",
        "                    'md5': '438022b94b10cada18414314b0c8584b',\n",
        "                    'mime_type': 'text/plain',\n",
        "                    'type_tag': 'bro'}}},\n",
        " {'view': {'md5': 'f57da114f0f1e07b93f374d68c65c583',\n",
        "           'meta': {'encoding': 'us-ascii',\n",
        "                    'file_size': 40283,\n",
        "                    'file_type': 'ASCII text',\n",
        "                    'filename': 'files.log',\n",
        "                    'import_time': '2014-04-21T21:23:00.849000Z',\n",
        "                    'md5': 'f57da114f0f1e07b93f374d68c65c583',\n",
        "                    'mime_type': 'text/plain',\n",
        "                    'type_tag': 'bro'}}}]\n"
       ]
      }
     ],
     "prompt_number": 101
    },
    {
     "cell_type": "code",
     "collapsed": false,
     "input": [
      "# Okay so views can either aggregate results from multiple workers or they\n",
      "# can subset to just want you want (webpage presentation for instance)\n",
      "results = c.batch_work_request('view_customer', {})\n",
      "print results"
     ],
     "language": "python",
     "metadata": {},
     "outputs": [
      {
       "output_type": "stream",
       "stream": "stdout",
       "text": [
        "<generator object iterator at 0x1113b5780>\n"
       ]
      }
     ],
     "prompt_number": 102
    },
    {
     "cell_type": "markdown",
     "metadata": {},
     "source": [
      "<div style=\"float: left; margin: 0px 0px 0px 30px\"><img src=\"files/images/head_explode.jpg\" width=\"350px\"></div>\n",
      "## Holy s#@&! The server batch request returned a generator?\n",
      "#### Yes generators are awesome but getting one from a server request! Are u serious?!  Yes, dead serious.. like chopping off your head and kicking your body into a shallow grave and putting your head on a stick... serious.\n",
      "\n",
      "#### For more on client/server generators and client-contructed/server-executed generator pipelines see our super spiffy [Generator Pipelines](http://nbviewer.ipython.org/url/raw.github.com/SuperCowPowers/workbench/master/notebooks/Generator_Pipelines.ipynb) notebook."
     ]
    },
    {
     "cell_type": "code",
     "collapsed": false,
     "input": [
      "# At this granularity it opens up a new world\n",
      "import pandas as pd\n",
      "df = pd.DataFrame.from_records(results)\n",
      "df.head(10)"
     ],
     "language": "python",
     "metadata": {},
     "outputs": [
      {
       "html": [
        "<div style=\"max-height:1000px;max-width:1500px;overflow:auto;\">\n",
        "<table border=\"1\" class=\"dataframe\">\n",
        "  <thead>\n",
        "    <tr style=\"text-align: right;\">\n",
        "      <th></th>\n",
        "      <th>customer</th>\n",
        "      <th>filename</th>\n",
        "      <th>import_time</th>\n",
        "      <th>length</th>\n",
        "      <th>md5</th>\n",
        "      <th>type_tag</th>\n",
        "    </tr>\n",
        "  </thead>\n",
        "  <tbody>\n",
        "    <tr>\n",
        "      <th>0</th>\n",
        "      <td>  BearTron</td>\n",
        "      <td>         .DS_Store</td>\n",
        "      <td> 2014-04-21T21:23:00.577000Z</td>\n",
        "      <td>  12292</td>\n",
        "      <td> 0b4f3d7cd63c09d7bea8419af20c4935</td>\n",
        "      <td> None</td>\n",
        "    </tr>\n",
        "    <tr>\n",
        "      <th>1</th>\n",
        "      <td>  Huge Inc</td>\n",
        "      <td>          conn.log</td>\n",
        "      <td> 2014-04-21T21:23:00.761000Z</td>\n",
        "      <td>  25218</td>\n",
        "      <td> f12f0237be84a8e353477e55ec43589b</td>\n",
        "      <td>  bro</td>\n",
        "    </tr>\n",
        "    <tr>\n",
        "      <th>2</th>\n",
        "      <td>  Huge Inc</td>\n",
        "      <td>          dhcp.log</td>\n",
        "      <td> 2014-04-21T21:23:00.782000Z</td>\n",
        "      <td>    541</td>\n",
        "      <td> a62fd3c72c1d688ff8041e0be87d07aa</td>\n",
        "      <td>  bro</td>\n",
        "    </tr>\n",
        "    <tr>\n",
        "      <th>3</th>\n",
        "      <td> Mega Corp</td>\n",
        "      <td>           dns.log</td>\n",
        "      <td> 2014-04-21T21:23:00.828000Z</td>\n",
        "      <td>  23896</td>\n",
        "      <td> 438022b94b10cada18414314b0c8584b</td>\n",
        "      <td>  bro</td>\n",
        "    </tr>\n",
        "    <tr>\n",
        "      <th>4</th>\n",
        "      <td>  Huge Inc</td>\n",
        "      <td>         files.log</td>\n",
        "      <td> 2014-04-21T21:23:00.849000Z</td>\n",
        "      <td>  40283</td>\n",
        "      <td> f57da114f0f1e07b93f374d68c65c583</td>\n",
        "      <td>  bro</td>\n",
        "    </tr>\n",
        "    <tr>\n",
        "      <th>5</th>\n",
        "      <td>  Huge Inc</td>\n",
        "      <td>          http.log</td>\n",
        "      <td> 2014-04-21T21:23:00.870000Z</td>\n",
        "      <td> 133673</td>\n",
        "      <td> 48c96cf0602a4f29bf1ff00f78ae00ec</td>\n",
        "      <td>  bro</td>\n",
        "    </tr>\n",
        "    <tr>\n",
        "      <th>6</th>\n",
        "      <td>  BearTron</td>\n",
        "      <td> packet_filter.log</td>\n",
        "      <td> 2014-04-21T21:23:00.892000Z</td>\n",
        "      <td>    253</td>\n",
        "      <td> 874d48b24f19c0064a1934a1201b7db1</td>\n",
        "      <td>  bro</td>\n",
        "    </tr>\n",
        "    <tr>\n",
        "      <th>7</th>\n",
        "      <td>  BearTron</td>\n",
        "      <td>           ssl.log</td>\n",
        "      <td> 2014-04-21T21:23:00.911000Z</td>\n",
        "      <td>   1627</td>\n",
        "      <td> d00804b108fba8d65ae3cca811ba953d</td>\n",
        "      <td>  bro</td>\n",
        "    </tr>\n",
        "    <tr>\n",
        "      <th>8</th>\n",
        "      <td>  BearTron</td>\n",
        "      <td>         weird.log</td>\n",
        "      <td> 2014-04-21T21:23:00.931000Z</td>\n",
        "      <td>   1184</td>\n",
        "      <td> fbbd2bd9db7cc57d231ccc98e934580a</td>\n",
        "      <td>  bro</td>\n",
        "    </tr>\n",
        "    <tr>\n",
        "      <th>9</th>\n",
        "      <td>  BearTron</td>\n",
        "      <td>    generated.json</td>\n",
        "      <td> 2014-04-21T21:23:00.952000Z</td>\n",
        "      <td> 288312</td>\n",
        "      <td> 6578ea7b1c1deae7d4063f320df17769</td>\n",
        "      <td> json</td>\n",
        "    </tr>\n",
        "  </tbody>\n",
        "</table>\n",
        "<p>10 rows \u00d7 6 columns</p>\n",
        "</div>"
       ],
       "metadata": {},
       "output_type": "pyout",
       "prompt_number": 103,
       "text": [
        "    customer           filename                  import_time  length  \\\n",
        "0   BearTron          .DS_Store  2014-04-21T21:23:00.577000Z   12292   \n",
        "1   Huge Inc           conn.log  2014-04-21T21:23:00.761000Z   25218   \n",
        "2   Huge Inc           dhcp.log  2014-04-21T21:23:00.782000Z     541   \n",
        "3  Mega Corp            dns.log  2014-04-21T21:23:00.828000Z   23896   \n",
        "4   Huge Inc          files.log  2014-04-21T21:23:00.849000Z   40283   \n",
        "5   Huge Inc           http.log  2014-04-21T21:23:00.870000Z  133673   \n",
        "6   BearTron  packet_filter.log  2014-04-21T21:23:00.892000Z     253   \n",
        "7   BearTron            ssl.log  2014-04-21T21:23:00.911000Z    1627   \n",
        "8   BearTron          weird.log  2014-04-21T21:23:00.931000Z    1184   \n",
        "9   BearTron     generated.json  2014-04-21T21:23:00.952000Z  288312   \n",
        "\n",
        "                                md5 type_tag  \n",
        "0  0b4f3d7cd63c09d7bea8419af20c4935     None  \n",
        "1  f12f0237be84a8e353477e55ec43589b      bro  \n",
        "2  a62fd3c72c1d688ff8041e0be87d07aa      bro  \n",
        "3  438022b94b10cada18414314b0c8584b      bro  \n",
        "4  f57da114f0f1e07b93f374d68c65c583      bro  \n",
        "5  48c96cf0602a4f29bf1ff00f78ae00ec      bro  \n",
        "6  874d48b24f19c0064a1934a1201b7db1      bro  \n",
        "7  d00804b108fba8d65ae3cca811ba953d      bro  \n",
        "8  fbbd2bd9db7cc57d231ccc98e934580a      bro  \n",
        "9  6578ea7b1c1deae7d4063f320df17769     json  \n",
        "\n",
        "[10 rows x 6 columns]"
       ]
      }
     ],
     "prompt_number": 103
    },
    {
     "cell_type": "code",
     "collapsed": false,
     "input": [
      "# Lets look at the file submission types broken down by customer\n",
      "df['count'] = 1\n",
      "df.groupby(['customer','type_tag']).sum()"
     ],
     "language": "python",
     "metadata": {},
     "outputs": [
      {
       "html": [
        "<div style=\"max-height:1000px;max-width:1500px;overflow:auto;\">\n",
        "<table border=\"1\" class=\"dataframe\">\n",
        "  <thead>\n",
        "    <tr style=\"text-align: right;\">\n",
        "      <th></th>\n",
        "      <th></th>\n",
        "      <th>length</th>\n",
        "      <th>count</th>\n",
        "    </tr>\n",
        "    <tr>\n",
        "      <th>customer</th>\n",
        "      <th>type_tag</th>\n",
        "      <th></th>\n",
        "      <th></th>\n",
        "    </tr>\n",
        "  </thead>\n",
        "  <tbody>\n",
        "    <tr>\n",
        "      <th rowspan=\"4\" valign=\"top\">BearTron</th>\n",
        "      <th>bro</th>\n",
        "      <td>    3064</td>\n",
        "      <td>  3</td>\n",
        "    </tr>\n",
        "    <tr>\n",
        "      <th>json</th>\n",
        "      <td>  288312</td>\n",
        "      <td>  1</td>\n",
        "    </tr>\n",
        "    <tr>\n",
        "      <th>pdf</th>\n",
        "      <td>  315903</td>\n",
        "      <td> 12</td>\n",
        "    </tr>\n",
        "    <tr>\n",
        "      <th>pe</th>\n",
        "      <td> 1534837</td>\n",
        "      <td> 27</td>\n",
        "    </tr>\n",
        "    <tr>\n",
        "      <th rowspan=\"5\" valign=\"top\">Dorseys Mom</th>\n",
        "      <th>logs</th>\n",
        "      <td>  135578</td>\n",
        "      <td>  1</td>\n",
        "    </tr>\n",
        "    <tr>\n",
        "      <th>pcap</th>\n",
        "      <td> 1824934</td>\n",
        "      <td>  2</td>\n",
        "    </tr>\n",
        "    <tr>\n",
        "      <th>pdf</th>\n",
        "      <td>  537252</td>\n",
        "      <td> 13</td>\n",
        "    </tr>\n",
        "    <tr>\n",
        "      <th>pe</th>\n",
        "      <td> 1467609</td>\n",
        "      <td> 26</td>\n",
        "    </tr>\n",
        "    <tr>\n",
        "      <th>zip</th>\n",
        "      <td>   73275</td>\n",
        "      <td>  1</td>\n",
        "    </tr>\n",
        "    <tr>\n",
        "      <th rowspan=\"5\" valign=\"top\">Huge Inc</th>\n",
        "      <th>bro</th>\n",
        "      <td>  199715</td>\n",
        "      <td>  4</td>\n",
        "    </tr>\n",
        "    <tr>\n",
        "      <th>pcap</th>\n",
        "      <td>  693558</td>\n",
        "      <td>  1</td>\n",
        "    </tr>\n",
        "    <tr>\n",
        "      <th>pdf</th>\n",
        "      <td>  300276</td>\n",
        "      <td> 14</td>\n",
        "    </tr>\n",
        "    <tr>\n",
        "      <th>pe</th>\n",
        "      <td> 1054020</td>\n",
        "      <td> 22</td>\n",
        "    </tr>\n",
        "    <tr>\n",
        "      <th>swf</th>\n",
        "      <td>    7724</td>\n",
        "      <td>  1</td>\n",
        "    </tr>\n",
        "    <tr>\n",
        "      <th rowspan=\"5\" valign=\"top\">Mega Corp</th>\n",
        "      <th>bro</th>\n",
        "      <td>   23896</td>\n",
        "      <td>  1</td>\n",
        "    </tr>\n",
        "    <tr>\n",
        "      <th>pcap</th>\n",
        "      <td>   11792</td>\n",
        "      <td>  1</td>\n",
        "    </tr>\n",
        "    <tr>\n",
        "      <th>pdf</th>\n",
        "      <td>  349601</td>\n",
        "      <td> 11</td>\n",
        "    </tr>\n",
        "    <tr>\n",
        "      <th>pe</th>\n",
        "      <td> 1095773</td>\n",
        "      <td> 25</td>\n",
        "    </tr>\n",
        "    <tr>\n",
        "      <th>zip</th>\n",
        "      <td>   77993</td>\n",
        "      <td>  1</td>\n",
        "    </tr>\n",
        "  </tbody>\n",
        "</table>\n",
        "<p>19 rows \u00d7 2 columns</p>\n",
        "</div>"
       ],
       "metadata": {},
       "output_type": "pyout",
       "prompt_number": 105,
       "text": [
        "                       length  count\n",
        "customer    type_tag                \n",
        "BearTron    bro          3064      3\n",
        "            json       288312      1\n",
        "            pdf        315903     12\n",
        "            pe        1534837     27\n",
        "Dorseys Mom logs       135578      1\n",
        "            pcap      1824934      2\n",
        "            pdf        537252     13\n",
        "            pe        1467609     26\n",
        "            zip         73275      1\n",
        "Huge Inc    bro        199715      4\n",
        "            pcap       693558      1\n",
        "            pdf        300276     14\n",
        "            pe        1054020     22\n",
        "            swf          7724      1\n",
        "Mega Corp   bro         23896      1\n",
        "            pcap        11792      1\n",
        "            pdf        349601     11\n",
        "            pe        1095773     25\n",
        "            zip         77993      1\n",
        "\n",
        "[19 rows x 2 columns]"
       ]
      }
     ],
     "prompt_number": 105
    },
    {
     "cell_type": "code",
     "collapsed": false,
     "input": [
      "# Plotting defaults\n",
      "import matplotlib.pyplot as plt\n",
      "%matplotlib inline\n",
      "plt.rcParams['font.size'] = 12.0\n",
      "plt.rcParams['figure.figsize'] = 18.0, 8.0"
     ],
     "language": "python",
     "metadata": {},
     "outputs": [],
     "prompt_number": 106
    },
    {
     "cell_type": "code",
     "collapsed": false,
     "input": [
      "# Plot box plots based on customer (PDFs)\n",
      "df[df['type_tag']=='pdf'].boxplot('length','customer')\n",
      "plt.xlabel('Customer')\n",
      "plt.ylabel('File Size')"
     ],
     "language": "python",
     "metadata": {},
     "outputs": [
      {
       "metadata": {},
       "output_type": "pyout",
       "prompt_number": 107,
       "text": [
        "<matplotlib.text.Text at 0x11138a790>"
       ]
      },
      {
       "metadata": {},
       "output_type": "display_data",
       "png": "[encoded data removed]",
       "text": [
        "<matplotlib.figure.Figure at 0x1113bea90>"
       ]
      }
     ],
     "prompt_number": 107
    },
    {
     "cell_type": "code",
     "collapsed": false,
     "input": [
      "# Plot box plots based on customer (PEs)\n",
      "df[df['type_tag']=='pe'].boxplot('length','customer')\n",
      "plt.xlabel('Customer')\n",
      "plt.ylabel('File Size')"
     ],
     "language": "python",
     "metadata": {},
     "outputs": [
      {
       "metadata": {},
       "output_type": "pyout",
       "prompt_number": 109,
       "text": [
        "<matplotlib.text.Text at 0x113c295d0>"
       ]
      },
      {
       "metadata": {},
       "output_type": "display_data",
       "png": "[encoded data removed]",
       "text": [
        "<matplotlib.figure.Figure at 0x111663f50>"
       ]
      }
     ],
     "prompt_number": 109
    },
    {
     "cell_type": "code",
     "collapsed": false,
     "input": [
      "# Okay now lets do some plots on the file meta-data\n",
      "results = c.batch_work_request('meta_deep', {})"
     ],
     "language": "python",
     "metadata": {},
     "outputs": [],
     "prompt_number": 110
    },
    {
     "cell_type": "code",
     "collapsed": false,
     "input": [
      "df_meta = pd.DataFrame.from_records(results)\n",
      "df_meta.head()"
     ],
     "language": "python",
     "metadata": {},
     "outputs": [
      {
       "html": [
        "<div style=\"max-height:1000px;max-width:1500px;overflow:auto;\">\n",
        "<table border=\"1\" class=\"dataframe\">\n",
        "  <thead>\n",
        "    <tr style=\"text-align: right;\">\n",
        "      <th></th>\n",
        "      <th>encoding</th>\n",
        "      <th>entropy</th>\n",
        "      <th>file_size</th>\n",
        "      <th>file_type</th>\n",
        "      <th>filename</th>\n",
        "      <th>import_time</th>\n",
        "      <th>md5</th>\n",
        "      <th>mime_type</th>\n",
        "      <th>sha1</th>\n",
        "      <th>sha256</th>\n",
        "      <th>ssdeep</th>\n",
        "      <th>type_tag</th>\n",
        "    </tr>\n",
        "  </thead>\n",
        "  <tbody>\n",
        "    <tr>\n",
        "      <th>0</th>\n",
        "      <td> us-ascii</td>\n",
        "      <td> 4.831076</td>\n",
        "      <td>  25218</td>\n",
        "      <td> ASCII text</td>\n",
        "      <td>  conn.log</td>\n",
        "      <td> 2014-04-21T21:23:00.761000Z</td>\n",
        "      <td> f12f0237be84a8e353477e55ec43589b</td>\n",
        "      <td> text/plain</td>\n",
        "      <td> c7e000dab8b2e0b6f83dff5852e1518579c859c8</td>\n",
        "      <td> 37a0572bd98fc0d7499aa555bce9d88b6abb9c6358628b...</td>\n",
        "      <td> 384:8fEOFAAyP4YaJvFM3jpP0uaNMqmSWKAB9557XAzZF:...</td>\n",
        "      <td> bro</td>\n",
        "    </tr>\n",
        "    <tr>\n",
        "      <th>1</th>\n",
        "      <td> us-ascii</td>\n",
        "      <td> 5.091089</td>\n",
        "      <td>    541</td>\n",
        "      <td> ASCII text</td>\n",
        "      <td>  dhcp.log</td>\n",
        "      <td> 2014-04-21T21:23:00.782000Z</td>\n",
        "      <td> a62fd3c72c1d688ff8041e0be87d07aa</td>\n",
        "      <td> text/plain</td>\n",
        "      <td> bcf3dbbb0f8f979904c2fe9c9a0898af1c218aa9</td>\n",
        "      <td> a502574c44d5686dc3a8fd5147929a8d5eb0c574efa9cc...</td>\n",
        "      <td> 12:Nxl6mXA+5zPirRsr8Bf8jEQfcLthcYHowqFtQfcLthc...</td>\n",
        "      <td> bro</td>\n",
        "    </tr>\n",
        "    <tr>\n",
        "      <th>2</th>\n",
        "      <td> us-ascii</td>\n",
        "      <td> 4.930074</td>\n",
        "      <td>  23896</td>\n",
        "      <td> ASCII text</td>\n",
        "      <td>   dns.log</td>\n",
        "      <td> 2014-04-21T21:23:00.828000Z</td>\n",
        "      <td> 438022b94b10cada18414314b0c8584b</td>\n",
        "      <td> text/plain</td>\n",
        "      <td> 2e6f7e8fa47e1019299eb746ecbcc144b01f2119</td>\n",
        "      <td> 8b75b565d2c1512e00b8ec5c82f5690a8feb69f208fdbc...</td>\n",
        "      <td> 384:7+DS44COS44BDP6yfRKv8Y30ikGg+q9uW+datQOyTZ...</td>\n",
        "      <td> bro</td>\n",
        "    </tr>\n",
        "    <tr>\n",
        "      <th>3</th>\n",
        "      <td> us-ascii</td>\n",
        "      <td> 5.085828</td>\n",
        "      <td>  40283</td>\n",
        "      <td> ASCII text</td>\n",
        "      <td> files.log</td>\n",
        "      <td> 2014-04-21T21:23:00.849000Z</td>\n",
        "      <td> f57da114f0f1e07b93f374d68c65c583</td>\n",
        "      <td> text/plain</td>\n",
        "      <td> 0eb199f223b21a559ca5072a240953d0ca470936</td>\n",
        "      <td> 671edd7c513dcab7ac2c15938d6c6a88b772ed4158b267...</td>\n",
        "      <td> 384:DdSmE5itzEPGD5m43Jz7NFc2NP6Rwx1/TZGMIWcxl5...</td>\n",
        "      <td> bro</td>\n",
        "    </tr>\n",
        "    <tr>\n",
        "      <th>4</th>\n",
        "      <td> us-ascii</td>\n",
        "      <td> 5.721816</td>\n",
        "      <td> 133673</td>\n",
        "      <td> ASCII text</td>\n",
        "      <td>  http.log</td>\n",
        "      <td> 2014-04-21T21:23:00.870000Z</td>\n",
        "      <td> 48c96cf0602a4f29bf1ff00f78ae00ec</td>\n",
        "      <td> text/plain</td>\n",
        "      <td> ff4c56e837c20526c5193e5470f6979bdfc925e5</td>\n",
        "      <td> adda1b244b04c497d08d122c51a7816d57b7e556eabc0e...</td>\n",
        "      <td> 1536:rSHUjmwew9DrIFFh3UCtSkMHMPhn5MxBgMICi0Be:...</td>\n",
        "      <td> bro</td>\n",
        "    </tr>\n",
        "  </tbody>\n",
        "</table>\n",
        "<p>5 rows \u00d7 12 columns</p>\n",
        "</div>"
       ],
       "metadata": {},
       "output_type": "pyout",
       "prompt_number": 111,
       "text": [
        "   encoding   entropy  file_size   file_type   filename  \\\n",
        "0  us-ascii  4.831076      25218  ASCII text   conn.log   \n",
        "1  us-ascii  5.091089        541  ASCII text   dhcp.log   \n",
        "2  us-ascii  4.930074      23896  ASCII text    dns.log   \n",
        "3  us-ascii  5.085828      40283  ASCII text  files.log   \n",
        "4  us-ascii  5.721816     133673  ASCII text   http.log   \n",
        "\n",
        "                   import_time                               md5   mime_type  \\\n",
        "0  2014-04-21T21:23:00.761000Z  f12f0237be84a8e353477e55ec43589b  text/plain   \n",
        "1  2014-04-21T21:23:00.782000Z  a62fd3c72c1d688ff8041e0be87d07aa  text/plain   \n",
        "2  2014-04-21T21:23:00.828000Z  438022b94b10cada18414314b0c8584b  text/plain   \n",
        "3  2014-04-21T21:23:00.849000Z  f57da114f0f1e07b93f374d68c65c583  text/plain   \n",
        "4  2014-04-21T21:23:00.870000Z  48c96cf0602a4f29bf1ff00f78ae00ec  text/plain   \n",
        "\n",
        "                                       sha1  \\\n",
        "0  c7e000dab8b2e0b6f83dff5852e1518579c859c8   \n",
        "1  bcf3dbbb0f8f979904c2fe9c9a0898af1c218aa9   \n",
        "2  2e6f7e8fa47e1019299eb746ecbcc144b01f2119   \n",
        "3  0eb199f223b21a559ca5072a240953d0ca470936   \n",
        "4  ff4c56e837c20526c5193e5470f6979bdfc925e5   \n",
        "\n",
        "                                              sha256  \\\n",
        "0  37a0572bd98fc0d7499aa555bce9d88b6abb9c6358628b...   \n",
        "1  a502574c44d5686dc3a8fd5147929a8d5eb0c574efa9cc...   \n",
        "2  8b75b565d2c1512e00b8ec5c82f5690a8feb69f208fdbc...   \n",
        "3  671edd7c513dcab7ac2c15938d6c6a88b772ed4158b267...   \n",
        "4  adda1b244b04c497d08d122c51a7816d57b7e556eabc0e...   \n",
        "\n",
        "                                              ssdeep type_tag  \n",
        "0  384:8fEOFAAyP4YaJvFM3jpP0uaNMqmSWKAB9557XAzZF:...      bro  \n",
        "1  12:Nxl6mXA+5zPirRsr8Bf8jEQfcLthcYHowqFtQfcLthc...      bro  \n",
        "2  384:7+DS44COS44BDP6yfRKv8Y30ikGg+q9uW+datQOyTZ...      bro  \n",
        "3  384:DdSmE5itzEPGD5m43Jz7NFc2NP6Rwx1/TZGMIWcxl5...      bro  \n",
        "4  1536:rSHUjmwew9DrIFFh3UCtSkMHMPhn5MxBgMICi0Be:...      bro  \n",
        "\n",
        "[5 rows x 12 columns]"
       ]
      }
     ],
     "prompt_number": 111
    },
    {
     "cell_type": "code",
     "collapsed": false,
     "input": [
      "# Plot entropy box plots based on mime-type\n",
      "df_meta.boxplot('entropy','mime_type')\n",
      "plt.xlabel('Mime Type')\n",
      "plt.ylabel('Entropy')"
     ],
     "language": "python",
     "metadata": {},
     "outputs": [
      {
       "metadata": {},
       "output_type": "pyout",
       "prompt_number": 112,
       "text": [
        "<matplotlib.text.Text at 0x11366f950>"
       ]
      },
      {
       "metadata": {},
       "output_type": "display_data",
       "png": "[encoded data removed]",
       "text": [
        "<matplotlib.figure.Figure at 0x111665c10>"
       ]
      }
     ],
     "prompt_number": 112
    },
    {
     "cell_type": "code",
     "collapsed": false,
     "input": [
      "# Hee, Hee now merge the two dataframes together to plot customer submissions based on mime-type\n",
      "df_combined = df_meta.merge(df, on='md5')\n",
      "df_combined.head()"
     ],
     "language": "python",
     "metadata": {},
     "outputs": [
      {
       "html": [
        "<div style=\"max-height:1000px;max-width:1500px;overflow:auto;\">\n",
        "<table border=\"1\" class=\"dataframe\">\n",
        "  <thead>\n",
        "    <tr style=\"text-align: right;\">\n",
        "      <th></th>\n",
        "      <th>encoding</th>\n",
        "      <th>entropy</th>\n",
        "      <th>file_size</th>\n",
        "      <th>file_type</th>\n",
        "      <th>filename_x</th>\n",
        "      <th>import_time_x</th>\n",
        "      <th>md5</th>\n",
        "      <th>mime_type</th>\n",
        "      <th>sha1</th>\n",
        "      <th>sha256</th>\n",
        "      <th>ssdeep</th>\n",
        "      <th>type_tag_x</th>\n",
        "      <th>customer</th>\n",
        "      <th>filename_y</th>\n",
        "      <th>import_time_y</th>\n",
        "      <th>length</th>\n",
        "      <th>type_tag_y</th>\n",
        "      <th>count</th>\n",
        "    </tr>\n",
        "  </thead>\n",
        "  <tbody>\n",
        "    <tr>\n",
        "      <th>0</th>\n",
        "      <td> us-ascii</td>\n",
        "      <td> 4.831076</td>\n",
        "      <td>  25218</td>\n",
        "      <td> ASCII text</td>\n",
        "      <td>  conn.log</td>\n",
        "      <td> 2014-04-21T21:23:00.761000Z</td>\n",
        "      <td> f12f0237be84a8e353477e55ec43589b</td>\n",
        "      <td> text/plain</td>\n",
        "      <td> c7e000dab8b2e0b6f83dff5852e1518579c859c8</td>\n",
        "      <td> 37a0572bd98fc0d7499aa555bce9d88b6abb9c6358628b...</td>\n",
        "      <td> 384:8fEOFAAyP4YaJvFM3jpP0uaNMqmSWKAB9557XAzZF:...</td>\n",
        "      <td> bro</td>\n",
        "      <td>  Huge Inc</td>\n",
        "      <td>  conn.log</td>\n",
        "      <td> 2014-04-21T21:23:00.761000Z</td>\n",
        "      <td>  25218</td>\n",
        "      <td> bro</td>\n",
        "      <td> 1</td>\n",
        "    </tr>\n",
        "    <tr>\n",
        "      <th>1</th>\n",
        "      <td> us-ascii</td>\n",
        "      <td> 5.091089</td>\n",
        "      <td>    541</td>\n",
        "      <td> ASCII text</td>\n",
        "      <td>  dhcp.log</td>\n",
        "      <td> 2014-04-21T21:23:00.782000Z</td>\n",
        "      <td> a62fd3c72c1d688ff8041e0be87d07aa</td>\n",
        "      <td> text/plain</td>\n",
        "      <td> bcf3dbbb0f8f979904c2fe9c9a0898af1c218aa9</td>\n",
        "      <td> a502574c44d5686dc3a8fd5147929a8d5eb0c574efa9cc...</td>\n",
        "      <td> 12:Nxl6mXA+5zPirRsr8Bf8jEQfcLthcYHowqFtQfcLthc...</td>\n",
        "      <td> bro</td>\n",
        "      <td>  Huge Inc</td>\n",
        "      <td>  dhcp.log</td>\n",
        "      <td> 2014-04-21T21:23:00.782000Z</td>\n",
        "      <td>    541</td>\n",
        "      <td> bro</td>\n",
        "      <td> 1</td>\n",
        "    </tr>\n",
        "    <tr>\n",
        "      <th>2</th>\n",
        "      <td> us-ascii</td>\n",
        "      <td> 4.930074</td>\n",
        "      <td>  23896</td>\n",
        "      <td> ASCII text</td>\n",
        "      <td>   dns.log</td>\n",
        "      <td> 2014-04-21T21:23:00.828000Z</td>\n",
        "      <td> 438022b94b10cada18414314b0c8584b</td>\n",
        "      <td> text/plain</td>\n",
        "      <td> 2e6f7e8fa47e1019299eb746ecbcc144b01f2119</td>\n",
        "      <td> 8b75b565d2c1512e00b8ec5c82f5690a8feb69f208fdbc...</td>\n",
        "      <td> 384:7+DS44COS44BDP6yfRKv8Y30ikGg+q9uW+datQOyTZ...</td>\n",
        "      <td> bro</td>\n",
        "      <td> Mega Corp</td>\n",
        "      <td>   dns.log</td>\n",
        "      <td> 2014-04-21T21:23:00.828000Z</td>\n",
        "      <td>  23896</td>\n",
        "      <td> bro</td>\n",
        "      <td> 1</td>\n",
        "    </tr>\n",
        "    <tr>\n",
        "      <th>3</th>\n",
        "      <td> us-ascii</td>\n",
        "      <td> 5.085828</td>\n",
        "      <td>  40283</td>\n",
        "      <td> ASCII text</td>\n",
        "      <td> files.log</td>\n",
        "      <td> 2014-04-21T21:23:00.849000Z</td>\n",
        "      <td> f57da114f0f1e07b93f374d68c65c583</td>\n",
        "      <td> text/plain</td>\n",
        "      <td> 0eb199f223b21a559ca5072a240953d0ca470936</td>\n",
        "      <td> 671edd7c513dcab7ac2c15938d6c6a88b772ed4158b267...</td>\n",
        "      <td> 384:DdSmE5itzEPGD5m43Jz7NFc2NP6Rwx1/TZGMIWcxl5...</td>\n",
        "      <td> bro</td>\n",
        "      <td>  Huge Inc</td>\n",
        "      <td> files.log</td>\n",
        "      <td> 2014-04-21T21:23:00.849000Z</td>\n",
        "      <td>  40283</td>\n",
        "      <td> bro</td>\n",
        "      <td> 1</td>\n",
        "    </tr>\n",
        "    <tr>\n",
        "      <th>4</th>\n",
        "      <td> us-ascii</td>\n",
        "      <td> 5.721816</td>\n",
        "      <td> 133673</td>\n",
        "      <td> ASCII text</td>\n",
        "      <td>  http.log</td>\n",
        "      <td> 2014-04-21T21:23:00.870000Z</td>\n",
        "      <td> 48c96cf0602a4f29bf1ff00f78ae00ec</td>\n",
        "      <td> text/plain</td>\n",
        "      <td> ff4c56e837c20526c5193e5470f6979bdfc925e5</td>\n",
        "      <td> adda1b244b04c497d08d122c51a7816d57b7e556eabc0e...</td>\n",
        "      <td> 1536:rSHUjmwew9DrIFFh3UCtSkMHMPhn5MxBgMICi0Be:...</td>\n",
        "      <td> bro</td>\n",
        "      <td>  Huge Inc</td>\n",
        "      <td>  http.log</td>\n",
        "      <td> 2014-04-21T21:23:00.870000Z</td>\n",
        "      <td> 133673</td>\n",
        "      <td> bro</td>\n",
        "      <td> 1</td>\n",
        "    </tr>\n",
        "  </tbody>\n",
        "</table>\n",
        "<p>5 rows \u00d7 18 columns</p>\n",
        "</div>"
       ],
       "metadata": {},
       "output_type": "pyout",
       "prompt_number": 113,
       "text": [
        "   encoding   entropy  file_size   file_type filename_x  \\\n",
        "0  us-ascii  4.831076      25218  ASCII text   conn.log   \n",
        "1  us-ascii  5.091089        541  ASCII text   dhcp.log   \n",
        "2  us-ascii  4.930074      23896  ASCII text    dns.log   \n",
        "3  us-ascii  5.085828      40283  ASCII text  files.log   \n",
        "4  us-ascii  5.721816     133673  ASCII text   http.log   \n",
        "\n",
        "                 import_time_x                               md5   mime_type  \\\n",
        "0  2014-04-21T21:23:00.761000Z  f12f0237be84a8e353477e55ec43589b  text/plain   \n",
        "1  2014-04-21T21:23:00.782000Z  a62fd3c72c1d688ff8041e0be87d07aa  text/plain   \n",
        "2  2014-04-21T21:23:00.828000Z  438022b94b10cada18414314b0c8584b  text/plain   \n",
        "3  2014-04-21T21:23:00.849000Z  f57da114f0f1e07b93f374d68c65c583  text/plain   \n",
        "4  2014-04-21T21:23:00.870000Z  48c96cf0602a4f29bf1ff00f78ae00ec  text/plain   \n",
        "\n",
        "                                       sha1  \\\n",
        "0  c7e000dab8b2e0b6f83dff5852e1518579c859c8   \n",
        "1  bcf3dbbb0f8f979904c2fe9c9a0898af1c218aa9   \n",
        "2  2e6f7e8fa47e1019299eb746ecbcc144b01f2119   \n",
        "3  0eb199f223b21a559ca5072a240953d0ca470936   \n",
        "4  ff4c56e837c20526c5193e5470f6979bdfc925e5   \n",
        "\n",
        "                                              sha256  \\\n",
        "0  37a0572bd98fc0d7499aa555bce9d88b6abb9c6358628b...   \n",
        "1  a502574c44d5686dc3a8fd5147929a8d5eb0c574efa9cc...   \n",
        "2  8b75b565d2c1512e00b8ec5c82f5690a8feb69f208fdbc...   \n",
        "3  671edd7c513dcab7ac2c15938d6c6a88b772ed4158b267...   \n",
        "4  adda1b244b04c497d08d122c51a7816d57b7e556eabc0e...   \n",
        "\n",
        "                                              ssdeep type_tag_x   customer  \\\n",
        "0  384:8fEOFAAyP4YaJvFM3jpP0uaNMqmSWKAB9557XAzZF:...        bro   Huge Inc   \n",
        "1  12:Nxl6mXA+5zPirRsr8Bf8jEQfcLthcYHowqFtQfcLthc...        bro   Huge Inc   \n",
        "2  384:7+DS44COS44BDP6yfRKv8Y30ikGg+q9uW+datQOyTZ...        bro  Mega Corp   \n",
        "3  384:DdSmE5itzEPGD5m43Jz7NFc2NP6Rwx1/TZGMIWcxl5...        bro   Huge Inc   \n",
        "4  1536:rSHUjmwew9DrIFFh3UCtSkMHMPhn5MxBgMICi0Be:...        bro   Huge Inc   \n",
        "\n",
        "  filename_y                import_time_y  length type_tag_y  count  \n",
        "0   conn.log  2014-04-21T21:23:00.761000Z   25218        bro      1  \n",
        "1   dhcp.log  2014-04-21T21:23:00.782000Z     541        bro      1  \n",
        "2    dns.log  2014-04-21T21:23:00.828000Z   23896        bro      1  \n",
        "3  files.log  2014-04-21T21:23:00.849000Z   40283        bro      1  \n",
        "4   http.log  2014-04-21T21:23:00.870000Z  133673        bro      1  \n",
        "\n",
        "[5 rows x 18 columns]"
       ]
      }
     ],
     "prompt_number": 113
    },
    {
     "cell_type": "code",
     "collapsed": false,
     "input": [
      "group_df = df_combined[['customer','mime_type']]\n",
      "group_df['submissions'] = 1\n",
      "group_df = group_df.groupby(['customer','mime_type']).sum().unstack()\n",
      "group_df.head()"
     ],
     "language": "python",
     "metadata": {},
     "outputs": [
      {
       "html": [
        "<div style=\"max-height:1000px;max-width:1500px;overflow:auto;\">\n",
        "<table border=\"1\" class=\"dataframe\">\n",
        "  <thead>\n",
        "    <tr>\n",
        "      <th></th>\n",
        "      <th colspan=\"6\" halign=\"left\">submissions</th>\n",
        "    </tr>\n",
        "    <tr>\n",
        "      <th>mime_type</th>\n",
        "      <th>application/pdf</th>\n",
        "      <th>application/vnd.tcpdump.pcap</th>\n",
        "      <th>application/x-dosexec</th>\n",
        "      <th>application/x-shockwave-flash</th>\n",
        "      <th>application/zip</th>\n",
        "      <th>text/plain</th>\n",
        "    </tr>\n",
        "    <tr>\n",
        "      <th>customer</th>\n",
        "      <th></th>\n",
        "      <th></th>\n",
        "      <th></th>\n",
        "      <th></th>\n",
        "      <th></th>\n",
        "      <th></th>\n",
        "    </tr>\n",
        "  </thead>\n",
        "  <tbody>\n",
        "    <tr>\n",
        "      <th>BearTron</th>\n",
        "      <td> 12</td>\n",
        "      <td>NaN</td>\n",
        "      <td> 27</td>\n",
        "      <td>NaN</td>\n",
        "      <td>NaN</td>\n",
        "      <td> 4</td>\n",
        "    </tr>\n",
        "    <tr>\n",
        "      <th>Dorseys Mom</th>\n",
        "      <td> 13</td>\n",
        "      <td>  2</td>\n",
        "      <td> 26</td>\n",
        "      <td>NaN</td>\n",
        "      <td>  1</td>\n",
        "      <td> 1</td>\n",
        "    </tr>\n",
        "    <tr>\n",
        "      <th>Huge Inc</th>\n",
        "      <td> 14</td>\n",
        "      <td>  1</td>\n",
        "      <td> 22</td>\n",
        "      <td>  1</td>\n",
        "      <td>NaN</td>\n",
        "      <td> 4</td>\n",
        "    </tr>\n",
        "    <tr>\n",
        "      <th>Mega Corp</th>\n",
        "      <td> 11</td>\n",
        "      <td>  1</td>\n",
        "      <td> 25</td>\n",
        "      <td>NaN</td>\n",
        "      <td>  1</td>\n",
        "      <td> 1</td>\n",
        "    </tr>\n",
        "  </tbody>\n",
        "</table>\n",
        "<p>4 rows \u00d7 6 columns</p>\n",
        "</div>"
       ],
       "metadata": {},
       "output_type": "pyout",
       "prompt_number": 114,
       "text": [
        "                 submissions                                \\\n",
        "mime_type    application/pdf  application/vnd.tcpdump.pcap   \n",
        "customer                                                     \n",
        "BearTron                  12                           NaN   \n",
        "Dorseys Mom               13                             2   \n",
        "Huge Inc                  14                             1   \n",
        "Mega Corp                 11                             1   \n",
        "\n",
        "                                                                   \\\n",
        "mime_type    application/x-dosexec  application/x-shockwave-flash   \n",
        "customer                                                            \n",
        "BearTron                        27                            NaN   \n",
        "Dorseys Mom                     26                            NaN   \n",
        "Huge Inc                        22                              1   \n",
        "Mega Corp                       25                            NaN   \n",
        "\n",
        "                                          \n",
        "mime_type    application/zip  text/plain  \n",
        "customer                                  \n",
        "BearTron                 NaN           4  \n",
        "Dorseys Mom                1           1  \n",
        "Huge Inc                 NaN           4  \n",
        "Mega Corp                  1           1  \n",
        "\n",
        "[4 rows x 6 columns]"
       ]
      }
     ],
     "prompt_number": 114
    },
    {
     "cell_type": "code",
     "collapsed": false,
     "input": [
      "# Plot entropy box plots based on mime-type\n",
      "group_df['submissions'].plot(kind='bar', stacked=True)\n",
      "plt.xlabel('Customer')\n",
      "plt.ylabel('Submissions')"
     ],
     "language": "python",
     "metadata": {},
     "outputs": [
      {
       "metadata": {},
       "output_type": "pyout",
       "prompt_number": 115,
       "text": [
        "<matplotlib.text.Text at 0x11360f8d0>"
       ]
      },
      {
       "metadata": {},
       "output_type": "display_data",
       "png": "[encoded data removed]",
       "text": [
        "<matplotlib.figure.Figure at 0x113cac190>"
       ]
      }
     ],
     "prompt_number": 115
    }
   ],
   "metadata": {}
  }
 ]
}